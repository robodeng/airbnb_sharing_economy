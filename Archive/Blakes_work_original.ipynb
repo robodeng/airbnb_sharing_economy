{
 "cells": [
  {
   "cell_type": "markdown",
   "metadata": {},
   "source": [
    "# Imports"
   ]
  },
  {
   "cell_type": "code",
   "execution_count": 1,
   "metadata": {
    "collapsed": true
   },
   "outputs": [],
   "source": [
    "#Enable matplotlib to display in jupyter notebook & import it\n",
    "%matplotlib inline\n",
    "\n",
    "import matplotlib.pyplot as plt\n",
    "import plotly.plotly as py\n",
    "import plotly.graph_objs as go\n",
    "import pandas as pd\n",
    "import numpy as np\n",
    "import re\n",
    "from geopy.geocoders import Nominatim #used in filling missing zipcodes\n",
    "import math\n"
   ]
  },
  {
   "cell_type": "markdown",
   "metadata": {},
   "source": [
    "# Reading Files"
   ]
  },
  {
   "cell_type": "code",
   "execution_count": 2,
   "metadata": {
    "collapsed": false
   },
   "outputs": [],
   "source": [
    "#Read Files\n",
    "#\"originals\" should never be modified.  They exist to check work.  They should be deleted in our final work\n",
    "listings_original = pd.read_csv('data/listings.csv')\n",
    "calendar_oiginal = pd.read_csv('data/calendar.csv')\n",
    "reviews_original = pd.read_csv('data/reviews.csv')\n",
    "\n",
    "listings = listings_original.copy()\n",
    "calendar = calendar_oiginal.copy()\n",
    "reviews = reviews_original.copy()\n",
    "\n",
    "# #Final version should just have the code below\n",
    "# listings = pd.read_csv('data/listings.csv')\n",
    "# calendar = pd.read_csv('data/calendar.csv')\n",
    "# reviews = pd.read_csv('data/reviews.csv')\n"
   ]
  },
  {
   "cell_type": "markdown",
   "metadata": {},
   "source": [
    "# Clean the Data"
   ]
  },
  {
   "cell_type": "markdown",
   "metadata": {},
   "source": [
    "## Listings Data"
   ]
  },
  {
   "cell_type": "code",
   "execution_count": 3,
   "metadata": {
    "collapsed": false
   },
   "outputs": [
    {
     "name": "stdout",
     "output_type": "stream",
     "text": [
      "start\n",
      "done\n"
     ]
    }
   ],
   "source": [
    "print('start')\n",
    "#for testing\n",
    "listings = listings_original.copy()\n",
    "\n",
    "###remove hosts who have never responded to or received a message\n",
    "#there are better ways to do this\n",
    "#unused_listings = listings[listings.host_response_time.isnull()].copy()\n",
    "#listings = listings[listings.host_response_time.notnull()]\n",
    "\n",
    "#listings.columns[(listings.isnull().sum()==3585)]\n",
    "#returns these (empty variables)\n",
    "#Index(['neighbourhood_group_cleansed', 'has_availability', 'license','jurisdiction_names'],\n",
    "      \n",
    "      \n",
    "# Description:  \n",
    "# Original shape = (3585, 95)\n",
    "\n",
    "# id\n",
    "# Type: Float\n",
    "# What: The listing id is a unique id # for each property being listed on airBnB\n",
    "# Cleaning: SET AS INDEX\n",
    "\n",
    "#listings.index = set_index('id', inplace=True) #this also sets index but doesn't leave me with id as a column\n",
    "listings.index = listings.id.copy()\n",
    "\n",
    "# listing_url\n",
    "# Type: String\n",
    "# What: Url in for the listing in the format: \"https://www.airbnb.com/rooms/\" + listing.id\n",
    "# Cleaning: leave in for easy access to listings while exploring data\n",
    "\n",
    "# scrape_id\n",
    "# Type: int\n",
    "# What: Identify which webscrape the data came from, all of Boston came from the same scrape: 20160906204935\n",
    "#Cleaning: Delete.  Not relevant to our analysis\n",
    "del(listings['scrape_id'])\n",
    "\n",
    "# last_scraped\n",
    "# Type: str\n",
    "# What: The date that our data was scraped, it is the same for all of Boston entries: 2016-09-07\n",
    "# Cleaning : Convert to date\n",
    "listings.last_scraped = pd.to_datetime(listings.last_scraped)\n",
    "\n",
    "# name\n",
    "# Type: str\n",
    "# What: This text is the \"title\" of any listing.  In a search result it would \n",
    "#       be the text that users see as the first description of a listing.  It\n",
    "#       is also the title of the page for a listing in browser history. etc.\n",
    "# Cleaning:  None\n",
    "# Uses: keyword analysis\n",
    "pass\n",
    "\n",
    "# summary\n",
    "# Type: str or NaN\n",
    "# What: Prose that is displayed on listing webpage for \"About this listing\".\n",
    "# Cleaning: Fill NaN with \"\" so that all types match\n",
    "# Uses: Keyword analysis\n",
    "pass\n",
    "len(listings.summary.unique()) #=3114\n",
    "listings.summary = listings.summary.fillna('')\n",
    "listings.summary[listings.summary == ''].count() #=143\n",
    "listings.summary.value_counts().index[1] #most common summary other than \"\"\n",
    "listings[listings.summary == listings.summary.value_counts().index[1]]\n",
    "#more exploration of duplicates needed\n",
    "\n",
    "\n",
    "# space\n",
    "# Type: str or NaN\n",
    "# What: [OPTIONAL] Prose to describe the inside space of a listing\n",
    "# Cleaning: Fill NaN with \"\" so that all types match\n",
    "listings.space.isnull().any()\n",
    "len(listings.space.unique()) #=2269\n",
    "listings.space = listings.space.fillna('')\n",
    "listings.space[listings.space == ''].count() #=1057\n",
    "listings.space.value_counts()\n",
    "#more exploration of duplicates needed\n",
    "\n",
    "# description\n",
    "# Type: str\n",
    "# What: Prose that contains the first 1000 characters of the merging of other descriptive prose:\n",
    "#     summary\n",
    "#     space\n",
    "#     experiences_offered\n",
    "#     neighborhood_overview\n",
    "#     notes\n",
    "#     transit\n",
    "#     access\n",
    "#     interaction\n",
    "#     house_rules\n",
    "# Cleaning: Delete.  the fact that it only gives us the first 1000 characters makes it unuseful.\n",
    "del(listings['description'])\n",
    "\n",
    "# experiences_offered\n",
    "# Type: str\n",
    "# What: 'none' for every entry\n",
    "# Cleaning: Delete\n",
    "del(listings['experiences_offered'])\n",
    "\n",
    "# neighborhood_overview\n",
    "# Type: str or NaN\n",
    "# What: [OPTIONAL] description by host of the neighborhood \n",
    "# Cleaning: Fill NaN with \"\" so that all types match\n",
    "listings.neighborhood_overview.isnull().sum() #=1415\n",
    "len(listings.neighborhood_overview.unique()) #=1729\n",
    "listings.neighborhood_overview = listings.neighborhood_overview.fillna('')\n",
    "#more exploration of duplicates needed\n",
    "\n",
    "# notes\n",
    "# Type: str or NaN\n",
    "# What: [OPTIONAL] under \"Other things to note\" in the description on webpage\n",
    "# Cleaning: Fill NaN with \"\" so that all types match\n",
    "listings.notes.isnull().sum() #=1975\n",
    "listings.notes = listings.notes.fillna('')\n",
    "len(listings.notes.unique()) #=1270\n",
    "#more exploration of duplicates needed\n",
    "\n",
    "\n",
    "# transit\n",
    "# Type: str or NaN\n",
    "# What: [OPTIONAL] under \"Getting around\" in the description on webpage\n",
    "# Cleaning: Fill NaN with \"\" so that all types match\n",
    "listings.transit.isnull().sum()\n",
    "listings.transit = listings.transit.fillna('')\n",
    "len(listings.transit.unique())\n",
    "#more exploration of duplicates needed\n",
    "\n",
    "\n",
    "# access\n",
    "# Type: str or NaN\n",
    "# What: [OPTIONAL] under \"Guest access\" in the description on webpage\n",
    "# Cleaning: Fill NaN with \"\" so that all types match\n",
    "listings.access.isnull().sum() #=1489\n",
    "listings.access = listings.access.fillna('') \n",
    "len(listings.access.unique()) #=1763\n",
    "#more exploration of duplicates needed\n",
    "\n",
    "\n",
    "# interaction\n",
    "# Type: str or NaN\n",
    "# What: [OPTIONAL] under \"Interaction with guests\" in the description on webpage\n",
    "# Cleaning: Fill NaN with \"\" so that all types match\n",
    "listings.interaction.isnull().sum() #=1554\n",
    "listings.interaction = listings.interaction.fillna('') \n",
    "len(listings.interaction.unique()) #=1618\n",
    "#more exploration of duplicates needed\n",
    "\n",
    "\n",
    "# house_rules\n",
    "# Type: str or NaN\n",
    "# What: [OPTIONAL] under \"Interaction with guests\" in the description on webpage\n",
    "# Cleaning: Fill NaN with \"\" so that all types match\n",
    "listings.house_rules.isnull().sum() #=1192\n",
    "listings.house_rules = listings.house_rules.fillna('') \n",
    "len(listings.house_rules.unique()) #=1929\n",
    "\n",
    "\n",
    "\n",
    "# thumbnail_url\n",
    "# medium_url\n",
    "# picture_url\n",
    "# xl_picture_url\n",
    "# Type: str or NaN\n",
    "# What: URL to different image resourses\n",
    "# Cleaning: Delete\n",
    "del(listings['thumbnail_url'])\n",
    "del(listings['medium_url'])\n",
    "del(listings['picture_url'])\n",
    "del(listings['xl_picture_url'])\n",
    "\n",
    "# host_id\n",
    "# Type: int\n",
    "# What: The listing id is a unique id # for each host on airbnb\n",
    "# Cleaning: None\n",
    "# host_url\n",
    "# Cleaning: Delete\n",
    "del(listings['host_url'])\n",
    "\n",
    "\n",
    "# host_name\n",
    "# Type: str\n",
    "# What: Host first name only\n",
    "# Cleaning: append the user id to each host_Name to distinguish between people with the same name\n",
    "listings['host_name'] = listings['host_name'] + ' ' + str(listings['host_id'])\n",
    "#listings.host_name.value_counts()\n",
    "\n",
    "# host_since\n",
    "# Type: str\n",
    "# What:\n",
    "# Cleaning: convert to date\n",
    "listings.host_since = pd.to_datetime(listings.host_since)\n",
    "\n",
    "# host_location\n",
    "# Type: str\n",
    "# What: Location that the host lives in\n",
    "# Cleaning: delete (data is not consistent enough to be relevant, perhaps could be cleaned in the future)\n",
    "del listings['host_location']\n",
    "\n",
    "\n",
    "# host_about\n",
    "# Type: Str or Nan\n",
    "# What: Prose.  Host description of themselves.\n",
    "# Cleaning: replace NaN with '' so all types match (str)\n",
    "listings.host_about.isnull().sum() #1309\n",
    "listings.host_about = listings.host_about.fillna('') \n",
    "len(listings.host_about.unique()) #=1241\n",
    "\n",
    "# host_response_time\n",
    "# Type: Str or NaN  [nan, 'within an hour', 'within a few hours', 'within a day', 'a few days or more']\n",
    "# What: A value, (probably generated automatically by AirBnB) to indicate how long a message is replied to.\n",
    "listings.host_response_time.isnull().sum() #471\n",
    "listings.host_response_time = listings.host_response_time.fillna('') \n",
    "\n",
    "# host_response_rate\n",
    "# Type: Str (in the form '<0-100>%' or NaN\n",
    "# What: the percent of messages that a host responds to\n",
    "# cleaning: leave NaN, convert rest to decimal value (0.0-1.0)\n",
    "listings.host_response_rate.isnull().sum() #471\n",
    "(listings.host_response_rate == '0%').sum() #13\n",
    "listings.host_response_rate = listings.host_response_rate.apply(lambda x: np.NaN if type(x) == float else int(x[:-1])/100)\n",
    "\n",
    "# host_acceptance_rate\n",
    "# Type: Str (in the form '<0-100>%' or NaN\n",
    "# What: the percent of offers to rent a room that a host accepts\n",
    "# cleaning: leave NaN, convert rest to decimal value (0.0-1.0)\n",
    "listings.host_acceptance_rate.isnull().sum() #471\n",
    "(listings.host_acceptance_rate == '0%').sum() #49\n",
    "listings.host_acceptance_rate = listings.host_acceptance_rate.apply(lambda x: np.NaN if type(x) == float else int(x[:-1])/100)\n",
    "#plt = listings.host_acceptance_rate.hist(bins = 20)\n",
    "#plt.set_title('host_acceptance_rate')\n",
    "\n",
    "# host_is_superhost\n",
    "# Type: Str 't' or 'f'\n",
    "# What: special designation AirBnB provides to host who meet qulifications.\n",
    "#       more info at https://www.airbnb.com/superhost/terms\n",
    "# cleaning: convert to boolean True or False\n",
    "listings.host_is_superhost = listings.host_is_superhost.apply(lambda x: True if x == 't'else False)\n",
    "listings.host_is_superhost.sum() #407 superhosts\n",
    "\n",
    "# host_thumbnail_url\n",
    "# Cleaning: Delete\n",
    "del(listings['host_thumbnail_url'])\n",
    "\n",
    "# host_picture_url\n",
    "# Cleaning: Delete\n",
    "del(listings['host_picture_url'])\n",
    "\n",
    "# host_neighbourhood\n",
    "# Type: Str or Nan\n",
    "# What: Self reported neighborhood the host lives in.  not reliablie or useful\n",
    "# Cleaning: delete\n",
    "del listings['host_neighbourhood']\n",
    "\n",
    "# host_listings_count\n",
    "# Type: int\n",
    "# What: The number of listings that the host has ACROSS ALL OF AIRBNB\n",
    "# Related: If you want the number of listings that they have in this set, use calculated_host_listings_count\n",
    "\n",
    "# host_total_listings_count\n",
    "# Cleaning: Delete\n",
    "(listings['host_total_listings_count'] == listings['host_listings_count']).all() #true\n",
    "del(listings['host_total_listings_count'])\n",
    "\n",
    "# host_verifications\n",
    "###Unique Values:\n",
    "##set([item for host in [re.sub(r\"[\\['\\s\\]]\", '', host, 0).split(',') for host in listings.host_verifications.unique().tolist()] for item in host])\n",
    "## {'amex',\n",
    "##  'email',\n",
    "##  'facebook',  \n",
    "##  'google',\n",
    "##  'jumio',\n",
    "##  'kba',\n",
    "##  'linkedin',\n",
    "##  'manual_offline',\n",
    "##  'manual_online',\n",
    "##  'phone',\n",
    "##  'reviews',\n",
    "##  'sent_id',\n",
    "##  'weibo'}\n",
    "# cleaning: Delete\n",
    "#del listings['host_verifications']\n",
    "\n",
    "# host_has_profile_pic\n",
    "# Cleaning: Delete, only 7 don't have a pic, also not relevant to our work\n",
    "listings.host_has_profile_pic[listings.host_has_profile_pic == 'f'] #there were 7 listings\n",
    "del(listings['host_has_profile_pic'])\n",
    "\n",
    "# host_identity_verified\n",
    "# Type: str ('t' or 'f')\n",
    "# What: is the hosts identity verified\n",
    "# Cleaning:\n",
    "#listings.host_identity_verified.value_counts()  \n",
    "        #t    2359\n",
    "        #f     755\n",
    "listings.host_identity_verified = listings.host_identity_verified == 't'\n",
    "listings[listings.host_identity_verified == False].host_verifications\n",
    "#this shows that there are some ways to partially verify a host identity without gaining \"host_identity_verrified\" status\n",
    "\n",
    "# street\n",
    "# Type: str (e.g. Pinehurst Street, Boston, MA 02131, United States) (not all are consistent format)\n",
    "# What: street that the listing is on.\n",
    "# Cleaning: delete\n",
    "#listings.street.str.extract(r'^(.*?)[\\s,]').value_counts()\n",
    "del listings['street']\n",
    "\n",
    "\n",
    "# neighbourhood\n",
    "# Type: str \n",
    "# What: neighborhood the listing is in\n",
    "# Cleaning: delete. neighbourhood_cleansed contains better data that matches neighbourhood.geojson (I think)\n",
    "del listings['neighbourhood']\n",
    "#n = listings[['neighbourhood','neighbourhood_cleansed']]\n",
    "#n = n[(n['neighbourhood'] != n['neighbourhood_cleansed'])]\n",
    "#n[(n['neighbourhood'] == n['neighbourhood'])]\n",
    "#n.to_csv('neighbourhood_vs_neighbourhood_cleansed.csv')\n",
    "\n",
    "# neighbourhood_cleansed\n",
    "# Type: str \n",
    "# What: neighborhood the listing is in\n",
    "# Cleaning: None needed\n",
    "\n",
    "# neighbourhood_group_cleansed\n",
    "# Cleaning: Delete, empty variable (all null)\n",
    "del listings['neighbourhood_group_cleansed']\n",
    "\n",
    "\n",
    "# city\n",
    "# Type: str \n",
    "# What: City as reported by host.  Not SUPER consistent\n",
    "# Cleaning: Delete, we have enough good location data from other variables.\n",
    "del listings['city']\n",
    "\n",
    "# state\n",
    "# Type: str.  all values are 'MA'\n",
    "# Cleaning: delete\n",
    "del listings['state']\n",
    "\n",
    "# zipcode\n",
    "# Type: str or NaN\n",
    "# What: Zipcode that the listing is in\n",
    "# Cleaning: Fill in missing zipcodes usings the latitude and longitude.  Cut off anything past the 5th digit\n",
    "\n",
    "# ###>>>this code has ben commented out because it is slow, uncomment it for fully cleaned data.\n",
    "# def latlonToZip(lat, lon):\n",
    "#     geolocator = Nominatim()\n",
    "#     try:\n",
    "#         location = geolocator.reverse(str(lat)+','+str(lon))\n",
    "#         z = re.compile('(\\s)([0-9]{5})(,\\sUnited)')\n",
    "#         #print(z.findall(location[0])[0][1])\n",
    "#         return z.findall(location[0])[0][1]\n",
    "#     except:\n",
    "#         print(str(lat)+','+str(lon),'-----',location)\n",
    "#         return np.nan\n",
    "    \n",
    "#     print(str(lat)+','+str(lon),'-----',location)\n",
    "#     return np.nan\n",
    "# temp = listings[listings.zipcode.isnull()].copy()\n",
    "# listings.zipcode.update(temp.apply(lambda x: latlonToZip(x['latitude'], x['longitude']), axis=1))\n",
    "# listings.zipcode = listings.zipcode.apply(lambda x: x[:5])\n",
    "\n",
    "# market\n",
    "# Cleaning: Delete\n",
    "# listings.market[listings.market != 'Boston'] ######the results from this are very odd\n",
    "del listings['market']\n",
    "\n",
    "\n",
    "# smart_location\n",
    "# Cleaning: Delete, not great data, redunant with 'city' and we have better data for location \n",
    "del listings['smart_location']\n",
    "\n",
    "# country_code\n",
    "# Cleaning: Delete\n",
    "#(listings.country_code == listings.country_code[0]).all() #=True: 'US'\n",
    "del listings['country_code']\n",
    "\n",
    "# country\n",
    "#(listings.country == listings.country[0]).all() #=True: 'United States'\n",
    "del listings['country']\n",
    "\n",
    "# latitude\n",
    "listings.latitude\n",
    "\n",
    "\n",
    "# longitude\n",
    "######################################################################################################CollinToDO\n",
    "\n",
    "# is_location_exact\n",
    "######################################################################################################CollinToDO\n",
    "\n",
    "# property_type\n",
    "######################################################################################################CollinToDO\n",
    "\n",
    "# room_type\n",
    "######################################################################################################CollinToDO\n",
    "\n",
    "# accommodates\n",
    "######################################################################################################CollinToDO\n",
    "\n",
    "# bathrooms\n",
    "######################################################################################################CollinToDO\n",
    "\n",
    "# bedrooms\n",
    "######################################################################################################CollinToDO\n",
    "\n",
    "# beds\n",
    "######################################################################################################CollinToDO\n",
    "\n",
    "# bed_type\n",
    "######################################################################################################CollinToDO\n",
    "\n",
    "# amenities\n",
    "######################################################################################################CollinToDO\n",
    "\n",
    "\n",
    "# square_feet\n",
    "# Cleaning:  We may want to consider deleting this variable, only 56 entries have data\n",
    "listings.square_feet.isnull().sum() #=3529\n",
    "listings.square_feet = listings.square_feet.replace('[^0-9.]+','',regex=True).astype(float)\n",
    "\n",
    "# price\n",
    "#this regex \"replaces\" anything that is not a digit or a decimal with the empty string\n",
    "#effectively removing anything that's not part of the number\n",
    "listings.price = listings.price.replace('[^0-9.]+','',regex=True).astype(float)\n",
    "\n",
    "\n",
    "# weekly_price\n",
    "listings.weekly_price = listings.weekly_price.replace('[^0-9.]+','',regex=True).astype(float)\n",
    "# monthly_price\n",
    "listings.monthly_price = listings.monthly_price.replace('[^0-9.]+','',regex=True).astype(float)\n",
    "# security_deposit\n",
    "listings.security_deposit = listings.security_deposit.replace('[^0-9.]+','',regex=True).astype(float)\n",
    "# cleaning_fee\n",
    "listings.cleaning_fee = listings.cleaning_fee.replace('[^0-9.]+','',regex=True).astype(float)\n",
    "\n",
    "# guests_included\n",
    "######################################################################################################CollinToDO\n",
    "\n",
    "# extra_people\n",
    "######################################################################################################CollinToDO\n",
    "\n",
    "# minimum_nights\n",
    "######################################################################################################CollinToDO\n",
    "\n",
    "# maximum_nights\n",
    "######################################################################################################CollinToDO\n",
    "\n",
    "# calendar_updated\n",
    "######################################################################################################CollinToDO\n",
    "\n",
    "\n",
    "# has_availability\n",
    "# Cleaning: Delete, empty variable (all null)\n",
    "del listings['has_availability']\n",
    "\n",
    "\n",
    "\n",
    "# availability_30\n",
    "######################################################################################################CollinToDO\n",
    "\n",
    "# availability_60\n",
    "######################################################################################################CollinToDO\n",
    "\n",
    "# availability_90\n",
    "######################################################################################################CollinToDO\n",
    "\n",
    "# availability_365\n",
    "######################################################################################################CollinToDO\n",
    "\n",
    "# calendar_last_scraped\n",
    "######################################################################################################CollinToDO\n",
    "\n",
    "# number_of_reviews\n",
    "######################################################################################################CollinToDO\n",
    "\n",
    "# first_review\n",
    "######################################################################################################CollinToDO\n",
    "\n",
    "# last_review\n",
    "######################################################################################################CollinToDO\n",
    "\n",
    "# review_scores_rating\n",
    "######################################################################################################CollinToDO\n",
    "\n",
    "# review_scores_accuracy\n",
    "######################################################################################################CollinToDO\n",
    "\n",
    "# review_scores_cleanliness\n",
    "######################################################################################################CollinToDO\n",
    "\n",
    "# review_scores_checkin\n",
    "######################################################################################################CollinToDO\n",
    "\n",
    "# review_scores_communication\n",
    "######################################################################################################CollinToDO\n",
    "\n",
    "# review_scores_location\n",
    "######################################################################################################CollinToDO\n",
    "\n",
    "# review_scores_value\n",
    "######################################################################################################CollinToDO\n",
    "\n",
    "# requires_license\n",
    "######################################################################################################CollinToDO\n",
    "\n",
    "# license\n",
    "# Cleaning: Delete, empty variable (all null)\n",
    "del listings['license']\n",
    "\n",
    "# jurisdiction_names\n",
    "# Cleaning: Delete, empty variable (all null)\n",
    "del listings['jurisdiction_names']\n",
    "\n",
    "# instant_bookable\n",
    "######################################################################################################CollinToDO\n",
    "\n",
    "# cancellation_policy\n",
    "######################################################################################################CollinToDO\n",
    "\n",
    "# require_guest_profile_picture\n",
    "######################################################################################################CollinToDO\n",
    "\n",
    "# require_guest_phone_verification\n",
    "######################################################################################################CollinToDO\n",
    "\n",
    "\n",
    "\n",
    "# calculated_host_listings_count\n",
    "# Type: int\n",
    "# What: The number of listings that the host has THIS data set\n",
    "# Related: If you want the number of th listings that the host has across ALL of airbnb\n",
    "#          use host_listings_count\n",
    "#listings.calculated_host_listings_count == listings.host_listings_count # not all true\n",
    "#listings[['host_id','calculated_host_listings_count','host_listings_count']][listings.calculated_host_listings_count != listings.host_listings_count]\n",
    "\n",
    "\n",
    "\n",
    "# reviews_per_month\n",
    "######################################################################################################CollinToDO\n",
    "\n",
    "\n",
    "\n",
    "#TO Do:\n",
    "#delete all listings whose  host_response_time is null\n",
    "\n",
    "\n",
    "listings_cleaned = listings.copy()\n",
    "print('done')\n",
    "\n"
   ]
  },
  {
   "cell_type": "code",
   "execution_count": 4,
   "metadata": {
    "collapsed": false
   },
   "outputs": [],
   "source": [
    "#cleaning the listings.amenities and creating dummy variables\n",
    "listings.amenities = listings.amenities.replace('[^\\w,\\s/]+','',regex=True).apply(lambda x: x.split(','))\n",
    "amenities = list(set([item for item_list in listings.amenities for item in item_list]))\n",
    "amenities.remove('translation missing enhosting_amenity_49')\n",
    "amenities.remove('')\n",
    "\n",
    "amn_frame = pd.DataFrame(index = listings.index)\n",
    "\n",
    "for amn in amenities:\n",
    "    amn_frame = amn_frame.join(listings.amenities.apply(lambda amns: amn in amns)).rename(columns={'amenities':amn})"
   ]
  },
  {
   "cell_type": "code",
   "execution_count": 5,
   "metadata": {
    "collapsed": false
   },
   "outputs": [],
   "source": [
    "#calendar = calendar_oiginal.copy()\n",
    "\n",
    "\n",
    "#calendar = calendar.drop(calendar.listing_id.isin(unused_listings.id))\n",
    "#remove = calendar.groupby('listing_id').filter(lambda x: x.price.isnull().all())\n",
    "#calendar = calendar.drop(remove.index)\n",
    "\n",
    "#\n",
    "calendar.date = pd.to_datetime(calendar.date)\n",
    "calendar['day_of_week'] = calendar.date.dt.dayofweek\n",
    "\n",
    "#\n",
    "calendar.available.replace({'f':False,'t':True}, inplace=True)\n",
    "\n",
    "#\n",
    "calendar.price = calendar.price.replace('[^0-9.]+','',regex=True).astype(float)\n",
    "\n",
    "day_means = calendar.groupby(['listing_id','day_of_week']).price.mean()\n",
    "day_means = pd.DataFrame(day_means)\n",
    "day_means.price = day_means.price.fillna(0)\n",
    "day_means = day_means.to_dict('index')\n",
    "\n",
    "calendar['price_model'] = list(zip(calendar.listing_id, calendar.day_of_week))\n",
    "calendar.price_model = calendar.price_model.apply(lambda x: day_means[x]['price'])\n",
    "calendar['modeled_price'] = np.where(calendar.price.isnull(),calendar.price_model,calendar.price)\n",
    "\n",
    "calendar['day_revenue'] = np.where(np.invert(calendar.available), calendar.modeled_price, 0)\n",
    "\n",
    "\n",
    "calendar = calendar.copy()\n",
    "#calendar"
   ]
  },
  {
   "cell_type": "code",
   "execution_count": 6,
   "metadata": {
    "collapsed": true
   },
   "outputs": [],
   "source": [
    "com_host_id = listings[listings.calculated_host_listings_count >2].host_id.unique()"
   ]
  },
  {
   "cell_type": "code",
   "execution_count": 7,
   "metadata": {
    "collapsed": false
   },
   "outputs": [],
   "source": [
    "com_list_id = listings.id[listings.host_id.isin(com_host_id)]\n"
   ]
  },
  {
   "cell_type": "code",
   "execution_count": 8,
   "metadata": {
    "collapsed": false
   },
   "outputs": [
    {
     "data": {
      "text/html": [
       "<div>\n",
       "<table border=\"1\" class=\"dataframe\">\n",
       "  <thead>\n",
       "    <tr style=\"text-align: right;\">\n",
       "      <th></th>\n",
       "      <th>listing_id</th>\n",
       "      <th>date</th>\n",
       "      <th>available</th>\n",
       "      <th>price</th>\n",
       "      <th>day_of_week</th>\n",
       "      <th>price_model</th>\n",
       "      <th>modeled_price</th>\n",
       "      <th>day_revenue</th>\n",
       "    </tr>\n",
       "  </thead>\n",
       "  <tbody>\n",
       "    <tr>\n",
       "      <th>2190</th>\n",
       "      <td>5706985</td>\n",
       "      <td>2017-09-05</td>\n",
       "      <td>True</td>\n",
       "      <td>100.0</td>\n",
       "      <td>1</td>\n",
       "      <td>106.882353</td>\n",
       "      <td>100.0</td>\n",
       "      <td>0.0</td>\n",
       "    </tr>\n",
       "    <tr>\n",
       "      <th>2191</th>\n",
       "      <td>5706985</td>\n",
       "      <td>2017-09-04</td>\n",
       "      <td>True</td>\n",
       "      <td>100.0</td>\n",
       "      <td>0</td>\n",
       "      <td>106.734694</td>\n",
       "      <td>100.0</td>\n",
       "      <td>0.0</td>\n",
       "    </tr>\n",
       "    <tr>\n",
       "      <th>2192</th>\n",
       "      <td>5706985</td>\n",
       "      <td>2017-09-03</td>\n",
       "      <td>True</td>\n",
       "      <td>100.0</td>\n",
       "      <td>6</td>\n",
       "      <td>104.940000</td>\n",
       "      <td>100.0</td>\n",
       "      <td>0.0</td>\n",
       "    </tr>\n",
       "    <tr>\n",
       "      <th>2193</th>\n",
       "      <td>5706985</td>\n",
       "      <td>2017-09-02</td>\n",
       "      <td>True</td>\n",
       "      <td>125.0</td>\n",
       "      <td>5</td>\n",
       "      <td>126.562500</td>\n",
       "      <td>125.0</td>\n",
       "      <td>0.0</td>\n",
       "    </tr>\n",
       "    <tr>\n",
       "      <th>2194</th>\n",
       "      <td>5706985</td>\n",
       "      <td>2017-09-01</td>\n",
       "      <td>True</td>\n",
       "      <td>125.0</td>\n",
       "      <td>4</td>\n",
       "      <td>126.562500</td>\n",
       "      <td>125.0</td>\n",
       "      <td>0.0</td>\n",
       "    </tr>\n",
       "  </tbody>\n",
       "</table>\n",
       "</div>"
      ],
      "text/plain": [
       "      listing_id       date available  price  day_of_week  price_model  \\\n",
       "2190     5706985 2017-09-05      True  100.0            1   106.882353   \n",
       "2191     5706985 2017-09-04      True  100.0            0   106.734694   \n",
       "2192     5706985 2017-09-03      True  100.0            6   104.940000   \n",
       "2193     5706985 2017-09-02      True  125.0            5   126.562500   \n",
       "2194     5706985 2017-09-01      True  125.0            4   126.562500   \n",
       "\n",
       "      modeled_price  day_revenue  \n",
       "2190          100.0          0.0  \n",
       "2191          100.0          0.0  \n",
       "2192          100.0          0.0  \n",
       "2193          125.0          0.0  \n",
       "2194          125.0          0.0  "
      ]
     },
     "execution_count": 8,
     "metadata": {},
     "output_type": "execute_result"
    }
   ],
   "source": [
    "com_calendar = calendar[calendar.listing_id.isin(com_list_id)]\n",
    "com_calendar.head()"
   ]
  },
  {
   "cell_type": "code",
   "execution_count": 9,
   "metadata": {
    "collapsed": false
   },
   "outputs": [
    {
     "name": "stderr",
     "output_type": "stream",
     "text": [
      "/Users/collinreinking/anaconda3/lib/python3.5/site-packages/ipykernel/__main__.py:1: SettingWithCopyWarning:\n",
      "\n",
      "\n",
      "A value is trying to be set on a copy of a slice from a DataFrame.\n",
      "Try using .loc[row_indexer,col_indexer] = value instead\n",
      "\n",
      "See the caveats in the documentation: http://pandas.pydata.org/pandas-docs/stable/indexing.html#indexing-view-versus-copy\n",
      "\n"
     ]
    }
   ],
   "source": [
    "com_calendar['avail_int'] = com_calendar.available.apply(int)\n",
    "mean_avail = com_calendar.groupby('date').avail_int.mean()"
   ]
  },
  {
   "cell_type": "code",
   "execution_count": 10,
   "metadata": {
    "collapsed": false
   },
   "outputs": [
    {
     "name": "stderr",
     "output_type": "stream",
     "text": [
      "/Users/collinreinking/anaconda3/lib/python3.5/site-packages/calmap/__init__.py:294: FutureWarning:\n",
      "\n",
      "how in .resample() is deprecated\n",
      "the new syntax is .resample(...).sum()\n",
      "\n",
      "/Users/collinreinking/anaconda3/lib/python3.5/site-packages/calmap/__init__.py:146: MatplotlibDeprecationWarning:\n",
      "\n",
      "The get_axis_bgcolor function was deprecated in version 2.0. Use get_facecolor instead.\n",
      "\n"
     ]
    },
    {
     "data": {
      "text/plain": [
       "(<matplotlib.figure.Figure at 0x108567d68>,\n",
       " array([<matplotlib.axes._subplots.AxesSubplot object at 0x11a9bdc88>,\n",
       "        <matplotlib.axes._subplots.AxesSubplot object at 0x121050cc0>], dtype=object))"
      ]
     },
     "execution_count": 10,
     "metadata": {},
     "output_type": "execute_result"
    },
    {
     "data": {
      "image/png": "[encoded data removed]",
      "text/plain": [
       "<matplotlib.figure.Figure at 0x108567d68>"
      ]
     },
     "metadata": {},
     "output_type": "display_data"
    }
   ],
   "source": [
    "%matplotlib inline\n",
    "import calmap\n",
    "calmap.calendarplot(mean_avail)"
   ]
  },
  {
   "cell_type": "code",
   "execution_count": 11,
   "metadata": {
    "collapsed": false
   },
   "outputs": [
    {
     "name": "stderr",
     "output_type": "stream",
     "text": [
      "/Users/collinreinking/anaconda3/lib/python3.5/site-packages/calmap/__init__.py:294: FutureWarning:\n",
      "\n",
      "how in .resample() is deprecated\n",
      "the new syntax is .resample(...).sum()\n",
      "\n",
      "/Users/collinreinking/anaconda3/lib/python3.5/site-packages/calmap/__init__.py:146: MatplotlibDeprecationWarning:\n",
      "\n",
      "The get_axis_bgcolor function was deprecated in version 2.0. Use get_facecolor instead.\n",
      "\n"
     ]
    },
    {
     "data": {
      "text/plain": [
       "(<matplotlib.figure.Figure at 0x118078518>,\n",
       " array([<matplotlib.axes._subplots.AxesSubplot object at 0x11806df60>,\n",
       "        <matplotlib.axes._subplots.AxesSubplot object at 0x12181e860>], dtype=object))"
      ]
     },
     "execution_count": 11,
     "metadata": {},
     "output_type": "execute_result"
    },
    {
     "data": {
      "image/png": "[encoded data removed]",
      "text/plain": [
       "<matplotlib.figure.Figure at 0x118078518>"
      ]
     },
     "metadata": {},
     "output_type": "display_data"
    }
   ],
   "source": [
    "mean_filled_price = com_calendar.groupby('date').modeled_price.mean()\n",
    "calmap.calendarplot(mean_filled_price)"
   ]
  },
  {
   "cell_type": "code",
   "execution_count": 12,
   "metadata": {
    "collapsed": false
   },
   "outputs": [
    {
     "name": "stderr",
     "output_type": "stream",
     "text": [
      "/Users/collinreinking/anaconda3/lib/python3.5/site-packages/calmap/__init__.py:294: FutureWarning:\n",
      "\n",
      "how in .resample() is deprecated\n",
      "the new syntax is .resample(...).sum()\n",
      "\n",
      "/Users/collinreinking/anaconda3/lib/python3.5/site-packages/calmap/__init__.py:146: MatplotlibDeprecationWarning:\n",
      "\n",
      "The get_axis_bgcolor function was deprecated in version 2.0. Use get_facecolor instead.\n",
      "\n"
     ]
    },
    {
     "data": {
      "text/plain": [
       "(<matplotlib.figure.Figure at 0x11c019e48>,\n",
       " array([<matplotlib.axes._subplots.AxesSubplot object at 0x121843ef0>,\n",
       "        <matplotlib.axes._subplots.AxesSubplot object at 0x117387d30>], dtype=object))"
      ]
     },
     "execution_count": 12,
     "metadata": {},
     "output_type": "execute_result"
    },
    {
     "data": {
      "image/png": "[encoded data removed]",
      "text/plain": [
       "<matplotlib.figure.Figure at 0x11c019e48>"
      ]
     },
     "metadata": {},
     "output_type": "display_data"
    }
   ],
   "source": [
    "mean_price_available = com_calendar.groupby('date').price.mean()\n",
    "calmap.calendarplot(mean_price_available)"
   ]
  },
  {
   "cell_type": "markdown",
   "metadata": {
    "collapsed": false
   },
   "source": [
    "# Creating Quarterly Revenue"
   ]
  },
  {
   "cell_type": "code",
   "execution_count": 13,
   "metadata": {
    "collapsed": false
   },
   "outputs": [],
   "source": [
    "# quarter_dates = ['2016-09-06','2016-12-06','2017-03-06','2017-06-06','2017-07-06']\n",
    "\n",
    "# quarters = [com_calendar[com_calendar.date.isin(pd.date_range(quarter_dates[n], quarter_dates[n+1]))] for n in range(4)]\n",
    "# quarters_revenue = pd.DataFrame(index = pd.Index( com_calendar.listing_id.unique(), name = 'listing_id'))\n",
    "# quarters_revenue = quarters_revenue.join(listings['host_id'])\n",
    "# for n,q in enumerate(quarters):\n",
    "#     quarters_revenue = (quarters_revenue.join(pd.DataFrame(quarters[n].groupby('listing_id').day_revenue.sum()))).rename(columns={'day_revenue':'q'+str(n+1)+'_revenue'})\n",
    "\n",
    "# del listings['id']\n"
   ]
  },
  {
   "cell_type": "code",
   "execution_count": 14,
   "metadata": {
    "collapsed": false
   },
   "outputs": [],
   "source": [
    "\n",
    "\n",
    "quarter_dates = ['2016-09-06','2016-12-06','2017-03-06','2017-06-06','2017-09-06']\n",
    "\n",
    "quarters = [calendar[calendar.date.isin(pd.date_range(quarter_dates[n], quarter_dates[n+1]))] for n in range(4)]\n",
    "quarters_revenue = pd.DataFrame(index = pd.Index(calendar.listing_id.unique(), name = 'listing_id'))\n",
    "quarters_revenue = quarters_revenue.join(listings['host_id'])\n",
    "for n,q in enumerate(quarters):\n",
    "    quarters_revenue = (quarters_revenue.join(pd.DataFrame(quarters[n].groupby('listing_id').day_revenue.sum()))).rename(columns={'day_revenue':'q'+str(n+1)+'_revenue'})\n",
    "\n",
    "del listings['id']\n"
   ]
  },
  {
   "cell_type": "markdown",
   "metadata": {},
   "source": [
    "# CLEANED REGRESSION OUTPUTS"
   ]
  },
  {
   "cell_type": "code",
   "execution_count": 15,
   "metadata": {
    "collapsed": false,
    "scrolled": true
   },
   "outputs": [],
   "source": [
    "#IMPORTS\n",
    "import numpy as np\n",
    "import math\n",
    "import statsmodels.api as sm\n",
    "import statsmodels.formula.api as smf\n",
    "from sklearn import linear_model\n",
    "from sklearn.model_selection import train_test_split\n",
    "from sklearn.metrics import mean_squared_error\n",
    "from scipy import stats\n",
    "\n",
    "\n",
    "listings = pd.read_pickle('data/listings_cleaned.pkl')\n",
    "#listings['analysis_table'] = listings.index\n",
    "#listings['analysis_table'] = pd.DataFrame(listings.analysis_table.map(lambda x: amn_frame.loc[x]))\n",
    "analysis_table = pd.merge(listings, amn_frame, left_index=True, right_index=True)\n",
    "del analysis_table['translation missing enhosting_amenity_50']\n",
    "\n",
    "#Trying to normalize ratings for each neighborhood\n",
    "#ratings_table = analysis_table.groupby('neighbourhood_cleansed')['review_scores_rating'].agg([np.mean,np.std]).reset_index()\n",
    "#analysis_table = pd.merge(analysis_table, ratings_table, left_on = 'neighbourhood_cleansed', right_on = 'neighbourhood_cleansed').rename(columns = {'mean':'review_scores_mean','std':'standard_deviation'})\n",
    "#analysis_table['reviews_neighborhood_zscore'] = (analysis_table.review_scores_rating - analysis_table.review_scores_mean)/analysis_table.standard_deviation\n",
    "\n",
    "\n"
   ]
  },
  {
   "cell_type": "code",
   "execution_count": 16,
   "metadata": {
    "collapsed": false
   },
   "outputs": [],
   "source": [
    "analysis_table = pd.merge(analysis_table, pd.get_dummies(analysis_table.room_type), left_index = True, right_index = True)\n",
    "#analysis_table = pd.merge(analysis_table, pd.get_dummies(analysis_table.neighbourhood_cleansed), left_index = True, right_index = True)\n",
    "analysis_table = pd.merge(analysis_table, pd.get_dummies(analysis_table.property_type), left_index = True, right_index = True)\n",
    "#analysis_table = pd.merge(analysis_table, pd.get_dummies(analysis_table.zipcode), left_index = True, right_index = True)"
   ]
  },
  {
   "cell_type": "code",
   "execution_count": 17,
   "metadata": {
    "collapsed": false
   },
   "outputs": [],
   "source": [
    "#Dummy Variables are intended to be n-1 #zipcode: '02472', 'Hyde Park'\n",
    "cols_to_remove = ['host_id','zipcode','neighbourhood_cleansed', 'latitude', 'longitude', 'amenities', 'first_review', 'room_type','property_type', 'listed_price', 'Carbon Monoxide Detector', 'Entire home/apt','Apartment']\n",
    "analysis_table['cleaning_fee'] = (analysis_table.cleaning_fee > 0)\n",
    "#(pd.DataFrame(analysis_table.columns)).to_csv('analysis_table_columns.csv')\n",
    "for i in cols_to_remove:\n",
    "    del analysis_table[i]"
   ]
  },
  {
   "cell_type": "code",
   "execution_count": 18,
   "metadata": {
    "collapsed": false
   },
   "outputs": [],
   "source": [
    "combined_data = quarters_revenue.join(analysis_table, how='left',lsuffix='', rsuffix='_lis')\n",
    "#combined_data = combined_data[combined_data['reviews_per_month'] > 3]\n",
    "#CHANGED THIS FOR ANALYSIS\n",
    "combined_data = combined_data[(combined_data['calculated_host_listings_count'] > 2)]# & (combined_data['reviews_per_month'] > 2.0)]\n",
    "#plt.scatter(combined_data['calculated_host_listings_count'], combined_data['reviews_per_month'])\n",
    "\n",
    "analysis_data = pd.DataFrame(combined_data)#, columns=['q1_revenue','number_of_reviews','number_of_reviews', 'review_scores_rating','review_scores_accuracy', 'review_scores_cleanliness', 'review_scores_checkin','review_scores_communication', 'review_scores_location','review_scores_value'])\n",
    "analysis_data.dropna(inplace=True)\n",
    "\n",
    "#analysis_data_y = (analysis_data['q1_revenue'].apply(lambda x: math.log(x + 1))).copy()\n",
    "analysis_data['review_scores_rating_zscore'] = stats.zscore(analysis_data.review_scores_rating)\n",
    "analysis_data_y = analysis_data['review_scores_rating_zscore'].copy()\n",
    "\n",
    "#withholding 'number_of_reviews_'\n",
    "analysis_data_x = analysis_data.copy()\n",
    "del analysis_data_x['q1_revenue']\n",
    "del analysis_data_x['q2_revenue']\n",
    "del analysis_data_x['q3_revenue']\n",
    "del analysis_data_x['q4_revenue']\n",
    "\n",
    "#USED FOR ESTIMATING REVIEW_SCORES_RATING\n",
    "del analysis_data_x['review_scores_rating']\n",
    "del analysis_data_x['review_scores_rating_zscore']\n",
    "#del analysis_data_x['review_scores_accuracy']\n",
    "#del analysis_data_x['review_scores_cleanliness']\n",
    "#del analysis_data_x['review_scores_checkin']\n",
    "#del analysis_data_x['review_scores_communication']\n",
    "#del analysis_data_x['review_scores_location']\n",
    "#del analysis_data_x['review_scores_value']"
   ]
  },
  {
   "cell_type": "code",
   "execution_count": 19,
   "metadata": {
    "collapsed": false
   },
   "outputs": [
    {
     "ename": "ValueError",
     "evalue": "could not convert string to float: 'strict'",
     "output_type": "error",
     "traceback": [
      "\u001b[0;31m---------------------------------------------------------------------------\u001b[0m",
      "\u001b[0;31mValueError\u001b[0m                                Traceback (most recent call last)",
      "\u001b[0;32m<ipython-input-19-d1242db215a8>\u001b[0m in \u001b[0;36m<module>\u001b[0;34m()\u001b[0m\n\u001b[1;32m     12\u001b[0m \u001b[0mx_train\u001b[0m\u001b[0;34m,\u001b[0m\u001b[0mx_test\u001b[0m\u001b[0;34m,\u001b[0m\u001b[0my_train\u001b[0m\u001b[0;34m,\u001b[0m\u001b[0my_test\u001b[0m \u001b[0;34m=\u001b[0m \u001b[0mtrain_test_split\u001b[0m\u001b[0;34m(\u001b[0m\u001b[0manalysis_data_x\u001b[0m\u001b[0;34m,\u001b[0m \u001b[0manalysis_data_y\u001b[0m\u001b[0;34m,\u001b[0m \u001b[0mtest_size\u001b[0m \u001b[0;34m=\u001b[0m \u001b[0;36m0.2\u001b[0m\u001b[0;34m,\u001b[0m \u001b[0mrandom_state\u001b[0m \u001b[0;34m=\u001b[0m \u001b[0;36m4\u001b[0m\u001b[0;34m)\u001b[0m\u001b[0;34m\u001b[0m\u001b[0m\n\u001b[1;32m     13\u001b[0m \u001b[0;34m\u001b[0m\u001b[0m\n\u001b[0;32m---> 14\u001b[0;31m \u001b[0moutput\u001b[0m \u001b[0;34m=\u001b[0m \u001b[0mreg\u001b[0m\u001b[0;34m.\u001b[0m\u001b[0mfit\u001b[0m\u001b[0;34m(\u001b[0m\u001b[0mx_train\u001b[0m\u001b[0;34m,\u001b[0m\u001b[0my_train\u001b[0m\u001b[0;34m)\u001b[0m\u001b[0;34m\u001b[0m\u001b[0m\n\u001b[0m\u001b[1;32m     15\u001b[0m \u001b[0moutput\u001b[0m\u001b[0;34m.\u001b[0m\u001b[0mcoef_\u001b[0m\u001b[0;34m\u001b[0m\u001b[0m\n\u001b[1;32m     16\u001b[0m \u001b[0mpredicted_answers\u001b[0m \u001b[0;34m=\u001b[0m \u001b[0mreg\u001b[0m\u001b[0;34m.\u001b[0m\u001b[0mpredict\u001b[0m\u001b[0;34m(\u001b[0m\u001b[0mx_test\u001b[0m\u001b[0;34m)\u001b[0m\u001b[0;34m\u001b[0m\u001b[0m\n",
      "\u001b[0;32m/Users/collinreinking/anaconda3/lib/python3.5/site-packages/sklearn/linear_model/base.py\u001b[0m in \u001b[0;36mfit\u001b[0;34m(self, X, y, sample_weight)\u001b[0m\n\u001b[1;32m    510\u001b[0m         \u001b[0mn_jobs_\u001b[0m \u001b[0;34m=\u001b[0m \u001b[0mself\u001b[0m\u001b[0;34m.\u001b[0m\u001b[0mn_jobs\u001b[0m\u001b[0;34m\u001b[0m\u001b[0m\n\u001b[1;32m    511\u001b[0m         X, y = check_X_y(X, y, accept_sparse=['csr', 'csc', 'coo'],\n\u001b[0;32m--> 512\u001b[0;31m                          y_numeric=True, multi_output=True)\n\u001b[0m\u001b[1;32m    513\u001b[0m \u001b[0;34m\u001b[0m\u001b[0m\n\u001b[1;32m    514\u001b[0m         \u001b[0;32mif\u001b[0m \u001b[0msample_weight\u001b[0m \u001b[0;32mis\u001b[0m \u001b[0;32mnot\u001b[0m \u001b[0;32mNone\u001b[0m \u001b[0;32mand\u001b[0m \u001b[0mnp\u001b[0m\u001b[0;34m.\u001b[0m\u001b[0matleast_1d\u001b[0m\u001b[0;34m(\u001b[0m\u001b[0msample_weight\u001b[0m\u001b[0;34m)\u001b[0m\u001b[0;34m.\u001b[0m\u001b[0mndim\u001b[0m \u001b[0;34m>\u001b[0m \u001b[0;36m1\u001b[0m\u001b[0;34m:\u001b[0m\u001b[0;34m\u001b[0m\u001b[0m\n",
      "\u001b[0;32m/Users/collinreinking/anaconda3/lib/python3.5/site-packages/sklearn/utils/validation.py\u001b[0m in \u001b[0;36mcheck_X_y\u001b[0;34m(X, y, accept_sparse, dtype, order, copy, force_all_finite, ensure_2d, allow_nd, multi_output, ensure_min_samples, ensure_min_features, y_numeric, warn_on_dtype, estimator)\u001b[0m\n\u001b[1;32m    519\u001b[0m     X = check_array(X, accept_sparse, dtype, order, copy, force_all_finite,\n\u001b[1;32m    520\u001b[0m                     \u001b[0mensure_2d\u001b[0m\u001b[0;34m,\u001b[0m \u001b[0mallow_nd\u001b[0m\u001b[0;34m,\u001b[0m \u001b[0mensure_min_samples\u001b[0m\u001b[0;34m,\u001b[0m\u001b[0;34m\u001b[0m\u001b[0m\n\u001b[0;32m--> 521\u001b[0;31m                     ensure_min_features, warn_on_dtype, estimator)\n\u001b[0m\u001b[1;32m    522\u001b[0m     \u001b[0;32mif\u001b[0m \u001b[0mmulti_output\u001b[0m\u001b[0;34m:\u001b[0m\u001b[0;34m\u001b[0m\u001b[0m\n\u001b[1;32m    523\u001b[0m         y = check_array(y, 'csr', force_all_finite=True, ensure_2d=False,\n",
      "\u001b[0;32m/Users/collinreinking/anaconda3/lib/python3.5/site-packages/sklearn/utils/validation.py\u001b[0m in \u001b[0;36mcheck_array\u001b[0;34m(array, accept_sparse, dtype, order, copy, force_all_finite, ensure_2d, allow_nd, ensure_min_samples, ensure_min_features, warn_on_dtype, estimator)\u001b[0m\n\u001b[1;32m    400\u001b[0m         \u001b[0;31m# make sure we actually converted to numeric:\u001b[0m\u001b[0;34m\u001b[0m\u001b[0;34m\u001b[0m\u001b[0m\n\u001b[1;32m    401\u001b[0m         \u001b[0;32mif\u001b[0m \u001b[0mdtype_numeric\u001b[0m \u001b[0;32mand\u001b[0m \u001b[0marray\u001b[0m\u001b[0;34m.\u001b[0m\u001b[0mdtype\u001b[0m\u001b[0;34m.\u001b[0m\u001b[0mkind\u001b[0m \u001b[0;34m==\u001b[0m \u001b[0;34m\"O\"\u001b[0m\u001b[0;34m:\u001b[0m\u001b[0;34m\u001b[0m\u001b[0m\n\u001b[0;32m--> 402\u001b[0;31m             \u001b[0marray\u001b[0m \u001b[0;34m=\u001b[0m \u001b[0marray\u001b[0m\u001b[0;34m.\u001b[0m\u001b[0mastype\u001b[0m\u001b[0;34m(\u001b[0m\u001b[0mnp\u001b[0m\u001b[0;34m.\u001b[0m\u001b[0mfloat64\u001b[0m\u001b[0;34m)\u001b[0m\u001b[0;34m\u001b[0m\u001b[0m\n\u001b[0m\u001b[1;32m    403\u001b[0m         \u001b[0;32mif\u001b[0m \u001b[0;32mnot\u001b[0m \u001b[0mallow_nd\u001b[0m \u001b[0;32mand\u001b[0m \u001b[0marray\u001b[0m\u001b[0;34m.\u001b[0m\u001b[0mndim\u001b[0m \u001b[0;34m>=\u001b[0m \u001b[0;36m3\u001b[0m\u001b[0;34m:\u001b[0m\u001b[0;34m\u001b[0m\u001b[0m\n\u001b[1;32m    404\u001b[0m             raise ValueError(\"Found array with dim %d. %s expected <= 2.\"\n",
      "\u001b[0;31mValueError\u001b[0m: could not convert string to float: 'strict'"
     ]
    }
   ],
   "source": [
    "#Divided the review_scores_rating by 100 to normalize\n",
    "#analysis_data_x['review_scores_rating'] = analysis_data_x['review_scores_rating'] / 10\n",
    "#analysis_data['q1_revenue'] = analysis_data['q1_revenue'].apply(lambda x: math.log(x+1))\n",
    "\n",
    "\n",
    "#Propensity for columns to replicate- this deals with that issue\n",
    "analysis_data_x = analysis_data_x.loc[:,~analysis_data_x.columns.duplicated()]\n",
    "\n",
    "reg = linear_model.LinearRegression()\n",
    "\n",
    "#partition the data into training and test sets\n",
    "x_train,x_test,y_train,y_test = train_test_split(analysis_data_x, analysis_data_y, test_size = 0.2, random_state = 4)\n",
    "\n",
    "output = reg.fit(x_train,y_train)\n",
    "output.coef_\n",
    "predicted_answers = reg.predict(x_test)\n",
    "predicted_answers[0]\n",
    "y_test.iloc[2]\n",
    "#mean-squared error\n",
    "np.mean((predicted_answers-y_test)**2)"
   ]
  },
  {
   "cell_type": "code",
   "execution_count": 20,
   "metadata": {
    "collapsed": false
   },
   "outputs": [
    {
     "name": "stdout",
     "output_type": "stream",
     "text": [
      "                            OLS Regression Results                            \n",
      "==============================================================================\n",
      "Dep. Variable:        analysis_data_y   R-squared:                       0.764\n",
      "Model:                            OLS   Adj. R-squared:                  0.762\n",
      "Method:                 Least Squares   F-statistic:                     539.7\n",
      "Date:                Wed, 26 Apr 2017   Prob (F-statistic):          9.57e-310\n",
      "Time:                        21:48:12   Log-Likelihood:                -703.91\n",
      "No. Observations:                1009   AIC:                             1422.\n",
      "Df Residuals:                    1002   BIC:                             1456.\n",
      "Df Model:                           6                                         \n",
      "Covariance Type:            nonrobust                                         \n",
      "===============================================================================================\n",
      "                                  coef    std err          t      P>|t|      [95.0% Conf. Int.]\n",
      "-----------------------------------------------------------------------------------------------\n",
      "Intercept                      -9.6220      0.207    -46.392      0.000       -10.029    -9.215\n",
      "review_scores_location          0.0946      0.016      5.763      0.000         0.062     0.127\n",
      "review_scores_checkin           0.1226      0.024      5.137      0.000         0.076     0.169\n",
      "review_scores_cleanliness       0.2534      0.018     13.941      0.000         0.218     0.289\n",
      "review_scores_communication     0.1416      0.025      5.605      0.000         0.092     0.191\n",
      "review_scores_value             0.3527      0.021     16.719      0.000         0.311     0.394\n",
      "review_scores_accuracy          0.0850      0.021      4.091      0.000         0.044     0.126\n",
      "==============================================================================\n",
      "Omnibus:                      435.777   Durbin-Watson:                   1.844\n",
      "Prob(Omnibus):                  0.000   Jarque-Bera (JB):            17706.496\n",
      "Skew:                          -1.264   Prob(JB):                         0.00\n",
      "Kurtosis:                      23.366   Cond. No.                         308.\n",
      "==============================================================================\n",
      "\n",
      "Warnings:\n",
      "[1] Standard Errors assume that the covariance matrix of the errors is correctly specified.\n"
     ]
    }
   ],
   "source": [
    "# Fit regression model (using the natural log of one of the regressors)\n",
    "results = smf.ols('analysis_data_y ~  review_scores_location  +  review_scores_checkin  + review_scores_cleanliness + review_scores_communication + review_scores_value + review_scores_accuracy', data=analysis_data).fit()\n",
    "\n",
    "# Inspect the results\n",
    "print(results.summary())"
   ]
  },
  {
   "cell_type": "code",
   "execution_count": 414,
   "metadata": {
    "collapsed": false,
    "scrolled": false
   },
   "outputs": [
    {
     "name": "stdout",
     "output_type": "stream",
     "text": [
      "training data MSE\n",
      "0.215332828521\n",
      "test data MSE\n",
      "0.250765261485\n",
      "training data R-square\n",
      "0.786525344787\n",
      "test data R-square\n",
      "0.739859444283\n",
      "Features Most Significant\n"
     ]
    },
    {
     "data": {
      "text/html": [
       "<div>\n",
       "<table border=\"1\" class=\"dataframe\">\n",
       "  <thead>\n",
       "    <tr style=\"text-align: right;\">\n",
       "      <th></th>\n",
       "      <th>coefficient_name</th>\n",
       "      <th>estimated_value</th>\n",
       "    </tr>\n",
       "  </thead>\n",
       "  <tbody>\n",
       "    <tr>\n",
       "      <th>0</th>\n",
       "      <td>review_scores_value</td>\n",
       "      <td>0.311363</td>\n",
       "    </tr>\n",
       "    <tr>\n",
       "      <th>26</th>\n",
       "      <td>Washer / Dryer</td>\n",
       "      <td>0.307671</td>\n",
       "    </tr>\n",
       "    <tr>\n",
       "      <th>65</th>\n",
       "      <td>review_scores_cleanliness</td>\n",
       "      <td>0.263721</td>\n",
       "    </tr>\n",
       "    <tr>\n",
       "      <th>55</th>\n",
       "      <td>review_scores_communication</td>\n",
       "      <td>0.209330</td>\n",
       "    </tr>\n",
       "    <tr>\n",
       "      <th>11</th>\n",
       "      <td>review_scores_accuracy</td>\n",
       "      <td>0.159384</td>\n",
       "    </tr>\n",
       "    <tr>\n",
       "      <th>59</th>\n",
       "      <td>review_scores_checkin</td>\n",
       "      <td>0.117965</td>\n",
       "    </tr>\n",
       "    <tr>\n",
       "      <th>13</th>\n",
       "      <td>Air Conditioning</td>\n",
       "      <td>0.068263</td>\n",
       "    </tr>\n",
       "    <tr>\n",
       "      <th>12</th>\n",
       "      <td>review_scores_location</td>\n",
       "      <td>0.065347</td>\n",
       "    </tr>\n",
       "    <tr>\n",
       "      <th>61</th>\n",
       "      <td>Townhouse</td>\n",
       "      <td>0.064124</td>\n",
       "    </tr>\n",
       "    <tr>\n",
       "      <th>34</th>\n",
       "      <td>Loft</td>\n",
       "      <td>0.047348</td>\n",
       "    </tr>\n",
       "    <tr>\n",
       "      <th>47</th>\n",
       "      <td>Dryer</td>\n",
       "      <td>0.035813</td>\n",
       "    </tr>\n",
       "    <tr>\n",
       "      <th>15</th>\n",
       "      <td>Wireless Internet</td>\n",
       "      <td>0.032334</td>\n",
       "    </tr>\n",
       "    <tr>\n",
       "      <th>9</th>\n",
       "      <td>Doorman</td>\n",
       "      <td>0.029838</td>\n",
       "    </tr>\n",
       "    <tr>\n",
       "      <th>38</th>\n",
       "      <td>Lock on Bedroom Door</td>\n",
       "      <td>0.024263</td>\n",
       "    </tr>\n",
       "    <tr>\n",
       "      <th>20</th>\n",
       "      <td>Safety Card</td>\n",
       "      <td>0.023246</td>\n",
       "    </tr>\n",
       "    <tr>\n",
       "      <th>39</th>\n",
       "      <td>Bed &amp; Breakfast</td>\n",
       "      <td>0.022566</td>\n",
       "    </tr>\n",
       "    <tr>\n",
       "      <th>1</th>\n",
       "      <td>Elevator in Building</td>\n",
       "      <td>0.018889</td>\n",
       "    </tr>\n",
       "    <tr>\n",
       "      <th>10</th>\n",
       "      <td>Pets live on this property</td>\n",
       "      <td>0.016628</td>\n",
       "    </tr>\n",
       "    <tr>\n",
       "      <th>68</th>\n",
       "      <td>Gym</td>\n",
       "      <td>0.015479</td>\n",
       "    </tr>\n",
       "    <tr>\n",
       "      <th>31</th>\n",
       "      <td>Laptop Friendly Workspace</td>\n",
       "      <td>0.013683</td>\n",
       "    </tr>\n",
       "    <tr>\n",
       "      <th>43</th>\n",
       "      <td>Heating</td>\n",
       "      <td>0.012500</td>\n",
       "    </tr>\n",
       "    <tr>\n",
       "      <th>23</th>\n",
       "      <td>Other</td>\n",
       "      <td>0.011377</td>\n",
       "    </tr>\n",
       "    <tr>\n",
       "      <th>19</th>\n",
       "      <td>Cats</td>\n",
       "      <td>0.010431</td>\n",
       "    </tr>\n",
       "    <tr>\n",
       "      <th>18</th>\n",
       "      <td>Washer</td>\n",
       "      <td>0.007927</td>\n",
       "    </tr>\n",
       "    <tr>\n",
       "      <th>36</th>\n",
       "      <td>Private room</td>\n",
       "      <td>0.005089</td>\n",
       "    </tr>\n",
       "    <tr>\n",
       "      <th>56</th>\n",
       "      <td>Breakfast</td>\n",
       "      <td>0.004700</td>\n",
       "    </tr>\n",
       "    <tr>\n",
       "      <th>40</th>\n",
       "      <td>Family/Kid Friendly</td>\n",
       "      <td>-0.003844</td>\n",
       "    </tr>\n",
       "    <tr>\n",
       "      <th>7</th>\n",
       "      <td>Hair Dryer</td>\n",
       "      <td>-0.008237</td>\n",
       "    </tr>\n",
       "    <tr>\n",
       "      <th>48</th>\n",
       "      <td>reviews_per_month</td>\n",
       "      <td>-0.009234</td>\n",
       "    </tr>\n",
       "    <tr>\n",
       "      <th>32</th>\n",
       "      <td>Dorm</td>\n",
       "      <td>-0.035619</td>\n",
       "    </tr>\n",
       "  </tbody>\n",
       "</table>\n",
       "</div>"
      ],
      "text/plain": [
       "               coefficient_name  estimated_value\n",
       "0           review_scores_value         0.311363\n",
       "26               Washer / Dryer         0.307671\n",
       "65    review_scores_cleanliness         0.263721\n",
       "55  review_scores_communication         0.209330\n",
       "11       review_scores_accuracy         0.159384\n",
       "59        review_scores_checkin         0.117965\n",
       "13             Air Conditioning         0.068263\n",
       "12       review_scores_location         0.065347\n",
       "61                    Townhouse         0.064124\n",
       "34                         Loft         0.047348\n",
       "47                        Dryer         0.035813\n",
       "15            Wireless Internet         0.032334\n",
       "9                       Doorman         0.029838\n",
       "38         Lock on Bedroom Door         0.024263\n",
       "20                  Safety Card         0.023246\n",
       "39              Bed & Breakfast         0.022566\n",
       "1          Elevator in Building         0.018889\n",
       "10   Pets live on this property         0.016628\n",
       "68                          Gym         0.015479\n",
       "31    Laptop Friendly Workspace         0.013683\n",
       "43                      Heating         0.012500\n",
       "23                        Other         0.011377\n",
       "19                         Cats         0.010431\n",
       "18                       Washer         0.007927\n",
       "36                 Private room         0.005089\n",
       "56                    Breakfast         0.004700\n",
       "40          Family/Kid Friendly        -0.003844\n",
       "7                    Hair Dryer        -0.008237\n",
       "48            reviews_per_month        -0.009234\n",
       "32                         Dorm        -0.035619"
      ]
     },
     "execution_count": 414,
     "metadata": {},
     "output_type": "execute_result"
    },
    {
     "data": {
      "image/png": "[encoded data removed]",
      "text/plain": [
       "<matplotlib.figure.Figure at 0x1cc102eddd8>"
      ]
     },
     "metadata": {},
     "output_type": "display_data"
    },
    {
     "data": {
      "image/png": "[encoded data removed]",
      "text/plain": [
       "<matplotlib.figure.Figure at 0x1cc4573f3c8>"
      ]
     },
     "metadata": {},
     "output_type": "display_data"
    }
   ],
   "source": [
    "import matplotlib.pylab as plt\n",
    "from sklearn.linear_model import LassoLarsCV\n",
    "\n",
    "#lasso regression with 8 cross-validations selected\n",
    "model=LassoLarsCV(cv=8, precompute=False).fit(x_train,y_train)\n",
    "\n",
    "#this code is intended to extract the coefficients and their names and then to place them into a table\n",
    "coefficients = dict(zip(x_train.columns, model.coef_))\n",
    "coefficients_results = pd.DataFrame([(key, val) for (key, val) in coefficients.items()], \n",
    "                                    columns = ['coefficient_name','estimated_value'])\n",
    "\n",
    "#plots coefficient progression\n",
    "m_log_alphas = -np.log10(model.alphas_)\n",
    "ax = plt.gca()\n",
    "plt.plot(m_log_alphas, model.coef_path_.T)\n",
    "plt.axvline(-np.log10(model.alpha_), linestyle='--', color='k',\n",
    " label='alpha CV')\n",
    "plt.ylabel('Regression Coefficients')\n",
    "plt.xlabel('-log(alpha)')\n",
    "plt.title('Regression Cofficients Progression for Lasso Paths')\n",
    "\n",
    "#plots mean square error for each fold of the cross-validation\n",
    "m_log_alphascv = -np.log10(model.cv_alphas_)\n",
    "plt.figure()\n",
    "plt.plot(m_log_alphascv, model.cv_mse_path_, ':')\n",
    "plt.plot(m_log_alphascv, model.cv_mse_path_.mean(axis=-1), 'k',\n",
    " label='Average across the folds', linewidth=2)\n",
    "plt.axvline(-np.log10(model.alpha_), linestyle='--', color='k',\n",
    " label='alpha CV')\n",
    "plt.legend()\n",
    "plt.xlabel('-log(alpha)')\n",
    "plt.ylabel('Mean Squared Error')\n",
    "plt.title('Mean Squared Error on each fold')\n",
    "\n",
    "# MSE from training and test data\n",
    "train_error = mean_squared_error(y_train, model.predict(x_train))\n",
    "test_error = mean_squared_error(y_test, model.predict(x_test))\n",
    "print ('training data MSE')\n",
    "print(train_error)\n",
    "print ('test data MSE')\n",
    "print(test_error)\n",
    "\n",
    "# R-square from training and test data\n",
    "rsquared_train=model.score(x_train,y_train)\n",
    "rsquared_test=model.score(x_test,y_test)\n",
    "print ('training data R-square')\n",
    "print(rsquared_train)\n",
    "print ('test data R-square')\n",
    "print(rsquared_test)\n",
    "print('Features Most Significant')\n",
    "coefficients_results[coefficients_results['estimated_value'] != 0].sort_values('estimated_value', ascending = False)\n",
    "#ASSISTANCE FROM: https://cognosworld.wordpress.com/2016/02/15/machine-learning-lasso-regression-using-python/"
   ]
  },
  {
   "cell_type": "code",
   "execution_count": 227,
   "metadata": {
    "collapsed": false
   },
   "outputs": [],
   "source": [
    "#analysis_data['review_scores_rating_zscore'].plot(kind='hist')\n",
    "?plt.plot()"
   ]
  },
  {
   "cell_type": "code",
   "execution_count": 412,
   "metadata": {
    "collapsed": false,
    "scrolled": false
   },
   "outputs": [
    {
     "data": {
      "text/plain": [
       "(-8, 1)"
      ]
     },
     "execution_count": 412,
     "metadata": {},
     "output_type": "execute_result"
    },
    {
     "data": {
      "image/png": "[encoded data removed]",
      "text/plain": [
       "<matplotlib.figure.Figure at 0x1cc455f7400>"
      ]
     },
     "metadata": {},
     "output_type": "display_data"
    }
   ],
   "source": [
    "#revenue = analysis_data.q1_revenue.apply(lambda x: math.log(x+1))\n",
    "plt.scatter(analysis_data.review_scores_rating_zscore, analysis_data.q1_revenue)#analysis_data.q1_revenue)\n",
    "plt.xlabel('Overall Review Scores Rating (Z-Score)')\n",
    "plt.ylabel('Quarter 1 Revenue Projection')\n",
    "plt.title('Overall Ratings (Z-Score) vs. Q1 Revenue')\n",
    "plt.ylim([0,50000])\n",
    "plt.xlim([-8,1])\n",
    "\n"
   ]
  },
  {
   "cell_type": "code",
   "execution_count": 413,
   "metadata": {
    "collapsed": false
   },
   "outputs": [
    {
     "name": "stdout",
     "output_type": "stream",
     "text": [
      "                            OLS Regression Results                            \n",
      "==============================================================================\n",
      "Dep. Variable:             q1_revenue   R-squared:                       0.017\n",
      "Model:                            OLS   Adj. R-squared:                  0.016\n",
      "Method:                 Least Squares   F-statistic:                     18.01\n",
      "Date:                Tue, 25 Apr 2017   Prob (F-statistic):           2.40e-05\n",
      "Time:                        16:00:04   Log-Likelihood:                -10359.\n",
      "No. Observations:                1016   AIC:                         2.072e+04\n",
      "Df Residuals:                    1014   BIC:                         2.073e+04\n",
      "Df Model:                           1                                         \n",
      "Covariance Type:            nonrobust                                         \n",
      "===============================================================================================\n",
      "                                  coef    std err          t      P>|t|      [95.0% Conf. Int.]\n",
      "-----------------------------------------------------------------------------------------------\n",
      "Intercept                    6428.6870    203.620     31.572      0.000      6029.121  6828.253\n",
      "review_scores_rating_zscore   864.0907    203.620      4.244      0.000       464.525  1263.656\n",
      "==============================================================================\n",
      "Omnibus:                      398.754   Durbin-Watson:                   1.593\n",
      "Prob(Omnibus):                  0.000   Jarque-Bera (JB):             1648.644\n",
      "Skew:                           1.844   Prob(JB):                         0.00\n",
      "Kurtosis:                       8.034   Cond. No.                         1.00\n",
      "==============================================================================\n",
      "\n",
      "Warnings:\n",
      "[1] Standard Errors assume that the covariance matrix of the errors is correctly specified.\n"
     ]
    },
    {
     "data": {
      "text/plain": [
       "4647.312962621219"
      ]
     },
     "execution_count": 413,
     "metadata": {},
     "output_type": "execute_result"
    }
   ],
   "source": [
    "# Fit regression model (using the natural log of one of the regressors)\n",
    "results = smf.ols('q1_revenue ~ review_scores_rating_zscore ', data=analysis_data).fit()\n",
    "\n",
    "# Inspect the results\n",
    "print(results.summary())\n",
    "analysis_data.q1_revenue.median()"
   ]
  },
  {
   "cell_type": "code",
   "execution_count": 405,
   "metadata": {
    "collapsed": false
   },
   "outputs": [
    {
     "data": {
      "text/plain": [
       "<matplotlib.legend.Legend at 0x1cc45440400>"
      ]
     },
     "execution_count": 405,
     "metadata": {},
     "output_type": "execute_result"
    },
    {
     "data": {
      "image/png": "[encoded data removed]",
      "text/plain": [
       "<matplotlib.figure.Figure at 0x1cc3b9c3d68>"
      ]
     },
     "metadata": {},
     "output_type": "display_data"
    }
   ],
   "source": [
    "#analysis_data_x[analysis_data_x['Wheelchair Accessible']]['Wheelchair Accessible'].shape\n",
    "combined_data.q1_revenue.plot(kind='hist', bins = 100)\n",
    "\n",
    "comb_mean = combined_data.q1_revenue.mean()\n",
    "comb_med = combined_data.q1_revenue.median()\n",
    "comb_max = combined_data.q1_revenue.max()\n",
    "y_max = 20\n",
    "plt.ylim([0,y_max])\n",
    "plt.vlines(comb_mean, 0, y_max, color='magenta', label = 'mean revenue')\n",
    "plt.vlines(comb_med, 0, y_max, color='green', label = 'median revenue')\n",
    "plt.vlines(comb_max, 0, y_max, color = 'red',label='max revenue')\n",
    "plt.xlabel('Estimated Q1 Revenue ($)')\n",
    "plt.title('Distribution of Q1 Revenues for Commercial Properties with >2 Reviews Per Month')\n",
    "plt.legend(loc='upper right')\n",
    "\n"
   ]
  },
  {
   "cell_type": "code",
   "execution_count": 418,
   "metadata": {
    "collapsed": false
   },
   "outputs": [
    {
     "data": {
      "text/plain": [
       "Index(['host_id', 'neighbourhood_cleansed', 'zipcode', 'latitude', 'longitude',\n",
       "       'property_type', 'room_type', 'accommodates', 'bathrooms', 'amenities',\n",
       "       'listed_price', 'cleaning_fee', 'number_of_reviews', 'first_review',\n",
       "       'review_scores_rating', 'review_scores_accuracy',\n",
       "       'review_scores_cleanliness', 'review_scores_checkin',\n",
       "       'review_scores_communication', 'review_scores_location',\n",
       "       'review_scores_value', 'calculated_host_listings_count',\n",
       "       'reviews_per_month'],\n",
       "      dtype='object')"
      ]
     },
     "execution_count": 418,
     "metadata": {},
     "output_type": "execute_result"
    }
   ],
   "source": [
    "#-np.log10(model.cv_alphas_)\n",
    "listings.columns"
   ]
  }
 ],
 "metadata": {
  "anaconda-cloud": {},
  "kernelspec": {
   "display_name": "Python [conda root]",
   "language": "python",
   "name": "conda-root-py"
  },
  "language_info": {
   "codemirror_mode": {
    "name": "ipython",
    "version": 3
   },
   "file_extension": ".py",
   "mimetype": "text/x-python",
   "name": "python",
   "nbconvert_exporter": "python",
   "pygments_lexer": "ipython3",
   "version": "3.5.2"
  }
 },
 "nbformat": 4,
 "nbformat_minor": 2
}
