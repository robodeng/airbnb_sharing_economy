{
 "cells": [
  {
   "cell_type": "markdown",
   "metadata": {},
   "source": [
    "# Note To Team\n",
    "\n",
    "I didn't finished getting through the new version of reading in the listings data but you can probably tell what I think it should look like.  As of right now you can still pretty much run through the cells in order and everything should work out fine.  I think.  Maybe.\n",
    "\n",
    "I did take an extra hour as I was \"wrapping up\" to try to clean things up a bit.  I did a **\"restart and run all\"** that apeared to work. **I would recommend that you start by doing the same**\n",
    "\n",
    "\n",
    "I've pasted in Blakes latest effort at the end of the code (just before the \"playground\" aread)\n",
    "\n",
    "-Collin"
   ]
  },
  {
   "cell_type": "markdown",
   "metadata": {},
   "source": [
    "# Imports"
   ]
  },
  {
   "cell_type": "code",
   "execution_count": 1,
   "metadata": {
    "collapsed": true
   },
   "outputs": [],
   "source": [
    "#Enable matplotlib to display in jupyter notebook & import it\n",
    "%matplotlib inline\n",
    "\n",
    "import matplotlib.pyplot as plt\n",
    "import plotly.plotly as py\n",
    "import plotly.graph_objs as go\n",
    "import pandas as pd\n",
    "import numpy as np\n",
    "import re\n",
    "from geopy.geocoders import Nominatim #used in filling missing zipcodes\n"
   ]
  },
  {
   "cell_type": "code",
   "execution_count": 2,
   "metadata": {
    "collapsed": false
   },
   "outputs": [],
   "source": [
    "#listings.csv READING\n",
    "\n",
    "LISTINGS = 'data/listings.csv'\n",
    "\n",
    "#Choose which columns from the csv to read in.\n",
    "listings_cols = ['id',\n",
    "                'host_id',\n",
    "                'name', #Rob\n",
    "                'summary', #Rob\n",
    "                'last_scraped',#Rob\n",
    "                'zipcode',\n",
    "                'latitude', #needed if we are going to fix ZIPCODE\n",
    "                'longitude'] #needed if we are going to fix ZIPCODE\n",
    "\n",
    "#Read in data from the csv\n",
    "#listings = pd.read_csv(LISTINGS, usecols=listings_cols)  #This line will get used in teh final product\n",
    "listings = pd.read_csv(LISTINGS) #this will be deleted\n",
    "\n",
    "#Rename any Columns as needed\n",
    "listings.rename(columns = {'id':'listing_id'}, inplace=True)\n",
    "\n",
    "#use listing_id as index\n",
    "listings.set_index('listing_id', inplace=True)\n",
    "\n"
   ]
  },
  {
   "cell_type": "code",
   "execution_count": 3,
   "metadata": {
    "collapsed": true
   },
   "outputs": [],
   "source": [
    "#listings.csv CLEANING\n",
    "\n",
    "\n",
    "#BULLPEN\n",
    "#Commented out lines are meant to be uncommented when we are for sure using a variable somewhere in our analysis\n",
    "#listings.last_scraped = pd.to_datetime(listings.last_scraped)\n",
    "#listings.summary = listings.summary.fillna('')"
   ]
  },
  {
   "cell_type": "code",
   "execution_count": 4,
   "metadata": {
    "collapsed": false
   },
   "outputs": [],
   "source": [
    "#listings.csv  OTHER\n",
    "\n",
    "#Bullpen\n",
    "#scrape_date = pd.to_datetime(pd.read_csv(LISTINGS, usecols=['last_scraped']).last_scraped[0])\n",
    "\n",
    "\n",
    "# zipcode\n",
    "# Type: str or NaN\n",
    "# What: Zipcode that the listing is in\n",
    "# Cleaning: Fill in missing zipcodes usings the latitude and longitude.  Cut off anything past the 5th digit\n",
    "\n",
    "# ###>>>this code has ben commented out because it is slow, uncomment it for fully cleaned data.\n",
    "# def latlonToZip(lat, lon):\n",
    "#     geolocator = Nominatim()\n",
    "#     try:\n",
    "#         location = geolocator.reverse(str(lat)+','+str(lon))\n",
    "#         z = re.compile('(\\s)([0-9]{5})(,\\sUnited)')\n",
    "#         #print(z.findall(location[0])[0][1])\n",
    "#         return z.findall(location[0])[0][1]\n",
    "#     except:\n",
    "#         print(str(lat)+','+str(lon),'-----',location)\n",
    "#         return np.nan\n",
    "    \n",
    "#     print(str(lat)+','+str(lon),'-----',location)\n",
    "#     return np.nan\n",
    "# temp = listings[listings.zipcode.isnull()].copy()\n",
    "# listings.zipcode.update(temp.apply(lambda x: latlonToZip(x['latitude'], x['longitude']), axis=1))\n",
    "# listings.zipcode = listings.zipcode.apply(lambda x: x[:5])\n"
   ]
  },
  {
   "cell_type": "markdown",
   "metadata": {},
   "source": [
    "### listings.csv Exploration to be done\n",
    "\n",
    "Explore listings that have identical summary (the same thing could be done for \"space\")\n",
    "\n",
    "Here's the set \n",
    ">`listings[listings.summary.isin(listings.summary.value_counts()[listings.summary.value_counts() > 1])]`\n",
    "\n",
    "Here's the set grouped by identical summary\n",
    ">`listings[listings.summary.isin(listings.summary.value_counts()[listings.summary.value_counts() > 1].index)].sort_values('summary')`\n",
    "\n",
    "Here's the host_URL who have those identical summaries on their listings.\n",
    ">`listings[listings.summary.isin(listings.summary.value_counts()[listings.summary.value_counts() > 1].index)].sort_values('summary').host_url`\n",
    "\n",
    "Here's the host_URL who have those identical summaries on their listings.\n",
    ">`listings[listings.summary.isin(listings.summary.value_counts()[listings.summary.value_counts() > 1].index)].sort_values(['host_url','summary']).host_url`"
   ]
  },
  {
   "cell_type": "code",
   "execution_count": 5,
   "metadata": {
    "collapsed": false
   },
   "outputs": [],
   "source": [
    "#listings.csv NOTES\n",
    "\n",
    "# host_total_listings_count: The number of listings that the host has ACROSS ALL OF AIRBNB\n",
    "# calculated_host_listings_count : the number of listing that the host has IN BOSTON\n",
    "# host_listings_count == host_total_listings_count (they're the same thing)\n",
    "\n",
    "\n",
    "###WAYS WE COULD CLEAR OUT NON COMMERCIAL AND/OR DEAD LISTINGS\n",
    "##listings.availability_365 == 0\n",
    "#listing that has no availability all year\n",
    "#\n",
    "##365 - listings.availability_365 + (90 - listings.availability_90) > 60\n",
    "#listing that is alrady unavailble for more than days out of the last 275 days of the year."
   ]
  },
  {
   "cell_type": "markdown",
   "metadata": {},
   "source": [
    "# Reading Files"
   ]
  },
  {
   "cell_type": "code",
   "execution_count": 6,
   "metadata": {
    "collapsed": false
   },
   "outputs": [],
   "source": [
    "#Read Files\n",
    "#\"originals\" should never be modified.  They exist to check work.  They should be deleted in our final work\n",
    "listings_original = pd.read_csv('data/listings.csv')\n",
    "calendar_oiginal = pd.read_csv('data/calendar.csv')\n",
    "reviews_original = pd.read_csv('data/reviews.csv')\n",
    "\n",
    "#listings = listings_original.copy()\n",
    "calendar = calendar_oiginal.copy()\n",
    "reviews = reviews_original.copy()\n",
    "\n",
    "# #Final version should just have the code below\n",
    "# listings = pd.read_csv('data/listings.csv')\n",
    "# calendar = pd.read_csv('data/calendar.csv')\n",
    "# reviews = pd.read_csv('data/reviews.csv')\n"
   ]
  },
  {
   "cell_type": "markdown",
   "metadata": {},
   "source": [
    "# Clean the Data"
   ]
  },
  {
   "cell_type": "markdown",
   "metadata": {},
   "source": [
    "## Listings Data"
   ]
  },
  {
   "cell_type": "code",
   "execution_count": 7,
   "metadata": {
    "collapsed": false
   },
   "outputs": [
    {
     "name": "stdout",
     "output_type": "stream",
     "text": [
      "done\n"
     ]
    }
   ],
   "source": [
    "unused_listings = listings[listings.host_response_time.isnull()].copy()  #This isn't a good way to determine this\n",
    "listings = listings[listings.host_response_time.notnull()]        #This isn't a good way to determine this\n",
    "\n",
    "#POTENTIAL TO REMOVE:\n",
    "##listings.availability_365 == 0\n",
    "#listing that has no availability\n",
    "#\n",
    "##365 - listings.availability_365 + (90 - listings.availability_90) > 60\n",
    "#listing that is alrady unavailble for more than days out of the last 275 days of the year.\n",
    "\n",
    "\n",
    "\n",
    "# host_response_time\n",
    "# Type: Str or NaN  [nan, 'within an hour', 'within a few hours', 'within a day', 'a few days or more']\n",
    "# What: A value, (probably generated automatically by AirBnB) to indicate how long a message is replied to.\n",
    "listings.host_response_time.isnull().sum() #471\n",
    "listings.host_response_time = listings.host_response_time.fillna('') \n",
    "\n",
    "# host_response_rate\n",
    "# Type: Str (in the form '<0-100>%' or NaN\n",
    "# What: the percent of messages that a host responds to\n",
    "# cleaning: leave NaN, convert rest to decimal value (0.0-1.0)\n",
    "listings.host_response_rate.isnull().sum() #471\n",
    "(listings.host_response_rate == '0%').sum() #13\n",
    "listings.host_response_rate = listings.host_response_rate.apply(lambda x: np.NaN if type(x) == float else int(x[:-1])/100)\n",
    "\n",
    "# host_acceptance_rate\n",
    "# Type: Str (in the form '<0-100>%' or NaN\n",
    "# What: the percent of offers to rent a room that a host accepts\n",
    "# cleaning: leave NaN, convert rest to decimal value (0.0-1.0)\n",
    "listings.host_acceptance_rate.isnull().sum() #471\n",
    "(listings.host_acceptance_rate == '0%').sum() #49\n",
    "listings.host_acceptance_rate = listings.host_acceptance_rate.apply(lambda x: np.NaN if type(x) == float else int(x[:-1])/100)\n",
    "#plt = listings.host_acceptance_rate.hist(bins = 20)\n",
    "#plt.set_title('host_acceptance_rate')\n",
    "\n",
    "# host_is_superhost\n",
    "# Type: Str 't' or 'f'\n",
    "# What: special designation AirBnB provides to host who meet qulifications.\n",
    "#       more info at https://www.airbnb.com/superhost/terms\n",
    "# cleaning: convert to boolean True or False\n",
    "listings.host_is_superhost = listings.host_is_superhost.apply(lambda x: True if x == 't'else False)\n",
    "listings.host_is_superhost.sum() #407 superhosts\n",
    "\n",
    "\n",
    "# neighbourhood\n",
    "# Type: str \n",
    "# What: neighborhood the listing is in\n",
    "# Cleaning: delete. neighbourhood_cleansed contains better data that matches neighbourhood.geojson (I think)\n",
    "del listings['neighbourhood']\n",
    "#n = listings[['neighbourhood','neighbourhood_cleansed']]\n",
    "#n = n[(n['neighbourhood'] != n['neighbourhood_cleansed'])]\n",
    "#n[(n['neighbourhood'] == n['neighbourhood'])]\n",
    "#n.to_csv('neighbourhood_vs_neighbourhood_cleansed.csv')\n",
    "\n",
    "# neighbourhood_cleansed\n",
    "# Type: str \n",
    "# What: neighborhood the listing is in\n",
    "# Cleaning: None needed\n",
    "\n",
    "# neighbourhood_group_cleansed\n",
    "# Cleaning: Delete, empty variable (all null)\n",
    "del listings['neighbourhood_group_cleansed']\n",
    "\n",
    "\n",
    "# is_location_exact\n",
    "######################################################################################################CollinToDO\n",
    "\n",
    "# property_type\n",
    "######################################################################################################CollinToDO\n",
    "\n",
    "# room_type\n",
    "######################################################################################################CollinToDO\n",
    "\n",
    "# accommodates\n",
    "######################################################################################################CollinToDO\n",
    "\n",
    "# bathrooms\n",
    "######################################################################################################CollinToDO\n",
    "\n",
    "# bedrooms\n",
    "######################################################################################################CollinToDO\n",
    "\n",
    "# beds\n",
    "######################################################################################################CollinToDO\n",
    "\n",
    "# bed_type\n",
    "######################################################################################################CollinToDO\n",
    "\n",
    "# amenities\n",
    "######################################################################################################CollinToDO\n",
    "\n",
    "\n",
    "# square_feet\n",
    "# Cleaning:  We may want to consider deleting this variable, only 56 entries have data\n",
    "listings.square_feet.isnull().sum() #=3529\n",
    "listings.square_feet = listings.square_feet.replace('[^0-9.]+','',regex=True).astype(float)\n",
    "\n",
    "# price\n",
    "#this regex \"replaces\" anything that is not a digit or a decimal with the empty string\n",
    "#effectively removing anything that's not part of the number\n",
    "listings.price = listings.price.replace('[^0-9.]+','',regex=True).astype(float)\n",
    "\n",
    "\n",
    "# weekly_price\n",
    "listings.weekly_price = listings.weekly_price.replace('[^0-9.]+','',regex=True).astype(float)\n",
    "# monthly_price\n",
    "listings.monthly_price = listings.monthly_price.replace('[^0-9.]+','',regex=True).astype(float)\n",
    "# security_deposit\n",
    "listings.security_deposit = listings.security_deposit.replace('[^0-9.]+','',regex=True).astype(float)\n",
    "# cleaning_fee\n",
    "listings.cleaning_fee = listings.cleaning_fee.replace('[^0-9.]+','',regex=True).astype(float)\n",
    "\n",
    "# guests_included\n",
    "######################################################################################################CollinToDO\n",
    "\n",
    "# extra_people\n",
    "######################################################################################################CollinToDO\n",
    "\n",
    "# minimum_nights\n",
    "######################################################################################################CollinToDO\n",
    "\n",
    "# maximum_nights\n",
    "######################################################################################################CollinToDO\n",
    "\n",
    "# calendar_updated\n",
    "######################################################################################################CollinToDO\n",
    "\n",
    "\n",
    "# has_availability\n",
    "# Cleaning: Delete, empty variable (all null)\n",
    "del listings['has_availability']\n",
    "\n",
    "\n",
    "\n",
    "# availability_30\n",
    "######################################################################################################CollinToDO\n",
    "\n",
    "# availability_60\n",
    "######################################################################################################CollinToDO\n",
    "\n",
    "# availability_90\n",
    "######################################################################################################CollinToDO\n",
    "\n",
    "# availability_365\n",
    "######################################################################################################CollinToDO\n",
    "\n",
    "# calendar_last_scraped\n",
    "######################################################################################################CollinToDO\n",
    "\n",
    "# number_of_reviews\n",
    "######################################################################################################CollinToDO\n",
    "\n",
    "# first_review\n",
    "######################################################################################################CollinToDO\n",
    "\n",
    "# last_review\n",
    "######################################################################################################CollinToDO\n",
    "\n",
    "# review_scores_rating\n",
    "######################################################################################################CollinToDO\n",
    "\n",
    "# review_scores_accuracy\n",
    "######################################################################################################CollinToDO\n",
    "\n",
    "# review_scores_cleanliness\n",
    "######################################################################################################CollinToDO\n",
    "\n",
    "# review_scores_checkin\n",
    "######################################################################################################CollinToDO\n",
    "\n",
    "# review_scores_communication\n",
    "######################################################################################################CollinToDO\n",
    "\n",
    "# review_scores_location\n",
    "######################################################################################################CollinToDO\n",
    "\n",
    "# review_scores_value\n",
    "######################################################################################################CollinToDO\n",
    "\n",
    "# requires_license\n",
    "######################################################################################################CollinToDO\n",
    "\n",
    "# license\n",
    "# Cleaning: Delete, empty variable (all null)\n",
    "del listings['license']\n",
    "\n",
    "# jurisdiction_names\n",
    "# Cleaning: Delete, empty variable (all null)\n",
    "del listings['jurisdiction_names']\n",
    "\n",
    "# instant_bookable\n",
    "######################################################################################################CollinToDO\n",
    "\n",
    "# cancellation_policy\n",
    "######################################################################################################CollinToDO\n",
    "\n",
    "# require_guest_profile_picture\n",
    "######################################################################################################CollinToDO\n",
    "\n",
    "# require_guest_phone_verification\n",
    "######################################################################################################CollinToDO\n",
    "\n",
    "\n",
    "\n",
    "# calculated_host_listings_count\n",
    "# Type: int\n",
    "# What: The number of listings that the host has THIS data set\n",
    "# Related: If you want the number of th listings that the host has across ALL of airbnb\n",
    "#          use host_listings_count\n",
    "#listings.calculated_host_listings_count == listings.host_listings_count # not all true\n",
    "#listings[['host_id','calculated_host_listings_count','host_listings_count']][listings.calculated_host_listings_count != listings.host_listings_count]\n",
    "\n",
    "\n",
    "\n",
    "# reviews_per_month\n",
    "######################################################################################################CollinToDO\n",
    "\n",
    "\n",
    "\n",
    "#TO Do:\n",
    "#delete all listings whose  host_response_time is null\n",
    "\n",
    "\n",
    "listings_cleaned = listings.copy()\n",
    "print('done')\n"
   ]
  },
  {
   "cell_type": "markdown",
   "metadata": {},
   "source": [
    "# Calendar Cleaning"
   ]
  },
  {
   "cell_type": "code",
   "execution_count": 8,
   "metadata": {
    "collapsed": false
   },
   "outputs": [],
   "source": [
    "calendar = calendar_oiginal.copy()\n",
    "\n",
    "calendar = calendar.drop(calendar.listing_id.isin(unused_listings.index))\n",
    "remove = calendar.groupby('listing_id').filter(lambda x: x.price.isnull().all())\n",
    "calendar = calendar.drop(remove.index)\n",
    "\n",
    "#\n",
    "calendar.date = pd.to_datetime(calendar.date)\n",
    "calendar['day_of_week'] = calendar.date.dt.dayofweek\n",
    "\n",
    "#\n",
    "calendar.available.replace({'f':False,'t':True}, inplace=True)\n",
    "\n",
    "#\n",
    "calendar.price = calendar.price.replace('[^0-9.]+','',regex=True).astype(float)\n",
    "\n",
    "\n",
    "# For this whole block consider using Transform as described here: https://chrisalbon.com/python/pandas_missing_data.html\n",
    "#\n",
    "#\n",
    "day_means = calendar.groupby(['listing_id','day_of_week']).price.mean()\n",
    "day_means = pd.DataFrame(day_means)\n",
    "day_means.price = day_means.price.fillna(0)\n",
    "day_means = day_means.to_dict('index')\n",
    "\n",
    "calendar['price_model'] = list(zip(calendar.listing_id, calendar.day_of_week))\n",
    "calendar.price_model = calendar.price_model.apply(lambda x: day_means[x]['price'])\n",
    "calendar['modeled_price'] = np.where(calendar.price.isnull(),calendar.price_model,calendar.price)\n",
    "\n",
    "calendar['day_revenue'] = np.where(np.invert(calendar.available), calendar.modeled_price, 0)\n",
    "\n",
    "\n",
    "calendar = calendar.copy()\n",
    "#calendar"
   ]
  },
  {
   "cell_type": "code",
   "execution_count": null,
   "metadata": {
    "collapsed": true
   },
   "outputs": [],
   "source": []
  },
  {
   "cell_type": "code",
   "execution_count": 9,
   "metadata": {
    "collapsed": false
   },
   "outputs": [
    {
     "data": {
      "text/html": [
       "<div>\n",
       "<table border=\"1\" class=\"dataframe\">\n",
       "  <thead>\n",
       "    <tr style=\"text-align: right;\">\n",
       "      <th></th>\n",
       "      <th>listing_id</th>\n",
       "      <th>date</th>\n",
       "      <th>available</th>\n",
       "      <th>price</th>\n",
       "      <th>day_of_week</th>\n",
       "      <th>price_model</th>\n",
       "      <th>modeled_price</th>\n",
       "      <th>day_revenue</th>\n",
       "    </tr>\n",
       "  </thead>\n",
       "  <tbody>\n",
       "    <tr>\n",
       "      <th>365</th>\n",
       "      <td>3075044</td>\n",
       "      <td>2017-08-22</td>\n",
       "      <td>True</td>\n",
       "      <td>65.0</td>\n",
       "      <td>1</td>\n",
       "      <td>65.0</td>\n",
       "      <td>65.0</td>\n",
       "      <td>0.0</td>\n",
       "    </tr>\n",
       "    <tr>\n",
       "      <th>366</th>\n",
       "      <td>3075044</td>\n",
       "      <td>2017-08-21</td>\n",
       "      <td>True</td>\n",
       "      <td>65.0</td>\n",
       "      <td>0</td>\n",
       "      <td>65.0</td>\n",
       "      <td>65.0</td>\n",
       "      <td>0.0</td>\n",
       "    </tr>\n",
       "    <tr>\n",
       "      <th>367</th>\n",
       "      <td>3075044</td>\n",
       "      <td>2017-08-20</td>\n",
       "      <td>True</td>\n",
       "      <td>65.0</td>\n",
       "      <td>6</td>\n",
       "      <td>65.0</td>\n",
       "      <td>65.0</td>\n",
       "      <td>0.0</td>\n",
       "    </tr>\n",
       "    <tr>\n",
       "      <th>368</th>\n",
       "      <td>3075044</td>\n",
       "      <td>2017-08-19</td>\n",
       "      <td>True</td>\n",
       "      <td>75.0</td>\n",
       "      <td>5</td>\n",
       "      <td>75.0</td>\n",
       "      <td>75.0</td>\n",
       "      <td>0.0</td>\n",
       "    </tr>\n",
       "    <tr>\n",
       "      <th>369</th>\n",
       "      <td>3075044</td>\n",
       "      <td>2017-08-18</td>\n",
       "      <td>True</td>\n",
       "      <td>75.0</td>\n",
       "      <td>4</td>\n",
       "      <td>75.0</td>\n",
       "      <td>75.0</td>\n",
       "      <td>0.0</td>\n",
       "    </tr>\n",
       "  </tbody>\n",
       "</table>\n",
       "</div>"
      ],
      "text/plain": [
       "     listing_id       date available  price  day_of_week  price_model  \\\n",
       "365     3075044 2017-08-22      True   65.0            1         65.0   \n",
       "366     3075044 2017-08-21      True   65.0            0         65.0   \n",
       "367     3075044 2017-08-20      True   65.0            6         65.0   \n",
       "368     3075044 2017-08-19      True   75.0            5         75.0   \n",
       "369     3075044 2017-08-18      True   75.0            4         75.0   \n",
       "\n",
       "     modeled_price  day_revenue  \n",
       "365           65.0          0.0  \n",
       "366           65.0          0.0  \n",
       "367           65.0          0.0  \n",
       "368           75.0          0.0  \n",
       "369           75.0          0.0  "
      ]
     },
     "execution_count": 9,
     "metadata": {},
     "output_type": "execute_result"
    }
   ],
   "source": [
    "calendar.head()"
   ]
  },
  {
   "cell_type": "code",
   "execution_count": 10,
   "metadata": {
    "collapsed": false
   },
   "outputs": [
    {
     "name": "stdout",
     "output_type": "stream",
     "text": [
      "(1344, 89) (1295,)\n"
     ]
    }
   ],
   "source": [
    "#This is definitely not well constructed, but its functional for gettiong our code to work for now.\n",
    "#\n",
    "#\n",
    "com_listings = listings[listings.calculated_host_listings_count >2]\n",
    "com_hosts = com_listings.host_id.unique()                             ###Might not need this\n",
    "com_calendar = calendar[calendar.listing_id.isin(com_listings.index)]\n",
    "\n",
    "#Somthing isn't right because the two values below should indicated the same number of listings\n",
    "#Perhaps the discrepency is coming from one of my lines where I remove \"unused or invalid\" listings\n",
    "#To test this I should run this block of code through dataframes that don't have any rows removed\n",
    "#\n",
    "a =listings[listings.calculated_host_listings_count >2].shape\n",
    "b = com_calendar.listing_id.unique().shape\n",
    "print(a,b)"
   ]
  },
  {
   "cell_type": "code",
   "execution_count": null,
   "metadata": {
    "collapsed": false
   },
   "outputs": [],
   "source": []
  },
  {
   "cell_type": "code",
   "execution_count": 11,
   "metadata": {
    "collapsed": false
   },
   "outputs": [
    {
     "data": {
      "text/plain": [
       "date\n",
       "2016-09-06    0.264660\n",
       "2016-09-07    0.425926\n",
       "2016-09-08    0.440586\n",
       "2016-09-09    0.437500\n",
       "2016-09-10    0.421296\n",
       "Name: avail_int, dtype: float64"
      ]
     },
     "execution_count": 11,
     "metadata": {},
     "output_type": "execute_result"
    }
   ],
   "source": [
    "pd.options.mode.chained_assignment = None  # default='warn'\n",
    "\n",
    "com_calendar['avail_int'] = com_calendar['available'].copy().apply(int)\n",
    "mean_avail = com_calendar.groupby('date').avail_int.mean()\n",
    "\n",
    "pd.options.mode.chained_assignment = 'warn'  # default='warn'\n",
    "\n",
    "mean_avail.head()"
   ]
  },
  {
   "cell_type": "code",
   "execution_count": null,
   "metadata": {
    "collapsed": false
   },
   "outputs": [],
   "source": []
  },
  {
   "cell_type": "code",
   "execution_count": null,
   "metadata": {
    "collapsed": false
   },
   "outputs": [],
   "source": []
  },
  {
   "cell_type": "code",
   "execution_count": null,
   "metadata": {
    "collapsed": false
   },
   "outputs": [],
   "source": []
  },
  {
   "cell_type": "markdown",
   "metadata": {
    "collapsed": false
   },
   "source": [
    "# Creating Quarterly Revenue"
   ]
  },
  {
   "cell_type": "code",
   "execution_count": 12,
   "metadata": {
    "collapsed": false
   },
   "outputs": [],
   "source": [
    "#this shouldn't be necessary once the listings cleaning is done right\n",
    "#del listings['id']"
   ]
  },
  {
   "cell_type": "code",
   "execution_count": 13,
   "metadata": {
    "collapsed": false
   },
   "outputs": [],
   "source": [
    "quarter_dates = ['2016-09-06','2016-12-06','2017-03-06','2017-06-06','2017-07-06']\n",
    "\n",
    "quarters = [com_calendar[com_calendar.date.isin(pd.date_range(quarter_dates[n], quarter_dates[n+1]))] for n in range(4)]\n",
    "quarters_revenue = pd.DataFrame(index = pd.Index( com_calendar.listing_id.unique(), name = 'listing_id'))\n",
    "quarters_revenue = quarters_revenue.join(listings['host_id'])\n",
    "for n,q in enumerate(quarters):\n",
    "    quarters_revenue = (quarters_revenue.join(pd.DataFrame(quarters[n].groupby('listing_id').day_revenue.sum()))).rename(columns={'day_revenue':'q'+str(n+1)+'_revenue'})\n",
    "\n"
   ]
  },
  {
   "cell_type": "markdown",
   "metadata": {},
   "source": [
    "# Blake's Regression Work"
   ]
  },
  {
   "cell_type": "code",
   "execution_count": 14,
   "metadata": {
    "collapsed": false
   },
   "outputs": [],
   "source": [
    "combined_data = quarters_revenue.join(listings, how='left',lsuffix='', rsuffix='_lis')"
   ]
  },
  {
   "cell_type": "code",
   "execution_count": 15,
   "metadata": {
    "collapsed": true
   },
   "outputs": [],
   "source": [
    "from sklearn import linear_model\n",
    "from sklearn.model_selection import train_test_split\n",
    "analysis_data = pd.DataFrame(combined_data, columns=['q1_revenue','number_of_reviews','number_of_reviews', 'review_scores_rating','review_scores_accuracy', 'review_scores_cleanliness', 'review_scores_checkin','review_scores_communication', 'review_scores_location','review_scores_value'])\n",
    "analysis_data.dropna(inplace=True)\n",
    "\n",
    "analysis_data_y = (analysis_data['q1_revenue']).copy()\n",
    "#withholding 'number_of_reviews_'\n",
    "analysis_data_x = analysis_data[['review_scores_rating','review_scores_accuracy', 'review_scores_cleanliness', 'review_scores_checkin','review_scores_communication', 'review_scores_location','review_scores_value']].copy()"
   ]
  },
  {
   "cell_type": "code",
   "execution_count": 16,
   "metadata": {
    "collapsed": false
   },
   "outputs": [],
   "source": [
    "#Divided the review_scores_rating by 100 to normalize\n",
    "analysis_data_x['review_scores_rating'] = analysis_data_x['review_scores_rating'] / 10"
   ]
  },
  {
   "cell_type": "code",
   "execution_count": 17,
   "metadata": {
    "collapsed": true
   },
   "outputs": [],
   "source": [
    "analysis_data_x = analysis_data_x.loc[:,~analysis_data_x.columns.duplicated()]"
   ]
  },
  {
   "cell_type": "code",
   "execution_count": 18,
   "metadata": {
    "collapsed": true
   },
   "outputs": [],
   "source": [
    "reg = linear_model.LinearRegression()"
   ]
  },
  {
   "cell_type": "code",
   "execution_count": 19,
   "metadata": {
    "collapsed": true
   },
   "outputs": [],
   "source": [
    "x_train,x_test,y_train,y_test = train_test_split(analysis_data_x, analysis_data_y, test_size = 0.2, random_state = 4)"
   ]
  },
  {
   "cell_type": "code",
   "execution_count": 20,
   "metadata": {
    "collapsed": false
   },
   "outputs": [
    {
     "data": {
      "text/plain": [
       "LinearRegression(copy_X=True, fit_intercept=True, n_jobs=1, normalize=False)"
      ]
     },
     "execution_count": 20,
     "metadata": {},
     "output_type": "execute_result"
    }
   ],
   "source": [
    "reg.fit(x_train,y_train)"
   ]
  },
  {
   "cell_type": "code",
   "execution_count": 21,
   "metadata": {
    "collapsed": false
   },
   "outputs": [
    {
     "data": {
      "text/plain": [
       "array([ 167.94066467,  470.0257302 ,  987.94425264, -149.06462571,\n",
       "       -419.28232512,  823.83961667, -638.38229061])"
      ]
     },
     "execution_count": 21,
     "metadata": {},
     "output_type": "execute_result"
    }
   ],
   "source": [
    "reg.coef_"
   ]
  },
  {
   "cell_type": "code",
   "execution_count": 22,
   "metadata": {
    "collapsed": true
   },
   "outputs": [],
   "source": [
    "predicted_answers = reg.predict(x_test)"
   ]
  },
  {
   "cell_type": "code",
   "execution_count": 23,
   "metadata": {
    "collapsed": false
   },
   "outputs": [
    {
     "data": {
      "text/plain": [
       "7087.4067267285227"
      ]
     },
     "execution_count": 23,
     "metadata": {},
     "output_type": "execute_result"
    }
   ],
   "source": [
    "predicted_answers[2]"
   ]
  },
  {
   "cell_type": "code",
   "execution_count": 24,
   "metadata": {
    "collapsed": false
   },
   "outputs": [
    {
     "data": {
      "text/plain": [
       "10140.495402685503"
      ]
     },
     "execution_count": 24,
     "metadata": {},
     "output_type": "execute_result"
    }
   ],
   "source": [
    "y_test.iloc[2]"
   ]
  },
  {
   "cell_type": "code",
   "execution_count": 25,
   "metadata": {
    "collapsed": false
   },
   "outputs": [
    {
     "data": {
      "text/plain": [
       "47394391.23698926"
      ]
     },
     "execution_count": 25,
     "metadata": {},
     "output_type": "execute_result"
    }
   ],
   "source": [
    "#mean-squared error\n",
    "np.mean((predicted_answers-y_test)**2)\n"
   ]
  },
  {
   "cell_type": "code",
   "execution_count": 26,
   "metadata": {
    "collapsed": true
   },
   "outputs": [],
   "source": [
    "from scipy import stats\n",
    "#http://stackoverflow.com/questions/27928275/find-p-value-significance-in-scikit-learn-linearregression\n",
    "\n",
    "class LinearRegression(linear_model.LinearRegression):\n",
    "    \"\"\"\n",
    "    LinearRegression class after sklearn's, but calculate t-statistics\n",
    "    and p-values for model coefficients (betas).\n",
    "    Additional attributes available after .fit()\n",
    "    are `t` and `p` which are of the shape (y.shape[1], X.shape[1])\n",
    "    which is (n_features, n_coefs)\n",
    "    This class sets the intercept to 0 by default, since usually we include it\n",
    "    in X.\n",
    "    \"\"\"\n",
    "\n",
    "    def __init__(self, *args, **kwargs):\n",
    "        if not \"fit_intercept\" in kwargs:\n",
    "            kwargs['fit_intercept'] = False\n",
    "        super(LinearRegression, self)\\\n",
    "                .__init__(*args, **kwargs)\n",
    "\n",
    "    def fit(self, X, y, n_jobs=1):\n",
    "        self = super(LinearRegression, self).fit(X, y, n_jobs)\n",
    "\n",
    "        sse = np.sum((self.predict(X) - y) ** 2, axis=0) / float(X.shape[0] - X.shape[1])\n",
    "        se = np.array([\n",
    "            np.sqrt(np.diagonal(sse[i] * np.linalg.inv(np.dot(X.T, X))))\n",
    "                                                    for i in range(sse.shape[0])\n",
    "                    ])\n",
    "\n",
    "        self.t = self.coef_ / se\n",
    "        self.p = 2 * (1 - stats.t.cdf(np.abs(self.t), y.shape[0] - X.shape[1]))\n",
    "        return self"
   ]
  },
  {
   "cell_type": "code",
   "execution_count": null,
   "metadata": {
    "collapsed": true
   },
   "outputs": [],
   "source": []
  },
  {
   "cell_type": "code",
   "execution_count": null,
   "metadata": {
    "collapsed": true
   },
   "outputs": [],
   "source": []
  },
  {
   "cell_type": "code",
   "execution_count": null,
   "metadata": {
    "collapsed": true
   },
   "outputs": [],
   "source": []
  },
  {
   "cell_type": "markdown",
   "metadata": {},
   "source": [
    "# Everything From Here Down is \"Playground\""
   ]
  },
  {
   "cell_type": "code",
   "execution_count": 27,
   "metadata": {
    "collapsed": false
   },
   "outputs": [
    {
     "name": "stderr",
     "output_type": "stream",
     "text": [
      "/Users/collinreinking/anaconda3/lib/python3.5/site-packages/calmap/__init__.py:294: FutureWarning:\n",
      "\n",
      "how in .resample() is deprecated\n",
      "the new syntax is .resample(...).sum()\n",
      "\n",
      "/Users/collinreinking/anaconda3/lib/python3.5/site-packages/calmap/__init__.py:146: MatplotlibDeprecationWarning:\n",
      "\n",
      "The get_axis_bgcolor function was deprecated in version 2.0. Use get_facecolor instead.\n",
      "\n"
     ]
    },
    {
     "data": {
      "text/plain": [
       "(<matplotlib.figure.Figure at 0x1084bd438>,\n",
       " array([<matplotlib.axes._subplots.AxesSubplot object at 0x12828f6d8>,\n",
       "        <matplotlib.axes._subplots.AxesSubplot object at 0x12832e1d0>], dtype=object))"
      ]
     },
     "execution_count": 27,
     "metadata": {},
     "output_type": "execute_result"
    },
    {
     "data": {
      "image/png": "[encoded data removed]",
      "text/plain": [
       "<matplotlib.figure.Figure at 0x1084bd438>"
      ]
     },
     "metadata": {},
     "output_type": "display_data"
    }
   ],
   "source": [
    "%matplotlib inline\n",
    "import calmap\n",
    "calmap.calendarplot(mean_avail)"
   ]
  },
  {
   "cell_type": "code",
   "execution_count": 28,
   "metadata": {
    "collapsed": false
   },
   "outputs": [
    {
     "name": "stderr",
     "output_type": "stream",
     "text": [
      "/Users/collinreinking/anaconda3/lib/python3.5/site-packages/calmap/__init__.py:294: FutureWarning:\n",
      "\n",
      "how in .resample() is deprecated\n",
      "the new syntax is .resample(...).sum()\n",
      "\n",
      "/Users/collinreinking/anaconda3/lib/python3.5/site-packages/calmap/__init__.py:146: MatplotlibDeprecationWarning:\n",
      "\n",
      "The get_axis_bgcolor function was deprecated in version 2.0. Use get_facecolor instead.\n",
      "\n"
     ]
    },
    {
     "data": {
      "text/plain": [
       "(<matplotlib.figure.Figure at 0x128425780>,\n",
       " array([<matplotlib.axes._subplots.AxesSubplot object at 0x12841a7b8>,\n",
       "        <matplotlib.axes._subplots.AxesSubplot object at 0x12abe4390>], dtype=object))"
      ]
     },
     "execution_count": 28,
     "metadata": {},
     "output_type": "execute_result"
    },
    {
     "data": {
      "image/png": "[encoded data removed]",
      "text/plain": [
       "<matplotlib.figure.Figure at 0x128425780>"
      ]
     },
     "metadata": {},
     "output_type": "display_data"
    }
   ],
   "source": [
    "mean_filled_price = com_calendar.groupby('date').modeled_price.mean()\n",
    "calmap.calendarplot(mean_filled_price)"
   ]
  },
  {
   "cell_type": "code",
   "execution_count": 29,
   "metadata": {
    "collapsed": false
   },
   "outputs": [
    {
     "name": "stderr",
     "output_type": "stream",
     "text": [
      "/Users/collinreinking/anaconda3/lib/python3.5/site-packages/calmap/__init__.py:294: FutureWarning:\n",
      "\n",
      "how in .resample() is deprecated\n",
      "the new syntax is .resample(...).sum()\n",
      "\n",
      "/Users/collinreinking/anaconda3/lib/python3.5/site-packages/calmap/__init__.py:146: MatplotlibDeprecationWarning:\n",
      "\n",
      "The get_axis_bgcolor function was deprecated in version 2.0. Use get_facecolor instead.\n",
      "\n"
     ]
    },
    {
     "data": {
      "text/plain": [
       "(<matplotlib.figure.Figure at 0x12accdac8>,\n",
       " array([<matplotlib.axes._subplots.AxesSubplot object at 0x12acc55c0>,\n",
       "        <matplotlib.axes._subplots.AxesSubplot object at 0x11cd36940>], dtype=object))"
      ]
     },
     "execution_count": 29,
     "metadata": {},
     "output_type": "execute_result"
    },
    {
     "data": {
      "image/png": "[encoded data removed]",
      "text/plain": [
       "<matplotlib.figure.Figure at 0x12accdac8>"
      ]
     },
     "metadata": {},
     "output_type": "display_data"
    }
   ],
   "source": [
    "mean_price_available = com_calendar.groupby('date').price.mean()\n",
    "calmap.calendarplot(mean_price_available)"
   ]
  },
  {
   "cell_type": "code",
   "execution_count": null,
   "metadata": {
    "collapsed": true
   },
   "outputs": [],
   "source": []
  },
  {
   "cell_type": "code",
   "execution_count": null,
   "metadata": {
    "collapsed": true
   },
   "outputs": [],
   "source": []
  }
 ],
 "metadata": {
  "anaconda-cloud": {},
  "kernelspec": {
   "display_name": "Python [conda root]",
   "language": "python",
   "name": "conda-root-py"
  },
  "language_info": {
   "codemirror_mode": {
    "name": "ipython",
    "version": 3
   },
   "file_extension": ".py",
   "mimetype": "text/x-python",
   "name": "python",
   "nbconvert_exporter": "python",
   "pygments_lexer": "ipython3",
   "version": "3.5.2"
  }
 },
 "nbformat": 4,
 "nbformat_minor": 2
}
