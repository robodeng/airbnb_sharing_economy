{
 "cells": [
  {
   "cell_type": "code",
   "execution_count": 174,
   "metadata": {
    "collapsed": false
   },
   "outputs": [],
   "source": [
    "#Enable matplotlib to display in jupyter notebook & import it\n",
    "%matplotlib inline\n",
    "import matplotlib.pyplot as plt\n",
    "import plotly.plotly as py\n",
    "import plotly.graph_objs as go\n",
    "import pandas as pd\n",
    "import numpy as np\n",
    "import re"
   ]
  },
  {
   "cell_type": "code",
   "execution_count": 175,
   "metadata": {
    "collapsed": false
   },
   "outputs": [
    {
     "name": "stdout",
     "output_type": "stream",
     "text": [
      " Volume in drive C is OS\n",
      " Volume Serial Number is D25A-F071\n",
      "\n",
      " Directory of C:\\Users\\Stace\\Documents\\MIDS\\Project2\\BOSTONAIRBB\n",
      "\n",
      "04/07/2017  03:14 PM    <DIR>          .\n",
      "04/07/2017  03:14 PM    <DIR>          ..\n",
      "04/03/2017  05:54 PM            36,550 bathrooms vs reviews per month.jpg\n",
      "04/03/2017  05:52 PM            32,253 bedrooms vs reviews per month.jpg\n",
      "03/31/2017  08:45 PM        33,521,941 calendar.csv\n",
      "04/01/2017  09:39 PM                75 calendar_col_types.csv\n",
      "04/03/2017  05:08 PM            23,345 data_merge_correlation_matrix.csv\n",
      "04/06/2017  08:45 PM             5,709 datasample.csv\n",
      "04/06/2017  08:45 PM            75,524 freq reviews.jpg\n",
      "03/31/2017  08:46 PM        14,756,898 listings.csv\n",
      "04/01/2017  05:04 PM             1,792 listings_columns.csv\n",
      "04/07/2017  03:13 PM            20,721 listings_correlations.csv\n",
      "04/01/2017  09:34 PM             2,185 lists_col_types.csv\n",
      "04/03/2017  05:44 PM            41,795 Reviews per month vs Price.jpg\n",
      "03/31/2017  08:44 PM        27,319,622 reviews.csv\n",
      "04/01/2017  09:37 PM               103 reviews_col_types.csv\n",
      "04/03/2017  06:18 PM            43,291 Reviews_vs_rating.jpg\n",
      "              15 File(s)     75,881,804 bytes\n",
      "               2 Dir(s)  170,913,992,704 bytes free\n",
      "[WinError 2] The system cannot find the file specified: 'BOSTONAIRBB'\n",
      "C:\\Users\\Stace\\Documents\\MIDS\\Project2\\BOSTONAIRBB\n"
     ]
    }
   ],
   "source": [
    "#Check working directory and move it to the folder where I want to work\n",
    "#%pwd\n",
    "%ls\n",
    "%cd BOSTONAIRBB"
   ]
  },
  {
   "cell_type": "code",
   "execution_count": 308,
   "metadata": {
    "collapsed": false
   },
   "outputs": [],
   "source": [
    "#read files\n",
    "listings = pd.read_csv('listings.csv')\n",
    "calendar = pd.read_csv('calendar.csv') #NOTE I changed the British for the 'Merican pronunciation\n",
    "reviews = pd.read_csv('reviews.csv')\n"
   ]
  },
  {
   "cell_type": "code",
   "execution_count": 309,
   "metadata": {
    "collapsed": false
   },
   "outputs": [],
   "source": [
    "#Data manipulation steps to clean data for analysis\n",
    "\n",
    "###################################      LISTINGS      ##################################################\n",
    "\n",
    "#coerce appropriate fields to datetime\n",
    "listings['host_since'] = pd.to_datetime(listings['host_since'])\n",
    "\n",
    "listings['price'] = listings['price'].str.replace('$','')\n",
    "listings['price'] = listings['price'].str.replace(',','')\n",
    "listings['price'] = listings['price'].astype(float)\n",
    "\n",
    "listings['zipcode'] = listings['zipcode'].str.replace('-','')\n",
    "listings['zipcode'] = listings['zipcode'].str.replace(' ', '')\n",
    "listings['mainzip'] = pd.Series([str(z)[:5] for z in listings['zipcode'].fillna('00000')]) ##THIS IS NOT WORKING AS I WANT IT TO; AIMING TO GRAB FIRST FIVE NUMBERS TO CREATE NEW FILE\n",
    "\n",
    "#CLEANING FEE\n",
    "\n",
    "listings['cleaning_fee'] = listings['cleaning_fee'].str.replace('$','')\n",
    "listings['cleaning_fee'] = listings['cleaning_fee'].str.replace(',','')\n",
    "\n",
    "listings['cleaning_fee'] = listings['cleaning_fee'].astype(float)\n",
    "\n",
    "#CALENDAR LAST SCRAPED\n",
    "listings['calendar_last_scraped'] = pd.to_datetime(listings['calendar_last_scraped'])\n",
    "\n",
    "\n",
    "##################################      REVIEWS       #####################################################\n",
    "reviews['date'] = pd.to_datetime(reviews['date'])\n",
    "\n",
    "##################################      CALENDAR       #####################################################\n",
    "calendar['date'] = pd.to_datetime(calendar['date'])\n",
    "calendar['listing_id'] = calendar['listing_id'].astype('category')\n",
    "calendar['price'] = calendar['price'].str.replace('$','')\n",
    "calendar['price'] = calendar['price'].str.replace(',','')\n",
    "calendar['price'].fillna(0)\n",
    "calendar['price'] = calendar['price'].astype(float)\n",
    "\n"
   ]
  },
  {
   "cell_type": "code",
   "execution_count": 49,
   "metadata": {
    "collapsed": false
   },
   "outputs": [
    {
     "data": {
      "text/html": [
       "<div>\n",
       "<table border=\"1\" class=\"dataframe\">\n",
       "  <thead>\n",
       "    <tr style=\"text-align: right;\">\n",
       "      <th></th>\n",
       "      <th>id</th>\n",
       "      <th>listing_url</th>\n",
       "      <th>scrape_id</th>\n",
       "      <th>last_scraped</th>\n",
       "      <th>name</th>\n",
       "      <th>summary</th>\n",
       "      <th>space</th>\n",
       "      <th>description</th>\n",
       "      <th>experiences_offered</th>\n",
       "      <th>neighborhood_overview</th>\n",
       "      <th>...</th>\n",
       "      <th>review_scores_value</th>\n",
       "      <th>requires_license</th>\n",
       "      <th>license</th>\n",
       "      <th>jurisdiction_names</th>\n",
       "      <th>instant_bookable</th>\n",
       "      <th>cancellation_policy</th>\n",
       "      <th>require_guest_profile_picture</th>\n",
       "      <th>require_guest_phone_verification</th>\n",
       "      <th>calculated_host_listings_count</th>\n",
       "      <th>reviews_per_month</th>\n",
       "    </tr>\n",
       "  </thead>\n",
       "  <tbody>\n",
       "    <tr>\n",
       "      <th>3580</th>\n",
       "      <td>8373729</td>\n",
       "      <td>https://www.airbnb.com/rooms/8373729</td>\n",
       "      <td>20160906204935</td>\n",
       "      <td>2016-09-07</td>\n",
       "      <td>Big cozy room near T</td>\n",
       "      <td>5 min walking to Orange Line subway with 2 sto...</td>\n",
       "      <td>NaN</td>\n",
       "      <td>5 min walking to Orange Line subway with 2 sto...</td>\n",
       "      <td>none</td>\n",
       "      <td>NaN</td>\n",
       "      <td>...</td>\n",
       "      <td>9.0</td>\n",
       "      <td>f</td>\n",
       "      <td>NaN</td>\n",
       "      <td>NaN</td>\n",
       "      <td>t</td>\n",
       "      <td>strict</td>\n",
       "      <td>f</td>\n",
       "      <td>f</td>\n",
       "      <td>8</td>\n",
       "      <td>0.34</td>\n",
       "    </tr>\n",
       "    <tr>\n",
       "      <th>3581</th>\n",
       "      <td>14844274</td>\n",
       "      <td>https://www.airbnb.com/rooms/14844274</td>\n",
       "      <td>20160906204935</td>\n",
       "      <td>2016-09-07</td>\n",
       "      <td>BU Apartment DexterPark Bright room</td>\n",
       "      <td>Most popular apartment in BU, best located in ...</td>\n",
       "      <td>Best location in BU</td>\n",
       "      <td>Most popular apartment in BU, best located in ...</td>\n",
       "      <td>none</td>\n",
       "      <td>NaN</td>\n",
       "      <td>...</td>\n",
       "      <td>NaN</td>\n",
       "      <td>f</td>\n",
       "      <td>NaN</td>\n",
       "      <td>NaN</td>\n",
       "      <td>f</td>\n",
       "      <td>strict</td>\n",
       "      <td>f</td>\n",
       "      <td>f</td>\n",
       "      <td>2</td>\n",
       "      <td>NaN</td>\n",
       "    </tr>\n",
       "    <tr>\n",
       "      <th>3582</th>\n",
       "      <td>14585486</td>\n",
       "      <td>https://www.airbnb.com/rooms/14585486</td>\n",
       "      <td>20160906204935</td>\n",
       "      <td>2016-09-07</td>\n",
       "      <td>Gorgeous funky apartment</td>\n",
       "      <td>Funky little apartment close to public transpo...</td>\n",
       "      <td>Modern and relaxed space with many facilities ...</td>\n",
       "      <td>Funky little apartment close to public transpo...</td>\n",
       "      <td>none</td>\n",
       "      <td>Cambridge is a short walk into Boston, and set...</td>\n",
       "      <td>...</td>\n",
       "      <td>NaN</td>\n",
       "      <td>f</td>\n",
       "      <td>NaN</td>\n",
       "      <td>NaN</td>\n",
       "      <td>f</td>\n",
       "      <td>flexible</td>\n",
       "      <td>f</td>\n",
       "      <td>f</td>\n",
       "      <td>1</td>\n",
       "      <td>NaN</td>\n",
       "    </tr>\n",
       "    <tr>\n",
       "      <th>3583</th>\n",
       "      <td>14603878</td>\n",
       "      <td>https://www.airbnb.com/rooms/14603878</td>\n",
       "      <td>20160906204935</td>\n",
       "      <td>2016-09-07</td>\n",
       "      <td>Great Location; Train and Restaurants</td>\n",
       "      <td>My place is close to Taco Loco Mexican Grill, ...</td>\n",
       "      <td>NaN</td>\n",
       "      <td>My place is close to Taco Loco Mexican Grill, ...</td>\n",
       "      <td>none</td>\n",
       "      <td>NaN</td>\n",
       "      <td>...</td>\n",
       "      <td>7.0</td>\n",
       "      <td>f</td>\n",
       "      <td>NaN</td>\n",
       "      <td>NaN</td>\n",
       "      <td>f</td>\n",
       "      <td>strict</td>\n",
       "      <td>f</td>\n",
       "      <td>f</td>\n",
       "      <td>1</td>\n",
       "      <td>2.00</td>\n",
       "    </tr>\n",
       "    <tr>\n",
       "      <th>3584</th>\n",
       "      <td>14504422</td>\n",
       "      <td>https://www.airbnb.com/rooms/14504422</td>\n",
       "      <td>20160906204935</td>\n",
       "      <td>2016-09-07</td>\n",
       "      <td>(K1) Private Room near Harvard/MIT</td>\n",
       "      <td>My place is close to My home is a warm and fri...</td>\n",
       "      <td>To ensure a smooth check in: 1. You MUST have ...</td>\n",
       "      <td>My place is close to My home is a warm and fri...</td>\n",
       "      <td>none</td>\n",
       "      <td>NaN</td>\n",
       "      <td>...</td>\n",
       "      <td>NaN</td>\n",
       "      <td>f</td>\n",
       "      <td>NaN</td>\n",
       "      <td>NaN</td>\n",
       "      <td>t</td>\n",
       "      <td>flexible</td>\n",
       "      <td>f</td>\n",
       "      <td>f</td>\n",
       "      <td>3</td>\n",
       "      <td>NaN</td>\n",
       "    </tr>\n",
       "  </tbody>\n",
       "</table>\n",
       "<p>5 rows × 95 columns</p>\n",
       "</div>"
      ],
      "text/plain": [
       "            id                            listing_url       scrape_id  \\\n",
       "3580   8373729   https://www.airbnb.com/rooms/8373729  20160906204935   \n",
       "3581  14844274  https://www.airbnb.com/rooms/14844274  20160906204935   \n",
       "3582  14585486  https://www.airbnb.com/rooms/14585486  20160906204935   \n",
       "3583  14603878  https://www.airbnb.com/rooms/14603878  20160906204935   \n",
       "3584  14504422  https://www.airbnb.com/rooms/14504422  20160906204935   \n",
       "\n",
       "     last_scraped                                   name  \\\n",
       "3580   2016-09-07                   Big cozy room near T   \n",
       "3581   2016-09-07    BU Apartment DexterPark Bright room   \n",
       "3582   2016-09-07               Gorgeous funky apartment   \n",
       "3583   2016-09-07  Great Location; Train and Restaurants   \n",
       "3584   2016-09-07     (K1) Private Room near Harvard/MIT   \n",
       "\n",
       "                                                summary  \\\n",
       "3580  5 min walking to Orange Line subway with 2 sto...   \n",
       "3581  Most popular apartment in BU, best located in ...   \n",
       "3582  Funky little apartment close to public transpo...   \n",
       "3583  My place is close to Taco Loco Mexican Grill, ...   \n",
       "3584  My place is close to My home is a warm and fri...   \n",
       "\n",
       "                                                  space  \\\n",
       "3580                                                NaN   \n",
       "3581                                Best location in BU   \n",
       "3582  Modern and relaxed space with many facilities ...   \n",
       "3583                                                NaN   \n",
       "3584  To ensure a smooth check in: 1. You MUST have ...   \n",
       "\n",
       "                                            description experiences_offered  \\\n",
       "3580  5 min walking to Orange Line subway with 2 sto...                none   \n",
       "3581  Most popular apartment in BU, best located in ...                none   \n",
       "3582  Funky little apartment close to public transpo...                none   \n",
       "3583  My place is close to Taco Loco Mexican Grill, ...                none   \n",
       "3584  My place is close to My home is a warm and fri...                none   \n",
       "\n",
       "                                  neighborhood_overview        ...          \\\n",
       "3580                                                NaN        ...           \n",
       "3581                                                NaN        ...           \n",
       "3582  Cambridge is a short walk into Boston, and set...        ...           \n",
       "3583                                                NaN        ...           \n",
       "3584                                                NaN        ...           \n",
       "\n",
       "     review_scores_value requires_license license jurisdiction_names  \\\n",
       "3580                 9.0                f     NaN                NaN   \n",
       "3581                 NaN                f     NaN                NaN   \n",
       "3582                 NaN                f     NaN                NaN   \n",
       "3583                 7.0                f     NaN                NaN   \n",
       "3584                 NaN                f     NaN                NaN   \n",
       "\n",
       "     instant_bookable cancellation_policy require_guest_profile_picture  \\\n",
       "3580                t              strict                             f   \n",
       "3581                f              strict                             f   \n",
       "3582                f            flexible                             f   \n",
       "3583                f              strict                             f   \n",
       "3584                t            flexible                             f   \n",
       "\n",
       "     require_guest_phone_verification calculated_host_listings_count  \\\n",
       "3580                                f                              8   \n",
       "3581                                f                              2   \n",
       "3582                                f                              1   \n",
       "3583                                f                              1   \n",
       "3584                                f                              3   \n",
       "\n",
       "      reviews_per_month  \n",
       "3580               0.34  \n",
       "3581                NaN  \n",
       "3582                NaN  \n",
       "3583               2.00  \n",
       "3584                NaN  \n",
       "\n",
       "[5 rows x 95 columns]"
      ]
     },
     "execution_count": 49,
     "metadata": {},
     "output_type": "execute_result"
    }
   ],
   "source": [
    "#understand the datatypes explicitly in the dataset\n",
    "listings.dtypes\n",
    "calendar.dtypes\n",
    "reviews.dtypes\n",
    "\n",
    "#check column names .columns\n",
    "\n",
    "#check headers .head()\n",
    "\n",
    "#check tails .tail()\n",
    "\n",
    "#listings.columns\n",
    "listings.tail()\n",
    "#reviews.head()\n",
    "#listings['neighborhood_overview'].head(5)\n"
   ]
  },
  {
   "cell_type": "code",
   "execution_count": 13,
   "metadata": {
    "collapsed": false
   },
   "outputs": [],
   "source": [
    "listings_column_names = pd.DataFrame((listings.columns))\n",
    "listings_column_names_list = list(listings.columns)\n",
    "object_first_observation = [listings[x].head(1) for x in listings_column_names_list]\n",
    "observations = pd.DataFrame(object_first_observation)"
   ]
  },
  {
   "cell_type": "code",
   "execution_count": 14,
   "metadata": {
    "collapsed": false
   },
   "outputs": [],
   "source": [
    "observations.to_csv('datasample.csv')"
   ]
  },
  {
   "cell_type": "code",
   "execution_count": 15,
   "metadata": {
    "collapsed": false
   },
   "outputs": [
    {
     "data": {
      "image/png": "[encoded data removed]",
      "text/plain": [
       "<matplotlib.figure.Figure at 0x25d00034940>"
      ]
     },
     "metadata": {},
     "output_type": "display_data"
    }
   ],
   "source": [
    "reviews['listing_id'].value_counts().plot(kind='hist', figsize = (20,10), fontsize = 16, title = 'Frequency of Reviews')\n",
    "axes = plt.gca()\n",
    "axes.set_xlim([0,250])\n",
    "axes.set_ylim([0,2500])\n",
    "plt.savefig('freq reviews.jpg')\n",
    "#multi_reviews = (reviews['listing_id'].value_counts() > 1)\n",
    "#multi_reviews.value_counts().plot(kind='bar')\n",
    "#data = go.Histogram(x = multi_reviews)\n",
    "#py.iplot(data, filename = 'reviewsmorethan1')"
   ]
  },
  {
   "cell_type": "code",
   "execution_count": 125,
   "metadata": {
    "collapsed": false
   },
   "outputs": [
    {
     "data": {
      "text/plain": [
       "<matplotlib.axes._subplots.AxesSubplot at 0x25d12593cf8>"
      ]
     },
     "execution_count": 125,
     "metadata": {},
     "output_type": "execute_result"
    },
    {
     "data": {
      "image/png": "[encoded data removed]",
      "text/plain": [
       "<matplotlib.figure.Figure at 0x25d12595048>"
      ]
     },
     "metadata": {},
     "output_type": "display_data"
    }
   ],
   "source": [
    "#listings['zipcode'].value_counts().plot(kind = 'bar')\n",
    "zipcodes_listings = listings['mainzip'].value_counts()\n",
    "zipcodes_listings.plot()"
   ]
  },
  {
   "cell_type": "code",
   "execution_count": 67,
   "metadata": {
    "collapsed": false
   },
   "outputs": [],
   "source": [
    "#plt.scatter(x = listings['host_response_time'], y = listings['review_scores_value'])\n",
    "listings['host_response_time'].value_counts()\n",
    "listings['host_response_time_categories'] = np.nan\n",
    "listings.loc[listings['host_response_time'] == 'within an hour', 'host_response_time_categories'] = 0\n",
    "listings.loc[listings['host_response_time'] == 'within a few hours', 'host_response_time_categories'] = 1\n",
    "listings.loc[listings['host_response_time'] == 'within a day', 'host_response_time_categories'] = 2\n",
    "listings.loc[listings['host_response_time'] == 'a few days or more', 'host_response_time_categories'] = 3\n",
    "\n",
    "#df.loc[df['Sex'] == 'M', 'Sex_int'] = 0\n",
    "#df.loc[df['Sex'] == 'F', 'Sex_int'] = 1"
   ]
  },
  {
   "cell_type": "code",
   "execution_count": 69,
   "metadata": {
    "collapsed": false
   },
   "outputs": [
    {
     "data": {
      "text/plain": [
       "<matplotlib.collections.PathCollection at 0x25d027cbe48>"
      ]
     },
     "execution_count": 69,
     "metadata": {},
     "output_type": "execute_result"
    },
    {
     "data": {
      "image/png": "[encoded data removed]",
      "text/plain": [
       "<matplotlib.figure.Figure at 0x25d02731208>"
      ]
     },
     "metadata": {},
     "output_type": "display_data"
    }
   ],
   "source": [
    "plt.scatter(x = listings['host_response_time_categories'], y = listings['review_scores_value'])"
   ]
  },
  {
   "cell_type": "code",
   "execution_count": 70,
   "metadata": {
    "collapsed": false
   },
   "outputs": [
    {
     "data": {
      "text/plain": [
       "within an hour        1384\n",
       "within a few hours    1218\n",
       "within a day           469\n",
       "a few days or more      43\n",
       "Name: host_response_time, dtype: int64"
      ]
     },
     "execution_count": 70,
     "metadata": {},
     "output_type": "execute_result"
    }
   ],
   "source": [
    "#plt.scatter(x= listings['zipcode'],y= listings['price'])\n",
    "#plt.figsize()\n",
    "#plt.xlabel('zipcode') #,fontsize = )\n",
    "#plt.ylabel('price')\n",
    "#fig.savefig('scatter.jpg')\n",
    "listings['host_response_time'].value_counts()"
   ]
  },
  {
   "cell_type": "code",
   "execution_count": 128,
   "metadata": {
    "collapsed": false
   },
   "outputs": [],
   "source": [
    "#listings.corr().to_csv('listings_correlations.csv')"
   ]
  },
  {
   "cell_type": "code",
   "execution_count": 104,
   "metadata": {
    "collapsed": false
   },
   "outputs": [],
   "source": [
    "split_amenities = listings['amenities'].str.split(',')\n",
    "list_split_amenities = list(split_amenities)\n",
    "new_list_split_amenities = list()\n",
    "for i in list_split_amenities:\n",
    "    for j in i:\n",
    "        new_list_split_amenities.append(j)\n",
    "\n"
   ]
  },
  {
   "cell_type": "code",
   "execution_count": 130,
   "metadata": {
    "collapsed": false
   },
   "outputs": [
    {
     "data": {
      "text/plain": [
       "85"
      ]
     },
     "execution_count": 130,
     "metadata": {},
     "output_type": "execute_result"
    }
   ],
   "source": [
    "#len(new_list_split_amenities)\n",
    "reduced_new_list_split_amenities = list(set(new_list_split_amenities))\n",
    "len(reduced_new_list_split_amenities)"
   ]
  },
  {
   "cell_type": "code",
   "execution_count": 313,
   "metadata": {
    "collapsed": false
   },
   "outputs": [
    {
     "data": {
      "text/plain": [
       "3585"
      ]
     },
     "execution_count": 313,
     "metadata": {},
     "output_type": "execute_result"
    }
   ],
   "source": [
    "#THIS CODE IS INTENDED TO FIND THE REVENUE \n",
    "listings_unique_ids = list(listings['id'].unique())\n",
    "len(listings_unique_ids)\n"
   ]
  },
  {
   "cell_type": "code",
   "execution_count": 299,
   "metadata": {
    "collapsed": false
   },
   "outputs": [
    {
     "data": {
      "text/plain": [
       "12956.363636363636"
      ]
     },
     "execution_count": 299,
     "metadata": {},
     "output_type": "execute_result"
    }
   ],
   "source": [
    "#calendar.plot(kind ='panel')\n",
    "#calendar.set_index = calendar['listing_id']\n",
    "\n",
    "#sorted(calendar, key = lambda x: (x['listing_id'], x['date']))\n",
    "calendar.groupby(['listing_id', 'date']).head()\n",
    "calendar.sort_index(ascending = False)\n",
    "\n",
    "#Capture median values\n",
    "calendar[calendar['listing_id'] == 14504422]\n",
    "count_for_id = calendar[(calendar['available'] == 'f') & (calendar['listing_id'] == 14504422)]['available'].count() \n",
    "mean_price =  calendar[(calendar['available'] == 't') & (calendar['listing_id'] == 14504422)]['price'].mean()\n",
    "\n",
    "revenue_wo_cleaning = mean_price * count_for_id\n",
    "revenue_wo_cleaning"
   ]
  },
  {
   "cell_type": "code",
   "execution_count": 286,
   "metadata": {
    "collapsed": false
   },
   "outputs": [
    {
     "data": {
      "text/plain": [
       "64.78181818181818"
      ]
     },
     "execution_count": 286,
     "metadata": {},
     "output_type": "execute_result"
    }
   ],
   "source": [
    "for i in \n",
    "count_for_id = calendar[(calendar['available'] == 'f') & (calendar['listing_id'] == 14504422)]['available'].count() \n",
    "mean_price =  calendar[(calendar['available'] == 't') & (calendar['listing_id'] == 14504422)]['price'].mean()"
   ]
  }
 ],
 "metadata": {
  "anaconda-cloud": {},
  "kernelspec": {
   "display_name": "Python [conda root]",
   "language": "python",
   "name": "conda-root-py"
  },
  "language_info": {
   "codemirror_mode": {
    "name": "ipython",
    "version": 3
   },
   "file_extension": ".py",
   "mimetype": "text/x-python",
   "name": "python",
   "nbconvert_exporter": "python",
   "pygments_lexer": "ipython3",
   "version": "3.5.2"
  }
 },
 "nbformat": 4,
 "nbformat_minor": 2
}
