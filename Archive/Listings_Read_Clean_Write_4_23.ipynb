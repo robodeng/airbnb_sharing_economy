{
 "cells": [
  {
   "cell_type": "markdown",
   "metadata": {},
   "source": [
    "# Imports"
   ]
  },
  {
   "cell_type": "code",
   "execution_count": 2,
   "metadata": {
    "collapsed": true
   },
   "outputs": [],
   "source": [
    "#Enable matplotlib to display in jupyter notebook & import it\n",
    "%matplotlib inline\n",
    "\n",
    "import matplotlib.pyplot as plt\n",
    "import plotly.plotly as py\n",
    "import plotly.graph_objs as go\n",
    "import pandas as pd\n",
    "import numpy as np\n",
    "import re\n",
    "from geopy.geocoders import Nominatim #used in filling missing zipcodes\n"
   ]
  },
  {
   "cell_type": "markdown",
   "metadata": {},
   "source": [
    "# Read in And Cleaning Listings.csv"
   ]
  },
  {
   "cell_type": "code",
   "execution_count": 29,
   "metadata": {
    "collapsed": false
   },
   "outputs": [],
   "source": [
    "#listings.csv READING\n",
    "\n",
    "LISTINGS = 'data/listings.csv'\n",
    "\n",
    "#Choose which columns from the csv to read in.\n",
    "listings_cols = ['id',\n",
    "                'host_id',\n",
    "                'neighbourhood_cleansed',\n",
    "                'zipcode',\n",
    "                'latitude',\n",
    "                'longitude',\n",
    "                'property_type',\n",
    "                'room_type',\n",
    "                'accommodates',\n",
    "                'bathrooms',\n",
    "                'amenities',\n",
    "                'price',\n",
    "                'cleaning_fee',\n",
    "                'number_of_reviews',\n",
    "                'first_review',\n",
    "                'review_scores_rating',\n",
    "                'review_scores_accuracy',\n",
    "                'review_scores_cleanliness',\n",
    "                'review_scores_checkin',\n",
    "                'review_scores_communication',\n",
    "                'review_scores_location',\n",
    "                'review_scores_value',\n",
    "                'calculated_host_listings_count',\n",
    "                'reviews_per_month'] \n",
    "\n",
    "#Read in data from the csv\n",
    "listings = pd.read_csv(LISTINGS, usecols=listings_cols)\n",
    "\n",
    "#Rename any Columns as needed\n",
    "rename_dict = {'id':'listing_id',\n",
    "              'price':'listed_price'}\n",
    "listings.rename(columns = rename_dict, inplace=True)\n",
    "\n",
    "#use listing_id as index\n",
    "listings.set_index('listing_id', inplace=True)\n",
    "\n",
    "\n",
    "\n",
    "#############################\n",
    "#         Cleaning          #\n",
    "#############################\n",
    "\n",
    "# 'zipcode' ##########\n",
    "#Paste this in to zipcode section of cleaning\n",
    "def latLonToZip(lat, lon):\n",
    "    '''Take in a latitude and longitude and return the zipcode for that location'''\n",
    "    geolocator = Nominatim()\n",
    "    try:\n",
    "        location = geolocator.reverse(str(lat)+','+str(lon))\n",
    "        z = re.compile('(\\s)([0-9]{5})(,\\sUnited)')\n",
    "        return z.findall(location[0])[0][1]\n",
    "    except:\n",
    "        print(str(lat)+','+str(lon),'-----',location)\n",
    "        return np.nan\n",
    "    \n",
    "    print(str(lat)+','+str(lon),'-----',location)\n",
    "    return np.nan\n",
    "#Find all missing zippcodes : missing_zipcodes\n",
    "missing_zipcodes = listings[listings.zipcode.isnull()].copy()\n",
    "\n",
    "#update rows that are missing zipcodes using latLonToZip to fill missin\n",
    "listings.zipcode.update(missing_zipcodes.apply(lambda x: latLonToZip(x['latitude'], x['longitude']), axis=1))\n",
    "\n",
    "#Remove 'zip+4' part of any zipcode \n",
    "listings.zipcode = listings.zipcode.apply(lambda x: x[:5])\n",
    "\n",
    "# 'price' --> 'listed_price' ##########\n",
    "listings.listed_price = listings.listed_price.replace('[^0-9.]+','',regex=True).astype(float)\n",
    "\n",
    "# 'cleaning_fee' ##########\n",
    "listings.cleaning_fee = listings.cleaning_fee.replace('[^0-9.]+','',regex=True).astype(float)\n",
    "\n",
    "# 'first_review' ##########\n",
    "listings.first_review = pd.to_datetime(listings.first_review)\n",
    "\n",
    "# 'amenities' ##########\n",
    "listings.amenities = listings.amenities.replace('[^\\w,\\s/]+','',regex=True).apply(lambda x: x.split(','))"
   ]
  },
  {
   "cell_type": "code",
   "execution_count": 30,
   "metadata": {
    "collapsed": false
   },
   "outputs": [
    {
     "name": "stdout",
     "output_type": "stream",
     "text": [
      "host_id ............................ type= <class 'numpy.int64'>\n",
      "neighbourhood_cleansed ............. type= <class 'str'>\n",
      "zipcode ............................ type= <class 'str'>\n",
      "latitude ........................... type= <class 'numpy.float64'>\n",
      "longitude .......................... type= <class 'numpy.float64'>\n",
      "property_type ...................... type= <class 'str'>\n",
      "room_type .......................... type= <class 'str'>\n",
      "accommodates ....................... type= <class 'numpy.int64'>\n",
      "bathrooms .......................... type= <class 'numpy.float64'>\n",
      "amenities .......................... type= <class 'list'>\n",
      "listed_price ....................... type= <class 'numpy.float64'>\n",
      "cleaning_fee ....................... type= <class 'numpy.float64'>\n",
      "number_of_reviews .................. type= <class 'numpy.int64'>\n",
      "first_review ....................... type= <class 'pandas.tslib.Timestamp'>\n",
      "review_scores_rating ............... type= <class 'numpy.float64'>\n",
      "review_scores_accuracy ............. type= <class 'numpy.float64'>\n",
      "review_scores_cleanliness .......... type= <class 'numpy.float64'>\n",
      "review_scores_checkin .............. type= <class 'numpy.float64'>\n",
      "review_scores_communication ........ type= <class 'numpy.float64'>\n",
      "review_scores_location ............. type= <class 'numpy.float64'>\n",
      "review_scores_value ................ type= <class 'numpy.float64'>\n",
      "calculated_host_listings_count ..... type= <class 'numpy.int64'>\n",
      "reviews_per_month .................. type= <class 'numpy.float64'>\n"
     ]
    }
   ],
   "source": [
    "for col in listings.columns:\n",
    "    print(listings[col].name, '.'*(35 - len(listings[col].name)), 'type=',type(listings[col].loc[listings[col].first_valid_index()]))"
   ]
  },
  {
   "cell_type": "code",
   "execution_count": 32,
   "metadata": {
    "collapsed": false
   },
   "outputs": [],
   "source": [
    "#Save to Pickle because it preserves the index and types\n",
    "listings.to_pickle('data/listings_cleaned.pkl')"
   ]
  },
  {
   "cell_type": "code",
   "execution_count": 33,
   "metadata": {
    "collapsed": false
   },
   "outputs": [],
   "source": [
    "listings = pd.read_pickle('data/listings_cleaned.pkl')"
   ]
  },
  {
   "cell_type": "code",
   "execution_count": 34,
   "metadata": {
    "collapsed": false
   },
   "outputs": [
    {
     "name": "stdout",
     "output_type": "stream",
     "text": [
      "host_id ............................ type= <class 'numpy.int64'>\n",
      "neighbourhood_cleansed ............. type= <class 'str'>\n",
      "zipcode ............................ type= <class 'str'>\n",
      "latitude ........................... type= <class 'numpy.float64'>\n",
      "longitude .......................... type= <class 'numpy.float64'>\n",
      "property_type ...................... type= <class 'str'>\n",
      "room_type .......................... type= <class 'str'>\n",
      "accommodates ....................... type= <class 'numpy.int64'>\n",
      "bathrooms .......................... type= <class 'numpy.float64'>\n",
      "amenities .......................... type= <class 'list'>\n",
      "listed_price ....................... type= <class 'numpy.float64'>\n",
      "cleaning_fee ....................... type= <class 'numpy.float64'>\n",
      "number_of_reviews .................. type= <class 'numpy.int64'>\n",
      "first_review ....................... type= <class 'pandas.tslib.Timestamp'>\n",
      "review_scores_rating ............... type= <class 'numpy.float64'>\n",
      "review_scores_accuracy ............. type= <class 'numpy.float64'>\n",
      "review_scores_cleanliness .......... type= <class 'numpy.float64'>\n",
      "review_scores_checkin .............. type= <class 'numpy.float64'>\n",
      "review_scores_communication ........ type= <class 'numpy.float64'>\n",
      "review_scores_location ............. type= <class 'numpy.float64'>\n",
      "review_scores_value ................ type= <class 'numpy.float64'>\n",
      "calculated_host_listings_count ..... type= <class 'numpy.int64'>\n",
      "reviews_per_month .................. type= <class 'numpy.float64'>\n"
     ]
    }
   ],
   "source": [
    "for col in listings.columns:\n",
    "    print(listings[col].name, '.'*(35 - len(listings[col].name)), 'type=',type(listings[col].loc[listings[col].first_valid_index()]))"
   ]
  },
  {
   "cell_type": "code",
   "execution_count": null,
   "metadata": {
    "collapsed": true
   },
   "outputs": [],
   "source": []
  }
 ],
 "metadata": {
  "anaconda-cloud": {},
  "kernelspec": {
   "display_name": "Python [conda root]",
   "language": "python",
   "name": "conda-root-py"
  },
  "language_info": {
   "codemirror_mode": {
    "name": "ipython",
    "version": 3
   },
   "file_extension": ".py",
   "mimetype": "text/x-python",
   "name": "python",
   "nbconvert_exporter": "python",
   "pygments_lexer": "ipython3",
   "version": "3.5.2"
  }
 },
 "nbformat": 4,
 "nbformat_minor": 2
}
