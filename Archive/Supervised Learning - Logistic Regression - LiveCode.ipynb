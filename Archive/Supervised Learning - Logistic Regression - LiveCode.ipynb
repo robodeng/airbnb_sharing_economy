








<!DOCTYPE html>
<html lang="en">

<head>
  <meta charset="utf-8">
  <title>Jupyter Notebook Viewer</title>
  <meta name="viewport" content="width=device-width, initial-scale=1.0">
  <meta name="description" content="">
  <meta name="author" content="">
  
  <meta name="robots" content="noindex,nofollow">
  

  <!--NEW RELIC Start Perf Measurement-->
  
  <!--NREND-->

  <!-- Le styles -->
  <script type="text/javascript">
//<![CDATA[
try{if (!window.CloudFlare) {var CloudFlare=[{verbose:0,p:0,byc:0,owlid:"cf",bag2:1,mirage2:0,oracle:0,paths:{cloudflare:"/cdn-cgi/nexp/dok3v=1613a3a185/"},atok:"aa425507fde9e8a014d92f3550e4ea73",petok:"b5043216ebfebeb2f6ca48deb84217c992db96c9-1492552789-3600",zone:"jupyter.org",rocket:"0",apps:{"ga_key":{"ua":"UA-52617120-1","ga_bs":"2"}}}];!function(a,b){a=document.createElement("script"),b=document.getElementsByTagName("script")[0],a.async=!0,a.src="//ajax.cloudflare.com/cdn-cgi/nexp/dok3v=905ca5bd16/cloudflare.min.js",b.parentNode.insertBefore(a,b)}()}}catch(e){};
//]]>
</script>
<link href="/static/build/styles.css?v=c18d49652a516277e15114bbd447f1c1" rel="stylesheet">

  <!-- Le HTML5 shim, for IE6-8 support of HTML5 elements -->
  <!--[if lt IE 9]>
    <script src="http://html5shim.googlecode.com/svn/trunk/html5.js"></script>
  <![endif]-->

  <!-- Le fav and touch icons -->
  <link rel="shortcut icon" href="/static/ico/ipynb_icon_16x16.png">
  <link rel="apple-touch-icon-precomposed" sizes="144x144"
        href="/static/ico/apple-touch-icon-144-precomposed.png?v=5a3c9ede93e2a8b8ea9e3f8f3da1a905">
  <link rel="apple-touch-icon-precomposed" sizes="114x114"
        href="/static/ico/apple-touch-icon-114-precomposed.png?v=45d86fc8f24dc00638035e1dd7a6d898">
  <link rel="apple-touch-icon-precomposed" sizes="72x72"
        href="/static/ico/apple-touch-icon-72-precomposed.png?v=540b5eb0f3cfd25f1439d1c9bd30e15f">
  <link rel="apple-touch-icon-precomposed"
        href="/static/ico/apple-touch-icon-57-precomposed.png?v=225f0590e187e1458625654f10a28f56">
  
  

  

  
  <meta name="twitter:card" content="summary">
  <meta name="twitter:title" content="Notebook on nbviewer">
  <meta name="twitter:description" content="Check out this Jupyter notebook!">

  
  <meta name="twitter:domain" content="nbviewer.ipython.org">
  <meta name="twitter:image:src" content="http://ipython.org/ipython-doc/dev/_images/ipynb_icon_128x128.png">

  
    <link href="/static/build/notebook.css?v=d05748bef7d8f0edbc1e0133b9a41fe0" rel="stylesheet">
  

  

  
    <script src="https://cdn.mathjax.org/mathjax/latest/MathJax.js?config=TeX-AMS_HTML" type="text/javascript">
    </script>
    <script type="text/javascript">
      init_mathjax = function() {
        if (window.MathJax) {
          // MathJax loaded
          MathJax.Hub.Config({
            TeX: {
              equationNumbers: {
                autoNumber: "AMS",
                useLabelIds: true
              }
            },
            tex2jax: {
              inlineMath: [ ['$','$'], ["\\(","\\)"] ],
              displayMath: [ ['$$','$$'], ["\\[","\\]"] ],
              processEscapes: true,
              processEnvironments: true
            },
            displayAlign: 'center',
            "HTML-CSS": {
              styles: {'.MathJax_Display': {"margin": 0}},
              linebreaks: { automatic: true }
            }
          });
          MathJax.Hub.Queue(["Typeset", MathJax.Hub]);
        }
      }
      init_mathjax();
    </script>
  

<script type="text/javascript">
/* <![CDATA[ */
var _gaq = _gaq || [];
_gaq.push(['_setAccount', 'UA-52617120-1']);
_gaq.push(['_trackPageview']);

(function() {
var ga = document.createElement('script'); ga.type = 'text/javascript'; ga.async = true;
ga.src = ('https:' == document.location.protocol ? 'https://ssl' : 'http://www') + '.google-analytics.com/ga.js';
var s = document.getElementsByTagName('script')[0]; s.parentNode.insertBefore(ga, s);
})();

(function(b){(function(a){"__CF"in b&&"DJS"in b.__CF?b.__CF.DJS.push(a):"addEventListener"in b?b.addEventListener("load",a,!1):b.attachEvent("onload",a)})(function(){"FB"in b&&"Event"in FB&&"subscribe"in FB.Event&&(FB.Event.subscribe("edge.create",function(a){_gaq.push(["_trackSocial","facebook","like",a])}),FB.Event.subscribe("edge.remove",function(a){_gaq.push(["_trackSocial","facebook","unlike",a])}),FB.Event.subscribe("message.send",function(a){_gaq.push(["_trackSocial","facebook","send",a])}));"twttr"in b&&"events"in twttr&&"bind"in twttr.events&&twttr.events.bind("tweet",function(a){if(a){var b;if(a.target&&a.target.nodeName=="IFRAME")a:{if(a=a.target.src){a=a.split("#")[0].match(/[^?=&]+=([^&]*)?/g);b=0;for(var c;c=a[b];++b)if(c.indexOf("url")===0){b=unescape(c.split("=")[1]);break a}}b=void 0}_gaq.push(["_trackSocial","twitter","tweet",b])}})})})(window);
/* ]]> */
</script>
</head>

<body class="nbviewer">

  <!-- These are loaded at the top of the body so they are available to
       notebook cells when they are loaded below. -->
  <script src="/static/components/jquery/dist/jquery.min.js?v=e071abda8fe61194711cfc2ab99fe104"></script>
  <script src="/static/components/requirejs/require.js?v=6da8be361b9ee26c5e721e76c6d4afce"></script>
  <script src="/static/components/moment/min/moment.min.js?v=89f87298ad94aa1e6b92f42eb66da043"></script>

<!-- Navbar
================================================== -->
  <nav id="menubar" class="navbar navbar-default navbar-fixed-top" data-spy="affix">
    <div class="container">
      <div class="navbar-header">
        <button type="button" class="navbar-toggle collapsed" data-toggle="collapse" data-target=".navbar-collapse">
          <span class="sr-only">Toggle navigation</span>
          <i class="fa fa-bars"></i>
        </button>
        <a class="navbar-brand" href="/">
          <img src="/static/img/nav_logo.svg?v=479cefe8d932fb14a67b93911b97d70f" width="159"/>
        </a>
      </div>

      <div class="collapse navbar-collapse">
        <ul class="nav navbar-nav navbar-right">
          <li>
            <a class="active" href="http://jupyter.org">JUPYTER</a>
          </li>
          <li>
    <a href="/faq" title="FAQ" >
      
        <span>FAQ</span>
      
    </a>
  </li>

          
  
    
  
    
      
        <li>
    <a href="/format/script/github/jmportilla/Udemy---Machine-Learning/blob/master/Supervised%20Learning%20-%20Logistic%20Regression%20-%20LiveCode.ipynb" title="View as Code" >
      <span class="fa fa-code fa-2x menu-icon"></span>
      <span class="menu-text">View as Code</span>
    </a>
  </li>
      
    
  

  
    <li>
    <a href="#" title="Python 2 Kernel" >
      <span class="fa fa-server fa-2x menu-icon"></span>
      <span class="menu-text">Python 2 Kernel</span>
    </a>
  </li>
  

  
    <li>
    <a href="https://github.com/jmportilla/Udemy---Machine-Learning/blob/master/Supervised%20Learning%20-%20Logistic%20Regression%20-%20LiveCode.ipynb" title="View on GitHub" >
      <span class="fa fa-github fa-2x menu-icon"></span>
      <span class="menu-text">View on GitHub</span>
    </a>
  </li>
  

  <li>
    <a href="https://raw.githubusercontent.com/jmportilla/Udemy---Machine-Learning/master/Supervised%20Learning%20-%20Logistic%20Regression%20-%20LiveCode.ipynb" title="Download Notebook" download>
      <span class="fa fa-download fa-2x menu-icon"></span>
      <span class="menu-text">Download Notebook</span>
    </a>
  </li>

        </ul>
      </div><!-- /.navbar-collapse -->
      
      
    </div>
  </nav>

  <div class="container container-main">
    
  
  <ol class="breadcrumb">
    
      <li>
        <a href="/github/jmportilla/Udemy---Machine-Learning/tree/master">Udemy---Machine-Learning</a>
      </li>
    
      <li>
        <a href="/github/jmportilla/Udemy---Machine-Learning/tree/master/Supervised Learning - Logistic Regression - LiveCode.ipynb">Supervised Learning - Logistic Regression - LiveCode.ipynb</a>
      </li>
    
  </ol>
  
  <div id="notebook">
    <div id="notebook-container">
      
<div class="cell border-box-sizing code_cell rendered">
<div class="input">
<div class="prompt input_prompt">In&nbsp;[1]:</div>
<div class="inner_cell">
    <div class="input_area">
<div class=" highlight hl-ipython2"><pre><span></span><span class="c1"># Data Imports</span>
<span class="kn">import</span> <span class="nn">numpy</span> <span class="kn">as</span> <span class="nn">np</span>
<span class="kn">import</span> <span class="nn">pandas</span> <span class="kn">as</span> <span class="nn">pd</span>
<span class="kn">from</span> <span class="nn">pandas</span> <span class="kn">import</span> <span class="n">Series</span><span class="p">,</span><span class="n">DataFrame</span>

<span class="c1"># Math</span>
<span class="kn">import</span> <span class="nn">math</span>

<span class="c1"># Plot imports</span>
<span class="kn">import</span> <span class="nn">matplotlib.pyplot</span> <span class="kn">as</span> <span class="nn">plt</span>
<span class="kn">import</span> <span class="nn">seaborn</span> <span class="kn">as</span> <span class="nn">sns</span>
<span class="n">sns</span><span class="o">.</span><span class="n">set_style</span><span class="p">(</span><span class="s1">&#39;whitegrid&#39;</span><span class="p">)</span>
<span class="o">%</span><span class="k">matplotlib</span> inline

<span class="c1"># Machine Learning Imports</span>
<span class="kn">from</span> <span class="nn">sklearn.linear_model</span> <span class="kn">import</span> <span class="n">LogisticRegression</span>
<span class="kn">from</span> <span class="nn">sklearn.cross_validation</span> <span class="kn">import</span> <span class="n">train_test_split</span>

<span class="c1"># For evaluating our ML results</span>
<span class="kn">from</span> <span class="nn">sklearn</span> <span class="kn">import</span> <span class="n">metrics</span>

<span class="c1"># Dataset Import</span>
<span class="kn">import</span> <span class="nn">statsmodels.api</span> <span class="kn">as</span> <span class="nn">sm</span>
</pre></div>

</div>
</div>
</div>

</div>
<div class="cell border-box-sizing code_cell rendered">
<div class="input">
<div class="prompt input_prompt">In&nbsp;[2]:</div>
<div class="inner_cell">
    <div class="input_area">
<div class=" highlight hl-ipython2"><pre><span></span><span class="n">df</span> <span class="o">=</span> <span class="n">sm</span><span class="o">.</span><span class="n">datasets</span><span class="o">.</span><span class="n">fair</span><span class="o">.</span><span class="n">load_pandas</span><span class="p">()</span><span class="o">.</span><span class="n">data</span>
</pre></div>

</div>
</div>
</div>

</div>
<div class="cell border-box-sizing code_cell rendered">
<div class="input">
<div class="prompt input_prompt">In&nbsp;[3]:</div>
<div class="inner_cell">
    <div class="input_area">
<div class=" highlight hl-ipython2"><pre><span></span><span class="n">df</span><span class="o">.</span><span class="n">head</span><span class="p">()</span>
</pre></div>

</div>
</div>
</div>

<div class="output_wrapper">
<div class="output">


<div class="output_area">
<div class="prompt output_prompt">Out[3]:</div>


<div class="output_html rendered_html output_subarea output_execute_result">
<div style="max-height:1000px;max-width:1500px;overflow:auto;">
<table border="1" class="dataframe">
  <thead>
    <tr style="text-align: right;">
      <th></th>
      <th>rate_marriage</th>
      <th>age</th>
      <th>yrs_married</th>
      <th>children</th>
      <th>religious</th>
      <th>educ</th>
      <th>occupation</th>
      <th>occupation_husb</th>
      <th>affairs</th>
    </tr>
  </thead>
  <tbody>
    <tr>
      <th>0</th>
      <td>3</td>
      <td>32</td>
      <td>9.0</td>
      <td>3</td>
      <td>3</td>
      <td>17</td>
      <td>2</td>
      <td>5</td>
      <td>0.111111</td>
    </tr>
    <tr>
      <th>1</th>
      <td>3</td>
      <td>27</td>
      <td>13.0</td>
      <td>3</td>
      <td>1</td>
      <td>14</td>
      <td>3</td>
      <td>4</td>
      <td>3.230769</td>
    </tr>
    <tr>
      <th>2</th>
      <td>4</td>
      <td>22</td>
      <td>2.5</td>
      <td>0</td>
      <td>1</td>
      <td>16</td>
      <td>3</td>
      <td>5</td>
      <td>1.400000</td>
    </tr>
    <tr>
      <th>3</th>
      <td>4</td>
      <td>37</td>
      <td>16.5</td>
      <td>4</td>
      <td>3</td>
      <td>16</td>
      <td>5</td>
      <td>5</td>
      <td>0.727273</td>
    </tr>
    <tr>
      <th>4</th>
      <td>5</td>
      <td>27</td>
      <td>9.0</td>
      <td>1</td>
      <td>1</td>
      <td>14</td>
      <td>3</td>
      <td>4</td>
      <td>4.666666</td>
    </tr>
  </tbody>
</table>
</div>
</div>

</div>

</div>
</div>

</div>
<div class="cell border-box-sizing code_cell rendered">
<div class="input">
<div class="prompt input_prompt">In&nbsp;[4]:</div>
<div class="inner_cell">
    <div class="input_area">
<div class=" highlight hl-ipython2"><pre><span></span><span class="k">def</span> <span class="nf">affair_check</span><span class="p">(</span><span class="n">x</span><span class="p">):</span>
    <span class="k">if</span> <span class="n">x</span> <span class="o">!=</span> <span class="mi">0</span><span class="p">:</span>
        <span class="k">return</span> <span class="mi">1</span>
    <span class="k">else</span><span class="p">:</span>
        <span class="k">return</span> <span class="mi">0</span>
</pre></div>

</div>
</div>
</div>

</div>
<div class="cell border-box-sizing code_cell rendered">
<div class="input">
<div class="prompt input_prompt">In&nbsp;[5]:</div>
<div class="inner_cell">
    <div class="input_area">
<div class=" highlight hl-ipython2"><pre><span></span><span class="n">df</span><span class="p">[</span><span class="s1">&#39;Had_Affair&#39;</span><span class="p">]</span> <span class="o">=</span> <span class="n">df</span><span class="p">[</span><span class="s1">&#39;affairs&#39;</span><span class="p">]</span><span class="o">.</span><span class="n">apply</span><span class="p">(</span><span class="n">affair_check</span><span class="p">)</span>
</pre></div>

</div>
</div>
</div>

</div>
<div class="cell border-box-sizing code_cell rendered">
<div class="input">
<div class="prompt input_prompt">In&nbsp;[6]:</div>
<div class="inner_cell">
    <div class="input_area">
<div class=" highlight hl-ipython2"><pre><span></span><span class="n">df</span>
</pre></div>

</div>
</div>
</div>

<div class="output_wrapper">
<div class="output">


<div class="output_area">
<div class="prompt output_prompt">Out[6]:</div>


<div class="output_html rendered_html output_subarea output_execute_result">
<div style="max-height:1000px;max-width:1500px;overflow:auto;">
<table border="1" class="dataframe">
  <thead>
    <tr style="text-align: right;">
      <th></th>
      <th>rate_marriage</th>
      <th>age</th>
      <th>yrs_married</th>
      <th>children</th>
      <th>religious</th>
      <th>educ</th>
      <th>occupation</th>
      <th>occupation_husb</th>
      <th>affairs</th>
      <th>Had_Affair</th>
    </tr>
  </thead>
  <tbody>
    <tr>
      <th>0</th>
      <td>3</td>
      <td>32.0</td>
      <td>9.0</td>
      <td>3.0</td>
      <td>3</td>
      <td>17</td>
      <td>2</td>
      <td>5</td>
      <td>0.111111</td>
      <td>1</td>
    </tr>
    <tr>
      <th>1</th>
      <td>3</td>
      <td>27.0</td>
      <td>13.0</td>
      <td>3.0</td>
      <td>1</td>
      <td>14</td>
      <td>3</td>
      <td>4</td>
      <td>3.230769</td>
      <td>1</td>
    </tr>
    <tr>
      <th>2</th>
      <td>4</td>
      <td>22.0</td>
      <td>2.5</td>
      <td>0.0</td>
      <td>1</td>
      <td>16</td>
      <td>3</td>
      <td>5</td>
      <td>1.400000</td>
      <td>1</td>
    </tr>
    <tr>
      <th>3</th>
      <td>4</td>
      <td>37.0</td>
      <td>16.5</td>
      <td>4.0</td>
      <td>3</td>
      <td>16</td>
      <td>5</td>
      <td>5</td>
      <td>0.727273</td>
      <td>1</td>
    </tr>
    <tr>
      <th>4</th>
      <td>5</td>
      <td>27.0</td>
      <td>9.0</td>
      <td>1.0</td>
      <td>1</td>
      <td>14</td>
      <td>3</td>
      <td>4</td>
      <td>4.666666</td>
      <td>1</td>
    </tr>
    <tr>
      <th>5</th>
      <td>4</td>
      <td>27.0</td>
      <td>9.0</td>
      <td>0.0</td>
      <td>2</td>
      <td>14</td>
      <td>3</td>
      <td>4</td>
      <td>4.666666</td>
      <td>1</td>
    </tr>
    <tr>
      <th>6</th>
      <td>5</td>
      <td>37.0</td>
      <td>23.0</td>
      <td>5.5</td>
      <td>2</td>
      <td>12</td>
      <td>5</td>
      <td>4</td>
      <td>0.852174</td>
      <td>1</td>
    </tr>
    <tr>
      <th>7</th>
      <td>5</td>
      <td>37.0</td>
      <td>23.0</td>
      <td>5.5</td>
      <td>2</td>
      <td>12</td>
      <td>2</td>
      <td>3</td>
      <td>1.826086</td>
      <td>1</td>
    </tr>
    <tr>
      <th>8</th>
      <td>3</td>
      <td>22.0</td>
      <td>2.5</td>
      <td>0.0</td>
      <td>2</td>
      <td>12</td>
      <td>3</td>
      <td>3</td>
      <td>4.799999</td>
      <td>1</td>
    </tr>
    <tr>
      <th>9</th>
      <td>3</td>
      <td>27.0</td>
      <td>6.0</td>
      <td>0.0</td>
      <td>1</td>
      <td>16</td>
      <td>3</td>
      <td>5</td>
      <td>1.333333</td>
      <td>1</td>
    </tr>
    <tr>
      <th>10</th>
      <td>2</td>
      <td>27.0</td>
      <td>6.0</td>
      <td>2.0</td>
      <td>1</td>
      <td>16</td>
      <td>3</td>
      <td>5</td>
      <td>3.266665</td>
      <td>1</td>
    </tr>
    <tr>
      <th>11</th>
      <td>5</td>
      <td>27.0</td>
      <td>6.0</td>
      <td>2.0</td>
      <td>3</td>
      <td>14</td>
      <td>3</td>
      <td>5</td>
      <td>2.041666</td>
      <td>1</td>
    </tr>
    <tr>
      <th>12</th>
      <td>3</td>
      <td>37.0</td>
      <td>16.5</td>
      <td>5.5</td>
      <td>1</td>
      <td>12</td>
      <td>2</td>
      <td>3</td>
      <td>0.484848</td>
      <td>1</td>
    </tr>
    <tr>
      <th>13</th>
      <td>5</td>
      <td>27.0</td>
      <td>6.0</td>
      <td>0.0</td>
      <td>2</td>
      <td>14</td>
      <td>3</td>
      <td>2</td>
      <td>2.000000</td>
      <td>1</td>
    </tr>
    <tr>
      <th>14</th>
      <td>4</td>
      <td>22.0</td>
      <td>6.0</td>
      <td>1.0</td>
      <td>1</td>
      <td>14</td>
      <td>4</td>
      <td>4</td>
      <td>3.266665</td>
      <td>1</td>
    </tr>
    <tr>
      <th>15</th>
      <td>4</td>
      <td>37.0</td>
      <td>9.0</td>
      <td>2.0</td>
      <td>2</td>
      <td>14</td>
      <td>3</td>
      <td>6</td>
      <td>1.361111</td>
      <td>1</td>
    </tr>
    <tr>
      <th>16</th>
      <td>4</td>
      <td>27.0</td>
      <td>6.0</td>
      <td>1.0</td>
      <td>1</td>
      <td>12</td>
      <td>3</td>
      <td>5</td>
      <td>2.000000</td>
      <td>1</td>
    </tr>
    <tr>
      <th>17</th>
      <td>1</td>
      <td>37.0</td>
      <td>23.0</td>
      <td>5.5</td>
      <td>4</td>
      <td>14</td>
      <td>5</td>
      <td>2</td>
      <td>1.826086</td>
      <td>1</td>
    </tr>
    <tr>
      <th>18</th>
      <td>2</td>
      <td>42.0</td>
      <td>23.0</td>
      <td>2.0</td>
      <td>2</td>
      <td>20</td>
      <td>4</td>
      <td>4</td>
      <td>1.826086</td>
      <td>1</td>
    </tr>
    <tr>
      <th>19</th>
      <td>4</td>
      <td>37.0</td>
      <td>6.0</td>
      <td>0.0</td>
      <td>2</td>
      <td>16</td>
      <td>5</td>
      <td>4</td>
      <td>2.041666</td>
      <td>1</td>
    </tr>
    <tr>
      <th>20</th>
      <td>5</td>
      <td>22.0</td>
      <td>2.5</td>
      <td>0.0</td>
      <td>2</td>
      <td>14</td>
      <td>3</td>
      <td>4</td>
      <td>7.839996</td>
      <td>1</td>
    </tr>
    <tr>
      <th>21</th>
      <td>3</td>
      <td>37.0</td>
      <td>16.5</td>
      <td>5.5</td>
      <td>2</td>
      <td>9</td>
      <td>3</td>
      <td>2</td>
      <td>2.545454</td>
      <td>1</td>
    </tr>
    <tr>
      <th>22</th>
      <td>3</td>
      <td>42.0</td>
      <td>23.0</td>
      <td>5.5</td>
      <td>3</td>
      <td>12</td>
      <td>5</td>
      <td>4</td>
      <td>0.532609</td>
      <td>1</td>
    </tr>
    <tr>
      <th>23</th>
      <td>2</td>
      <td>27.0</td>
      <td>9.0</td>
      <td>2.0</td>
      <td>4</td>
      <td>20</td>
      <td>3</td>
      <td>4</td>
      <td>0.622222</td>
      <td>1</td>
    </tr>
    <tr>
      <th>24</th>
      <td>4</td>
      <td>27.0</td>
      <td>6.0</td>
      <td>1.0</td>
      <td>2</td>
      <td>12</td>
      <td>5</td>
      <td>4</td>
      <td>0.583333</td>
      <td>1</td>
    </tr>
    <tr>
      <th>25</th>
      <td>5</td>
      <td>27.0</td>
      <td>2.5</td>
      <td>0.0</td>
      <td>3</td>
      <td>16</td>
      <td>4</td>
      <td>1</td>
      <td>4.799999</td>
      <td>1</td>
    </tr>
    <tr>
      <th>26</th>
      <td>2</td>
      <td>27.0</td>
      <td>6.0</td>
      <td>2.0</td>
      <td>2</td>
      <td>12</td>
      <td>2</td>
      <td>5</td>
      <td>0.166667</td>
      <td>1</td>
    </tr>
    <tr>
      <th>27</th>
      <td>5</td>
      <td>37.0</td>
      <td>13.0</td>
      <td>1.0</td>
      <td>3</td>
      <td>12</td>
      <td>3</td>
      <td>4</td>
      <td>0.615385</td>
      <td>1</td>
    </tr>
    <tr>
      <th>28</th>
      <td>2</td>
      <td>32.0</td>
      <td>16.5</td>
      <td>2.0</td>
      <td>2</td>
      <td>12</td>
      <td>4</td>
      <td>2</td>
      <td>1.187878</td>
      <td>1</td>
    </tr>
    <tr>
      <th>29</th>
      <td>3</td>
      <td>27.0</td>
      <td>6.0</td>
      <td>1.0</td>
      <td>1</td>
      <td>14</td>
      <td>3</td>
      <td>6</td>
      <td>11.199999</td>
      <td>1</td>
    </tr>
    <tr>
      <th>...</th>
      <td>...</td>
      <td>...</td>
      <td>...</td>
      <td>...</td>
      <td>...</td>
      <td>...</td>
      <td>...</td>
      <td>...</td>
      <td>...</td>
      <td>...</td>
    </tr>
    <tr>
      <th>6336</th>
      <td>5</td>
      <td>42.0</td>
      <td>23.0</td>
      <td>4.0</td>
      <td>3</td>
      <td>14</td>
      <td>5</td>
      <td>4</td>
      <td>0.000000</td>
      <td>0</td>
    </tr>
    <tr>
      <th>6337</th>
      <td>5</td>
      <td>27.0</td>
      <td>6.0</td>
      <td>0.0</td>
      <td>4</td>
      <td>14</td>
      <td>4</td>
      <td>4</td>
      <td>0.000000</td>
      <td>0</td>
    </tr>
    <tr>
      <th>6338</th>
      <td>5</td>
      <td>42.0</td>
      <td>23.0</td>
      <td>2.0</td>
      <td>3</td>
      <td>12</td>
      <td>2</td>
      <td>2</td>
      <td>0.000000</td>
      <td>0</td>
    </tr>
    <tr>
      <th>6339</th>
      <td>4</td>
      <td>32.0</td>
      <td>13.0</td>
      <td>3.0</td>
      <td>3</td>
      <td>16</td>
      <td>4</td>
      <td>2</td>
      <td>0.000000</td>
      <td>0</td>
    </tr>
    <tr>
      <th>6340</th>
      <td>5</td>
      <td>27.0</td>
      <td>13.0</td>
      <td>3.0</td>
      <td>3</td>
      <td>16</td>
      <td>4</td>
      <td>2</td>
      <td>0.000000</td>
      <td>0</td>
    </tr>
    <tr>
      <th>6341</th>
      <td>5</td>
      <td>27.0</td>
      <td>9.0</td>
      <td>1.0</td>
      <td>2</td>
      <td>14</td>
      <td>4</td>
      <td>5</td>
      <td>0.000000</td>
      <td>0</td>
    </tr>
    <tr>
      <th>6342</th>
      <td>4</td>
      <td>22.0</td>
      <td>2.5</td>
      <td>0.0</td>
      <td>2</td>
      <td>16</td>
      <td>4</td>
      <td>1</td>
      <td>0.000000</td>
      <td>0</td>
    </tr>
    <tr>
      <th>6343</th>
      <td>5</td>
      <td>17.5</td>
      <td>2.5</td>
      <td>0.0</td>
      <td>4</td>
      <td>12</td>
      <td>3</td>
      <td>5</td>
      <td>0.000000</td>
      <td>0</td>
    </tr>
    <tr>
      <th>6344</th>
      <td>4</td>
      <td>32.0</td>
      <td>16.5</td>
      <td>2.0</td>
      <td>2</td>
      <td>12</td>
      <td>3</td>
      <td>4</td>
      <td>0.000000</td>
      <td>0</td>
    </tr>
    <tr>
      <th>6345</th>
      <td>5</td>
      <td>27.0</td>
      <td>9.0</td>
      <td>1.0</td>
      <td>3</td>
      <td>12</td>
      <td>3</td>
      <td>5</td>
      <td>0.000000</td>
      <td>0</td>
    </tr>
    <tr>
      <th>6346</th>
      <td>4</td>
      <td>22.0</td>
      <td>2.5</td>
      <td>0.0</td>
      <td>4</td>
      <td>14</td>
      <td>4</td>
      <td>2</td>
      <td>0.000000</td>
      <td>0</td>
    </tr>
    <tr>
      <th>6347</th>
      <td>5</td>
      <td>22.0</td>
      <td>2.5</td>
      <td>1.0</td>
      <td>2</td>
      <td>12</td>
      <td>3</td>
      <td>2</td>
      <td>0.000000</td>
      <td>0</td>
    </tr>
    <tr>
      <th>6348</th>
      <td>5</td>
      <td>27.0</td>
      <td>0.5</td>
      <td>0.0</td>
      <td>4</td>
      <td>20</td>
      <td>4</td>
      <td>4</td>
      <td>0.000000</td>
      <td>0</td>
    </tr>
    <tr>
      <th>6349</th>
      <td>5</td>
      <td>37.0</td>
      <td>16.5</td>
      <td>3.0</td>
      <td>3</td>
      <td>14</td>
      <td>5</td>
      <td>5</td>
      <td>0.000000</td>
      <td>0</td>
    </tr>
    <tr>
      <th>6350</th>
      <td>5</td>
      <td>32.0</td>
      <td>13.0</td>
      <td>2.0</td>
      <td>4</td>
      <td>14</td>
      <td>3</td>
      <td>6</td>
      <td>0.000000</td>
      <td>0</td>
    </tr>
    <tr>
      <th>6351</th>
      <td>4</td>
      <td>22.0</td>
      <td>0.5</td>
      <td>0.0</td>
      <td>2</td>
      <td>16</td>
      <td>3</td>
      <td>1</td>
      <td>0.000000</td>
      <td>0</td>
    </tr>
    <tr>
      <th>6352</th>
      <td>5</td>
      <td>42.0</td>
      <td>23.0</td>
      <td>2.0</td>
      <td>4</td>
      <td>12</td>
      <td>3</td>
      <td>2</td>
      <td>0.000000</td>
      <td>0</td>
    </tr>
    <tr>
      <th>6353</th>
      <td>5</td>
      <td>22.0</td>
      <td>2.5</td>
      <td>2.0</td>
      <td>2</td>
      <td>14</td>
      <td>3</td>
      <td>5</td>
      <td>0.000000</td>
      <td>0</td>
    </tr>
    <tr>
      <th>6354</th>
      <td>5</td>
      <td>42.0</td>
      <td>23.0</td>
      <td>4.0</td>
      <td>4</td>
      <td>12</td>
      <td>3</td>
      <td>5</td>
      <td>0.000000</td>
      <td>0</td>
    </tr>
    <tr>
      <th>6355</th>
      <td>4</td>
      <td>27.0</td>
      <td>6.0</td>
      <td>0.0</td>
      <td>3</td>
      <td>12</td>
      <td>3</td>
      <td>4</td>
      <td>0.000000</td>
      <td>0</td>
    </tr>
    <tr>
      <th>6356</th>
      <td>5</td>
      <td>32.0</td>
      <td>13.0</td>
      <td>3.0</td>
      <td>3</td>
      <td>12</td>
      <td>3</td>
      <td>5</td>
      <td>0.000000</td>
      <td>0</td>
    </tr>
    <tr>
      <th>6357</th>
      <td>5</td>
      <td>32.0</td>
      <td>13.0</td>
      <td>4.0</td>
      <td>2</td>
      <td>14</td>
      <td>4</td>
      <td>4</td>
      <td>0.000000</td>
      <td>0</td>
    </tr>
    <tr>
      <th>6358</th>
      <td>3</td>
      <td>27.0</td>
      <td>6.0</td>
      <td>2.0</td>
      <td>4</td>
      <td>14</td>
      <td>3</td>
      <td>1</td>
      <td>0.000000</td>
      <td>0</td>
    </tr>
    <tr>
      <th>6359</th>
      <td>4</td>
      <td>22.0</td>
      <td>2.5</td>
      <td>0.0</td>
      <td>3</td>
      <td>16</td>
      <td>5</td>
      <td>5</td>
      <td>0.000000</td>
      <td>0</td>
    </tr>
    <tr>
      <th>6360</th>
      <td>5</td>
      <td>22.0</td>
      <td>2.5</td>
      <td>0.0</td>
      <td>2</td>
      <td>14</td>
      <td>3</td>
      <td>3</td>
      <td>0.000000</td>
      <td>0</td>
    </tr>
    <tr>
      <th>6361</th>
      <td>5</td>
      <td>32.0</td>
      <td>13.0</td>
      <td>2.0</td>
      <td>3</td>
      <td>17</td>
      <td>4</td>
      <td>3</td>
      <td>0.000000</td>
      <td>0</td>
    </tr>
    <tr>
      <th>6362</th>
      <td>4</td>
      <td>32.0</td>
      <td>13.0</td>
      <td>1.0</td>
      <td>1</td>
      <td>16</td>
      <td>5</td>
      <td>5</td>
      <td>0.000000</td>
      <td>0</td>
    </tr>
    <tr>
      <th>6363</th>
      <td>5</td>
      <td>22.0</td>
      <td>2.5</td>
      <td>0.0</td>
      <td>2</td>
      <td>14</td>
      <td>3</td>
      <td>1</td>
      <td>0.000000</td>
      <td>0</td>
    </tr>
    <tr>
      <th>6364</th>
      <td>5</td>
      <td>32.0</td>
      <td>6.0</td>
      <td>1.0</td>
      <td>3</td>
      <td>14</td>
      <td>3</td>
      <td>4</td>
      <td>0.000000</td>
      <td>0</td>
    </tr>
    <tr>
      <th>6365</th>
      <td>4</td>
      <td>22.0</td>
      <td>2.5</td>
      <td>0.0</td>
      <td>2</td>
      <td>16</td>
      <td>2</td>
      <td>4</td>
      <td>0.000000</td>
      <td>0</td>
    </tr>
  </tbody>
</table>
<p>6366 rows × 10 columns</p>
</div>
</div>

</div>

</div>
</div>

</div>
<div class="cell border-box-sizing code_cell rendered">
<div class="input">
<div class="prompt input_prompt">In&nbsp;[7]:</div>
<div class="inner_cell">
    <div class="input_area">
<div class=" highlight hl-ipython2"><pre><span></span><span class="n">df</span><span class="o">.</span><span class="n">groupby</span><span class="p">(</span><span class="s1">&#39;Had_Affair&#39;</span><span class="p">)</span><span class="o">.</span><span class="n">mean</span><span class="p">()</span>
</pre></div>

</div>
</div>
</div>

<div class="output_wrapper">
<div class="output">


<div class="output_area">
<div class="prompt output_prompt">Out[7]:</div>


<div class="output_html rendered_html output_subarea output_execute_result">
<div style="max-height:1000px;max-width:1500px;overflow:auto;">
<table border="1" class="dataframe">
  <thead>
    <tr style="text-align: right;">
      <th></th>
      <th>rate_marriage</th>
      <th>age</th>
      <th>yrs_married</th>
      <th>children</th>
      <th>religious</th>
      <th>educ</th>
      <th>occupation</th>
      <th>occupation_husb</th>
      <th>affairs</th>
    </tr>
    <tr>
      <th>Had_Affair</th>
      <th></th>
      <th></th>
      <th></th>
      <th></th>
      <th></th>
      <th></th>
      <th></th>
      <th></th>
      <th></th>
    </tr>
  </thead>
  <tbody>
    <tr>
      <th>0</th>
      <td>4.329701</td>
      <td>28.390679</td>
      <td>7.989335</td>
      <td>1.238813</td>
      <td>2.504521</td>
      <td>14.322977</td>
      <td>3.405286</td>
      <td>3.833758</td>
      <td>0.000000</td>
    </tr>
    <tr>
      <th>1</th>
      <td>3.647345</td>
      <td>30.537019</td>
      <td>11.152460</td>
      <td>1.728933</td>
      <td>2.261568</td>
      <td>13.972236</td>
      <td>3.463712</td>
      <td>3.884559</td>
      <td>2.187243</td>
    </tr>
  </tbody>
</table>
</div>
</div>

</div>

</div>
</div>

</div>
<div class="cell border-box-sizing code_cell rendered">
<div class="input">
<div class="prompt input_prompt">In&nbsp;[8]:</div>
<div class="inner_cell">
    <div class="input_area">
<div class=" highlight hl-ipython2"><pre><span></span><span class="n">sns</span><span class="o">.</span><span class="n">factorplot</span><span class="p">(</span><span class="s1">&#39;age&#39;</span><span class="p">,</span><span class="n">data</span><span class="o">=</span><span class="n">df</span><span class="p">,</span><span class="n">hue</span><span class="o">=</span><span class="s1">&#39;Had_Affair&#39;</span><span class="p">,</span><span class="n">palette</span><span class="o">=</span><span class="s1">&#39;coolwarm&#39;</span><span class="p">)</span>
</pre></div>

</div>
</div>
</div>

<div class="output_wrapper">
<div class="output">


<div class="output_area">
<div class="prompt output_prompt">Out[8]:</div>



<div class="output_text output_subarea output_execute_result">
<pre>&lt;seaborn.axisgrid.FacetGrid at 0x196a9d68&gt;</pre>
</div>

</div>

<div class="output_area">
<div class="prompt"></div>



<div class="output_png output_subarea ">
<img src="data:image/png;base64,iVBORw0KGgoAAAANSUhEUgAAAZMAAAFhCAYAAAC1RkdzAAAABHNCSVQICAgIfAhkiAAAAAlwSFlz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"
>
</div>

</div>

</div>
</div>

</div>
<div class="cell border-box-sizing code_cell rendered">
<div class="input">
<div class="prompt input_prompt">In&nbsp;[9]:</div>
<div class="inner_cell">
    <div class="input_area">
<div class=" highlight hl-ipython2"><pre><span></span><span class="n">sns</span><span class="o">.</span><span class="n">factorplot</span><span class="p">(</span><span class="s1">&#39;yrs_married&#39;</span><span class="p">,</span><span class="n">data</span><span class="o">=</span><span class="n">df</span><span class="p">,</span><span class="n">hue</span><span class="o">=</span><span class="s1">&#39;Had_Affair&#39;</span><span class="p">,</span><span class="n">palette</span><span class="o">=</span><span class="s1">&#39;coolwarm&#39;</span><span class="p">)</span>
</pre></div>

</div>
</div>
</div>

<div class="output_wrapper">
<div class="output">


<div class="output_area">
<div class="prompt output_prompt">Out[9]:</div>



<div class="output_text output_subarea output_execute_result">
<pre>&lt;seaborn.axisgrid.FacetGrid at 0x19716e80&gt;</pre>
</div>

</div>

<div class="output_area">
<div class="prompt"></div>



<div class="output_png output_subarea ">
<img src="data:image/png;base64,iVBORw0KGgoAAAANSUhEUgAAAZMAAAFhCAYAAAC1RkdzAAAABHNCSVQICAgIfAhkiAAAAAlwSFlz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=
"
>
</div>

</div>

</div>
</div>

</div>
<div class="cell border-box-sizing code_cell rendered">
<div class="input">
<div class="prompt input_prompt">In&nbsp;[10]:</div>
<div class="inner_cell">
    <div class="input_area">
<div class=" highlight hl-ipython2"><pre><span></span><span class="n">sns</span><span class="o">.</span><span class="n">factorplot</span><span class="p">(</span><span class="s1">&#39;children&#39;</span><span class="p">,</span><span class="n">data</span><span class="o">=</span><span class="n">df</span><span class="p">,</span><span class="n">hue</span><span class="o">=</span><span class="s1">&#39;Had_Affair&#39;</span><span class="p">,</span><span class="n">palette</span><span class="o">=</span><span class="s1">&#39;coolwarm&#39;</span><span class="p">)</span>
</pre></div>

</div>
</div>
</div>

<div class="output_wrapper">
<div class="output">


<div class="output_area">
<div class="prompt output_prompt">Out[10]:</div>



<div class="output_text output_subarea output_execute_result">
<pre>&lt;seaborn.axisgrid.FacetGrid at 0x1aafb438&gt;</pre>
</div>

</div>

<div class="output_area">
<div class="prompt"></div>



<div class="output_png output_subarea ">
<img src="data:image/png;base64,iVBORw0KGgoAAAANSUhEUgAAAZMAAAFhCAYAAAC1RkdzAAAABHNCSVQICAgIfAhkiAAAAAlwSFlz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"
>
</div>

</div>

</div>
</div>

</div>
<div class="cell border-box-sizing code_cell rendered">
<div class="input">
<div class="prompt input_prompt">In&nbsp;[11]:</div>
<div class="inner_cell">
    <div class="input_area">
<div class=" highlight hl-ipython2"><pre><span></span><span class="n">sns</span><span class="o">.</span><span class="n">factorplot</span><span class="p">(</span><span class="s1">&#39;educ&#39;</span><span class="p">,</span><span class="n">data</span><span class="o">=</span><span class="n">df</span><span class="p">,</span><span class="n">hue</span><span class="o">=</span><span class="s1">&#39;Had_Affair&#39;</span><span class="p">,</span><span class="n">palette</span><span class="o">=</span><span class="s1">&#39;coolwarm&#39;</span><span class="p">)</span>
</pre></div>

</div>
</div>
</div>

<div class="output_wrapper">
<div class="output">


<div class="output_area">
<div class="prompt output_prompt">Out[11]:</div>



<div class="output_text output_subarea output_execute_result">
<pre>&lt;seaborn.axisgrid.FacetGrid at 0x1adbf518&gt;</pre>
</div>

</div>

<div class="output_area">
<div class="prompt"></div>



<div class="output_png output_subarea ">
<img src="data:image/png;base64,iVBORw0KGgoAAAANSUhEUgAAAZMAAAFhCAYAAAC1RkdzAAAABHNCSVQICAgIfAhkiAAAAAlwSFlz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"
>
</div>

</div>

</div>
</div>

</div>
<div class="cell border-box-sizing code_cell rendered">
<div class="input">
<div class="prompt input_prompt">In&nbsp;[12]:</div>
<div class="inner_cell">
    <div class="input_area">
<div class=" highlight hl-ipython2"><pre><span></span><span class="n">occ_dummies</span> <span class="o">=</span> <span class="n">pd</span><span class="o">.</span><span class="n">get_dummies</span><span class="p">(</span><span class="n">df</span><span class="p">[</span><span class="s1">&#39;occupation&#39;</span><span class="p">])</span>
</pre></div>

</div>
</div>
</div>

</div>
<div class="cell border-box-sizing code_cell rendered">
<div class="input">
<div class="prompt input_prompt">In&nbsp;[13]:</div>
<div class="inner_cell">
    <div class="input_area">
<div class=" highlight hl-ipython2"><pre><span></span><span class="n">hus_occ_dummies</span> <span class="o">=</span> <span class="n">pd</span><span class="o">.</span><span class="n">get_dummies</span><span class="p">(</span><span class="n">df</span><span class="p">[</span><span class="s1">&#39;occupation_husb&#39;</span><span class="p">])</span>
</pre></div>

</div>
</div>
</div>

</div>
<div class="cell border-box-sizing code_cell rendered">
<div class="input">
<div class="prompt input_prompt">In&nbsp;[14]:</div>
<div class="inner_cell">
    <div class="input_area">
<div class=" highlight hl-ipython2"><pre><span></span><span class="n">occ_dummies</span><span class="o">.</span><span class="n">head</span><span class="p">()</span>
</pre></div>

</div>
</div>
</div>

<div class="output_wrapper">
<div class="output">


<div class="output_area">
<div class="prompt output_prompt">Out[14]:</div>


<div class="output_html rendered_html output_subarea output_execute_result">
<div style="max-height:1000px;max-width:1500px;overflow:auto;">
<table border="1" class="dataframe">
  <thead>
    <tr style="text-align: right;">
      <th></th>
      <th>1.0</th>
      <th>2.0</th>
      <th>3.0</th>
      <th>4.0</th>
      <th>5.0</th>
      <th>6.0</th>
    </tr>
  </thead>
  <tbody>
    <tr>
      <th>0</th>
      <td>0</td>
      <td>1</td>
      <td>0</td>
      <td>0</td>
      <td>0</td>
      <td>0</td>
    </tr>
    <tr>
      <th>1</th>
      <td>0</td>
      <td>0</td>
      <td>1</td>
      <td>0</td>
      <td>0</td>
      <td>0</td>
    </tr>
    <tr>
      <th>2</th>
      <td>0</td>
      <td>0</td>
      <td>1</td>
      <td>0</td>
      <td>0</td>
      <td>0</td>
    </tr>
    <tr>
      <th>3</th>
      <td>0</td>
      <td>0</td>
      <td>0</td>
      <td>0</td>
      <td>1</td>
      <td>0</td>
    </tr>
    <tr>
      <th>4</th>
      <td>0</td>
      <td>0</td>
      <td>1</td>
      <td>0</td>
      <td>0</td>
      <td>0</td>
    </tr>
  </tbody>
</table>
</div>
</div>

</div>

</div>
</div>

</div>
<div class="cell border-box-sizing code_cell rendered">
<div class="input">
<div class="prompt input_prompt">In&nbsp;[16]:</div>
<div class="inner_cell">
    <div class="input_area">
<div class=" highlight hl-ipython2"><pre><span></span><span class="n">occ_dummies</span><span class="o">.</span><span class="n">columns</span> <span class="o">=</span> <span class="p">[</span><span class="s1">&#39;occ1&#39;</span><span class="p">,</span><span class="s1">&#39;occ2&#39;</span><span class="p">,</span><span class="s1">&#39;occ3&#39;</span><span class="p">,</span><span class="s1">&#39;occ4&#39;</span><span class="p">,</span><span class="s1">&#39;occ5&#39;</span><span class="p">,</span><span class="s1">&#39;occ6&#39;</span><span class="p">]</span>
</pre></div>

</div>
</div>
</div>

</div>
<div class="cell border-box-sizing code_cell rendered">
<div class="input">
<div class="prompt input_prompt">In&nbsp;[17]:</div>
<div class="inner_cell">
    <div class="input_area">
<div class=" highlight hl-ipython2"><pre><span></span><span class="n">hus_occ_dummies</span><span class="o">.</span><span class="n">columns</span> <span class="o">=</span> <span class="p">[</span><span class="s1">&#39;hocc1&#39;</span><span class="p">,</span><span class="s1">&#39;hocc2&#39;</span><span class="p">,</span><span class="s1">&#39;hocc3&#39;</span><span class="p">,</span><span class="s1">&#39;hocc4&#39;</span><span class="p">,</span><span class="s1">&#39;hocc5&#39;</span><span class="p">,</span><span class="s1">&#39;hocc6&#39;</span><span class="p">]</span>
</pre></div>

</div>
</div>
</div>

</div>
<div class="cell border-box-sizing code_cell rendered">
<div class="input">
<div class="prompt input_prompt">In&nbsp;[18]:</div>
<div class="inner_cell">
    <div class="input_area">
<div class=" highlight hl-ipython2"><pre><span></span><span class="n">X</span> <span class="o">=</span> <span class="n">df</span><span class="o">.</span><span class="n">drop</span><span class="p">([</span><span class="s1">&#39;occupation&#39;</span><span class="p">,</span><span class="s1">&#39;occupation_husb&#39;</span><span class="p">,</span><span class="s1">&#39;Had_Affair&#39;</span><span class="p">],</span><span class="n">axis</span><span class="o">=</span><span class="mi">1</span><span class="p">)</span>
</pre></div>

</div>
</div>
</div>

</div>
<div class="cell border-box-sizing code_cell rendered">
<div class="input">
<div class="prompt input_prompt">In&nbsp;[19]:</div>
<div class="inner_cell">
    <div class="input_area">
<div class=" highlight hl-ipython2"><pre><span></span><span class="n">dummies</span> <span class="o">=</span> <span class="n">pd</span><span class="o">.</span><span class="n">concat</span><span class="p">([</span><span class="n">occ_dummies</span><span class="p">,</span><span class="n">hus_occ_dummies</span><span class="p">],</span><span class="n">axis</span><span class="o">=</span><span class="mi">1</span><span class="p">)</span>
</pre></div>

</div>
</div>
</div>

</div>
<div class="cell border-box-sizing code_cell rendered">
<div class="input">
<div class="prompt input_prompt">In&nbsp;[22]:</div>
<div class="inner_cell">
    <div class="input_area">
<div class=" highlight hl-ipython2"><pre><span></span><span class="n">X</span> <span class="o">=</span> <span class="n">pd</span><span class="o">.</span><span class="n">concat</span><span class="p">([</span><span class="n">X</span><span class="p">,</span><span class="n">dummies</span><span class="p">],</span><span class="n">axis</span><span class="o">=</span><span class="mi">1</span><span class="p">)</span>
</pre></div>

</div>
</div>
</div>

</div>
<div class="cell border-box-sizing code_cell rendered">
<div class="input">
<div class="prompt input_prompt">In&nbsp;[23]:</div>
<div class="inner_cell">
    <div class="input_area">
<div class=" highlight hl-ipython2"><pre><span></span><span class="n">X</span><span class="o">.</span><span class="n">head</span><span class="p">()</span>
</pre></div>

</div>
</div>
</div>

<div class="output_wrapper">
<div class="output">


<div class="output_area">
<div class="prompt output_prompt">Out[23]:</div>


<div class="output_html rendered_html output_subarea output_execute_result">
<div style="max-height:1000px;max-width:1500px;overflow:auto;">
<table border="1" class="dataframe">
  <thead>
    <tr style="text-align: right;">
      <th></th>
      <th>rate_marriage</th>
      <th>age</th>
      <th>yrs_married</th>
      <th>children</th>
      <th>religious</th>
      <th>educ</th>
      <th>affairs</th>
      <th>occ1</th>
      <th>occ2</th>
      <th>occ3</th>
      <th>occ4</th>
      <th>occ5</th>
      <th>occ6</th>
      <th>hocc1</th>
      <th>hocc2</th>
      <th>hocc3</th>
      <th>hocc4</th>
      <th>hocc5</th>
      <th>hocc6</th>
    </tr>
  </thead>
  <tbody>
    <tr>
      <th>0</th>
      <td>3</td>
      <td>32</td>
      <td>9.0</td>
      <td>3</td>
      <td>3</td>
      <td>17</td>
      <td>0.111111</td>
      <td>0</td>
      <td>1</td>
      <td>0</td>
      <td>0</td>
      <td>0</td>
      <td>0</td>
      <td>0</td>
      <td>0</td>
      <td>0</td>
      <td>0</td>
      <td>1</td>
      <td>0</td>
    </tr>
    <tr>
      <th>1</th>
      <td>3</td>
      <td>27</td>
      <td>13.0</td>
      <td>3</td>
      <td>1</td>
      <td>14</td>
      <td>3.230769</td>
      <td>0</td>
      <td>0</td>
      <td>1</td>
      <td>0</td>
      <td>0</td>
      <td>0</td>
      <td>0</td>
      <td>0</td>
      <td>0</td>
      <td>1</td>
      <td>0</td>
      <td>0</td>
    </tr>
    <tr>
      <th>2</th>
      <td>4</td>
      <td>22</td>
      <td>2.5</td>
      <td>0</td>
      <td>1</td>
      <td>16</td>
      <td>1.400000</td>
      <td>0</td>
      <td>0</td>
      <td>1</td>
      <td>0</td>
      <td>0</td>
      <td>0</td>
      <td>0</td>
      <td>0</td>
      <td>0</td>
      <td>0</td>
      <td>1</td>
      <td>0</td>
    </tr>
    <tr>
      <th>3</th>
      <td>4</td>
      <td>37</td>
      <td>16.5</td>
      <td>4</td>
      <td>3</td>
      <td>16</td>
      <td>0.727273</td>
      <td>0</td>
      <td>0</td>
      <td>0</td>
      <td>0</td>
      <td>1</td>
      <td>0</td>
      <td>0</td>
      <td>0</td>
      <td>0</td>
      <td>0</td>
      <td>1</td>
      <td>0</td>
    </tr>
    <tr>
      <th>4</th>
      <td>5</td>
      <td>27</td>
      <td>9.0</td>
      <td>1</td>
      <td>1</td>
      <td>14</td>
      <td>4.666666</td>
      <td>0</td>
      <td>0</td>
      <td>1</td>
      <td>0</td>
      <td>0</td>
      <td>0</td>
      <td>0</td>
      <td>0</td>
      <td>0</td>
      <td>1</td>
      <td>0</td>
      <td>0</td>
    </tr>
  </tbody>
</table>
</div>
</div>

</div>

</div>
</div>

</div>
<div class="cell border-box-sizing code_cell rendered">
<div class="input">
<div class="prompt input_prompt">In&nbsp;[25]:</div>
<div class="inner_cell">
    <div class="input_area">
<div class=" highlight hl-ipython2"><pre><span></span><span class="n">Y</span> <span class="o">=</span> <span class="n">df</span><span class="o">.</span><span class="n">Had_Affair</span>

<span class="n">Y</span><span class="o">.</span><span class="n">tail</span><span class="p">()</span>
</pre></div>

</div>
</div>
</div>

<div class="output_wrapper">
<div class="output">


<div class="output_area">
<div class="prompt output_prompt">Out[25]:</div>



<div class="output_text output_subarea output_execute_result">
<pre>6361    0
6362    0
6363    0
6364    0
6365    0
Name: Had_Affair, dtype: int64</pre>
</div>

</div>

</div>
</div>

</div>
<div class="cell border-box-sizing code_cell rendered">
<div class="input">
<div class="prompt input_prompt">In&nbsp;[30]:</div>
<div class="inner_cell">
    <div class="input_area">
<div class=" highlight hl-ipython2"><pre><span></span><span class="n">X</span> <span class="o">=</span> <span class="n">X</span><span class="o">.</span><span class="n">drop</span><span class="p">(</span><span class="s1">&#39;affairs&#39;</span><span class="p">,</span><span class="n">axis</span><span class="o">=</span><span class="mi">1</span><span class="p">)</span>
</pre></div>

</div>
</div>
</div>

</div>
<div class="cell border-box-sizing code_cell rendered">
<div class="input">
<div class="prompt input_prompt">In&nbsp;[31]:</div>
<div class="inner_cell">
    <div class="input_area">
<div class=" highlight hl-ipython2"><pre><span></span><span class="n">X</span><span class="o">.</span><span class="n">head</span><span class="p">()</span>
</pre></div>

</div>
</div>
</div>

<div class="output_wrapper">
<div class="output">


<div class="output_area">
<div class="prompt output_prompt">Out[31]:</div>


<div class="output_html rendered_html output_subarea output_execute_result">
<div style="max-height:1000px;max-width:1500px;overflow:auto;">
<table border="1" class="dataframe">
  <thead>
    <tr style="text-align: right;">
      <th></th>
      <th>rate_marriage</th>
      <th>age</th>
      <th>yrs_married</th>
      <th>children</th>
      <th>religious</th>
      <th>educ</th>
      <th>occ2</th>
      <th>occ3</th>
      <th>occ4</th>
      <th>occ5</th>
      <th>occ6</th>
      <th>hocc2</th>
      <th>hocc3</th>
      <th>hocc4</th>
      <th>hocc5</th>
      <th>hocc6</th>
    </tr>
  </thead>
  <tbody>
    <tr>
      <th>0</th>
      <td>3</td>
      <td>32</td>
      <td>9.0</td>
      <td>3</td>
      <td>3</td>
      <td>17</td>
      <td>1</td>
      <td>0</td>
      <td>0</td>
      <td>0</td>
      <td>0</td>
      <td>0</td>
      <td>0</td>
      <td>0</td>
      <td>1</td>
      <td>0</td>
    </tr>
    <tr>
      <th>1</th>
      <td>3</td>
      <td>27</td>
      <td>13.0</td>
      <td>3</td>
      <td>1</td>
      <td>14</td>
      <td>0</td>
      <td>1</td>
      <td>0</td>
      <td>0</td>
      <td>0</td>
      <td>0</td>
      <td>0</td>
      <td>1</td>
      <td>0</td>
      <td>0</td>
    </tr>
    <tr>
      <th>2</th>
      <td>4</td>
      <td>22</td>
      <td>2.5</td>
      <td>0</td>
      <td>1</td>
      <td>16</td>
      <td>0</td>
      <td>1</td>
      <td>0</td>
      <td>0</td>
      <td>0</td>
      <td>0</td>
      <td>0</td>
      <td>0</td>
      <td>1</td>
      <td>0</td>
    </tr>
    <tr>
      <th>3</th>
      <td>4</td>
      <td>37</td>
      <td>16.5</td>
      <td>4</td>
      <td>3</td>
      <td>16</td>
      <td>0</td>
      <td>0</td>
      <td>0</td>
      <td>1</td>
      <td>0</td>
      <td>0</td>
      <td>0</td>
      <td>0</td>
      <td>1</td>
      <td>0</td>
    </tr>
    <tr>
      <th>4</th>
      <td>5</td>
      <td>27</td>
      <td>9.0</td>
      <td>1</td>
      <td>1</td>
      <td>14</td>
      <td>0</td>
      <td>1</td>
      <td>0</td>
      <td>0</td>
      <td>0</td>
      <td>0</td>
      <td>0</td>
      <td>1</td>
      <td>0</td>
      <td>0</td>
    </tr>
  </tbody>
</table>
</div>
</div>

</div>

</div>
</div>

</div>
<div class="cell border-box-sizing code_cell rendered">
<div class="input">
<div class="prompt input_prompt">In&nbsp;[32]:</div>
<div class="inner_cell">
    <div class="input_area">
<div class=" highlight hl-ipython2"><pre><span></span><span class="n">Y</span><span class="o">.</span><span class="n">head</span><span class="p">()</span>
</pre></div>

</div>
</div>
</div>

<div class="output_wrapper">
<div class="output">


<div class="output_area">
<div class="prompt output_prompt">Out[32]:</div>



<div class="output_text output_subarea output_execute_result">
<pre>0    1
1    1
2    1
3    1
4    1
Name: Had_Affair, dtype: int64</pre>
</div>

</div>

</div>
</div>

</div>
<div class="cell border-box-sizing code_cell rendered">
<div class="input">
<div class="prompt input_prompt">In&nbsp;[33]:</div>
<div class="inner_cell">
    <div class="input_area">
<div class=" highlight hl-ipython2"><pre><span></span><span class="n">Y</span> <span class="o">=</span> <span class="n">np</span><span class="o">.</span><span class="n">ravel</span><span class="p">(</span><span class="n">Y</span><span class="p">)</span>

<span class="n">Y</span>
</pre></div>

</div>
</div>
</div>

<div class="output_wrapper">
<div class="output">


<div class="output_area">
<div class="prompt output_prompt">Out[33]:</div>



<div class="output_text output_subarea output_execute_result">
<pre>array([1, 1, 1, ..., 0, 0, 0], dtype=int64)</pre>
</div>

</div>

</div>
</div>

</div>
<div class="cell border-box-sizing code_cell rendered">
<div class="input">
<div class="prompt input_prompt">In&nbsp;[34]:</div>
<div class="inner_cell">
    <div class="input_area">
<div class=" highlight hl-ipython2"><pre><span></span><span class="n">log_model</span> <span class="o">=</span> <span class="n">LogisticRegression</span><span class="p">()</span>

<span class="n">log_model</span><span class="o">.</span><span class="n">fit</span><span class="p">(</span><span class="n">X</span><span class="p">,</span><span class="n">Y</span><span class="p">)</span>

<span class="n">log_model</span><span class="o">.</span><span class="n">score</span><span class="p">(</span><span class="n">X</span><span class="p">,</span><span class="n">Y</span><span class="p">)</span>
</pre></div>

</div>
</div>
</div>

<div class="output_wrapper">
<div class="output">


<div class="output_area">
<div class="prompt output_prompt">Out[34]:</div>



<div class="output_text output_subarea output_execute_result">
<pre>0.72588752748978946</pre>
</div>

</div>

</div>
</div>

</div>
<div class="cell border-box-sizing code_cell rendered">
<div class="input">
<div class="prompt input_prompt">In&nbsp;[36]:</div>
<div class="inner_cell">
    <div class="input_area">
<div class=" highlight hl-ipython2"><pre><span></span><span class="n">Y</span><span class="o">.</span><span class="n">mean</span><span class="p">()</span>
</pre></div>

</div>
</div>
</div>

<div class="output_wrapper">
<div class="output">


<div class="output_area">
<div class="prompt output_prompt">Out[36]:</div>



<div class="output_text output_subarea output_execute_result">
<pre>0.32249450204209867</pre>
</div>

</div>

</div>
</div>

</div>
<div class="cell border-box-sizing code_cell rendered">
<div class="input">
<div class="prompt input_prompt">In&nbsp;[37]:</div>
<div class="inner_cell">
    <div class="input_area">
<div class=" highlight hl-ipython2"><pre><span></span><span class="n">coeff_df</span> <span class="o">=</span> <span class="n">DataFrame</span><span class="p">(</span><span class="nb">zip</span><span class="p">(</span><span class="n">X</span><span class="o">.</span><span class="n">columns</span><span class="p">,</span><span class="n">np</span><span class="o">.</span><span class="n">transpose</span><span class="p">(</span><span class="n">log_model</span><span class="o">.</span><span class="n">coef_</span><span class="p">)))</span>
</pre></div>

</div>
</div>
</div>

</div>
<div class="cell border-box-sizing code_cell rendered">
<div class="input">
<div class="prompt input_prompt">In&nbsp;[38]:</div>
<div class="inner_cell">
    <div class="input_area">
<div class=" highlight hl-ipython2"><pre><span></span><span class="n">coeff_df</span>
</pre></div>

</div>
</div>
</div>

<div class="output_wrapper">
<div class="output">


<div class="output_area">
<div class="prompt output_prompt">Out[38]:</div>


<div class="output_html rendered_html output_subarea output_execute_result">
<div style="max-height:1000px;max-width:1500px;overflow:auto;">
<table border="1" class="dataframe">
  <thead>
    <tr style="text-align: right;">
      <th></th>
      <th>0</th>
      <th>1</th>
    </tr>
  </thead>
  <tbody>
    <tr>
      <th>0</th>
      <td>rate_marriage</td>
      <td>[-0.69751024616]</td>
    </tr>
    <tr>
      <th>1</th>
      <td>age</td>
      <td>[-0.0561916647628]</td>
    </tr>
    <tr>
      <th>2</th>
      <td>yrs_married</td>
      <td>[0.10377681236]</td>
    </tr>
    <tr>
      <th>3</th>
      <td>children</td>
      <td>[0.0182911397779]</td>
    </tr>
    <tr>
      <th>4</th>
      <td>religious</td>
      <td>[-0.36832290498]</td>
    </tr>
    <tr>
      <th>5</th>
      <td>educ</td>
      <td>[0.00890195753587]</td>
    </tr>
    <tr>
      <th>6</th>
      <td>occ2</td>
      <td>[0.296111837283]</td>
    </tr>
    <tr>
      <th>7</th>
      <td>occ3</td>
      <td>[0.606052332054]</td>
    </tr>
    <tr>
      <th>8</th>
      <td>occ4</td>
      <td>[0.343259482442]</td>
    </tr>
    <tr>
      <th>9</th>
      <td>occ5</td>
      <td>[0.94006396288]</td>
    </tr>
    <tr>
      <th>10</th>
      <td>occ6</td>
      <td>[0.919085673732]</td>
    </tr>
    <tr>
      <th>11</th>
      <td>hocc2</td>
      <td>[0.219634563784]</td>
    </tr>
    <tr>
      <th>12</th>
      <td>hocc3</td>
      <td>[0.323455986054]</td>
    </tr>
    <tr>
      <th>13</th>
      <td>hocc4</td>
      <td>[0.189038509875]</td>
    </tr>
    <tr>
      <th>14</th>
      <td>hocc5</td>
      <td>[0.212503714395]</td>
    </tr>
    <tr>
      <th>15</th>
      <td>hocc6</td>
      <td>[0.212868942457]</td>
    </tr>
  </tbody>
</table>
</div>
</div>

</div>

</div>
</div>

</div>
<div class="cell border-box-sizing code_cell rendered">
<div class="input">
<div class="prompt input_prompt">In&nbsp;[39]:</div>
<div class="inner_cell">
    <div class="input_area">
<div class=" highlight hl-ipython2"><pre><span></span><span class="n">X_train</span><span class="p">,</span><span class="n">X_test</span><span class="p">,</span><span class="n">Y_train</span><span class="p">,</span><span class="n">Y_test</span> <span class="o">=</span> <span class="n">train_test_split</span><span class="p">(</span><span class="n">X</span><span class="p">,</span><span class="n">Y</span><span class="p">)</span>
</pre></div>

</div>
</div>
</div>

</div>
<div class="cell border-box-sizing code_cell rendered">
<div class="input">
<div class="prompt input_prompt">In&nbsp;[40]:</div>
<div class="inner_cell">
    <div class="input_area">
<div class=" highlight hl-ipython2"><pre><span></span><span class="n">log_model2</span> <span class="o">=</span> <span class="n">LogisticRegression</span><span class="p">()</span>

<span class="n">log_model2</span><span class="o">.</span><span class="n">fit</span><span class="p">(</span><span class="n">X_train</span><span class="p">,</span><span class="n">Y_train</span><span class="p">)</span>
</pre></div>

</div>
</div>
</div>

<div class="output_wrapper">
<div class="output">


<div class="output_area">
<div class="prompt output_prompt">Out[40]:</div>



<div class="output_text output_subarea output_execute_result">
<pre>LogisticRegression(C=1.0, class_weight=None, dual=False, fit_intercept=True,
          intercept_scaling=1, penalty=&#39;l2&#39;, random_state=None, tol=0.0001)</pre>
</div>

</div>

</div>
</div>

</div>
<div class="cell border-box-sizing code_cell rendered">
<div class="input">
<div class="prompt input_prompt">In&nbsp;[41]:</div>
<div class="inner_cell">
    <div class="input_area">
<div class=" highlight hl-ipython2"><pre><span></span><span class="n">class_predict</span> <span class="o">=</span> <span class="n">log_model2</span><span class="o">.</span><span class="n">predict</span><span class="p">(</span><span class="n">X_test</span><span class="p">)</span>
</pre></div>

</div>
</div>
</div>

</div>
<div class="cell border-box-sizing code_cell rendered">
<div class="input">
<div class="prompt input_prompt">In&nbsp;[42]:</div>
<div class="inner_cell">
    <div class="input_area">
<div class=" highlight hl-ipython2"><pre><span></span><span class="k">print</span> <span class="n">metrics</span><span class="o">.</span><span class="n">accuracy_score</span><span class="p">(</span><span class="n">Y_test</span><span class="p">,</span><span class="n">class_predict</span><span class="p">)</span>
</pre></div>

</div>
</div>
</div>

<div class="output_wrapper">
<div class="output">


<div class="output_area">
<div class="prompt"></div>

<div class="output_subarea output_stream output_stdout output_text">
<pre>0.722361809045
</pre>
</div>
</div>

</div>
</div>

</div>
<div class="cell border-box-sizing code_cell rendered">
<div class="input">
<div class="prompt input_prompt">In&nbsp;[&nbsp;]:</div>
<div class="inner_cell">
    <div class="input_area">
<div class=" highlight hl-ipython2"><pre><span></span> 
</pre></div>

</div>
</div>
</div>

</div>
 


    </div>
  </div>

  </div>


  
    <footer class="footer hidden-print">
      <div class="container">
        <div class="col-md-4">
          <p>
            This website does not host notebooks, it only renders notebooks
            available on other websites.
          </p>
        </div>

        <div class="col-md-4">
          <p>
            Delivered by <a href="http://www.fastly.com/">Fastly</a>,
            Rendered by <a href="https://developer.rackspace.com/?nbviewer=awesome">Rackspace</a>
          </p>
          <p>
            nbviewer GitHub <a href="https://github.com/jupyter/nbviewer">repository</a>.
          </p>
        </div>

        <div class="col-md-4">
          
  
            
              <p>
                nbviewer version:
                <a href="https://github.com/jupyter/nbviewer/commit/4f5d1d8a2539c1c8dc92873d3a775d34f0a3d417">
                  4f5d1d8
                </a>
              </p>
            
          
  
  <p>
    nbconvert version: <a href="https://github.com/jupyter/nbconvert/releases/tag/5.1.1">
      5.1.1
    </a>
  </p>
  

          
  
  
  <p>
    Rendered
    <span class='date' data-date='Tue, 18 Apr 2017 21:59:49 UTC' title='Tue, 18 Apr 2017 21:59:49 UTC'>(Tue, 18 Apr 2017 21:59:49 UTC)</span>
  </p>
  

        </div>
      </div>
    </footer>
  

  <script src="https://unpkg.com/jupyter-js-widgets@2.0.*/dist/embed.js"></script>
  <script src="/static/components/bootstrap/js/bootstrap.min.js?v=5869c96cc8f19086aee625d670d741f9"></script>
  <script src="/static/components/headroom.js/dist/headroom.min.js?v=b0a311ea668f8e768ea375f4a7abb81c"></script>
  <script src="/static/components/headroom.js/dist/jQuery.headroom.min.js?v=f3a1bae118315d0c234afc74dc6aab71"></script>

  
  
  <script>
    $(function(){ $("#menubar").headroom({
      tolerance: 5,
      offset: 205,
      classes: {
        initial: "animated",
        pinned: "slideInDown",
        unpinned: "slideOutUp"
      }
    })});
  </script>


  
  <script>
    (function(i,s,o,g,r,a,m){i['GoogleAnalyticsObject']=r;i[r]=i[r]||function(){
      (i[r].q=i[r].q||[]).push(arguments)},i[r].l=1*new Date();a=s.createElement(o),
      m=s.getElementsByTagName(o)[0];a.async=1;a.src=g;m.parentNode.insertBefore(a,m)
    })(window,document,'script','https://www.google-analytics.com/analytics.js','ga');
    ga('create', 'UA-52617120-5', 'auto');
    ga('send', 'pageview');
  </script>
  
  <script>
    require({
        paths: {
          moment: "/static/components/moment/min/moment.min.js?v=89f87298ad94aa1e6b92f42eb66da043"
        }
      }, ["moment"], function(moment){
      var date = $("footer .date"),
        m = moment(new Date(date.data('date'))),
        update = function(){ date.text(m.fromNow()); };
      setInterval(update, 61*1000);
      update();
      var w = $(window).scroll(function(event){
        $("body").toggleClass("scrolled", w.scrollTop() > 0);
      });
    });
  </script>
  <!--NEW RELIC Stop Perf Measurement-->
  
  <!--NEW RELIC End-->
</body>
</html>